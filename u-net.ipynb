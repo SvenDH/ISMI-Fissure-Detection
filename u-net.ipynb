{
 "cells": [
  {
   "cell_type": "markdown",
   "metadata": {},
   "source": [
    "# Data loading\n",
    "\n",
    "Training data is distributed in 3 different folders (set a, b and c).\n",
    "Each file has its raw image (.mhd), lung mask (\\_lm.mhd), and fissure mask (\\_fm.mhd)."
   ]
  },
  {
   "cell_type": "code",
   "execution_count": 1,
   "metadata": {},
   "outputs": [
    {
     "name": "stderr",
     "output_type": "stream",
     "text": [
      "Using TensorFlow backend.\n"
     ]
    }
   ],
   "source": [
    "import os, random\n",
    "import ntpath\n",
    "import SimpleITK\n",
    "from matplotlib import pyplot as plt\n",
    "import pandas as pd\n",
    "import numpy as np\n",
    "from utils import PatchExtractor, BatchCreator\n",
    "import pickle\n",
    "\n",
    "from keras import backend as K\n",
    "from keras.engine import Input, Model\n",
    "from keras.layers import Conv3D, MaxPooling3D, Activation, Deconvolution3D, Cropping3D, UpSampling3D\n",
    "from keras.optimizers import Adam\n",
    "from keras.callbacks import Callback\n",
    "\n",
    "K.set_image_data_format(\"channels_first\")\n",
    "\n",
    "from keras.layers.merge import concatenate\n",
    "from sklearn.model_selection import StratifiedShuffleSplit\n"
   ]
  },
  {
   "cell_type": "markdown",
   "metadata": {},
   "source": [
    "# Load Dataset"
   ]
  },
  {
   "cell_type": "code",
   "execution_count": 2,
   "metadata": {},
   "outputs": [],
   "source": [
    "# Loading data from pickle:\n",
    "data = pd.read_pickle(\"NewDataLoading/train-data-filelist.pkl\")"
   ]
  },
  {
   "cell_type": "code",
   "execution_count": 3,
   "metadata": {},
   "outputs": [],
   "source": [
    "splitter = StratifiedShuffleSplit(1, test_size=0.1)"
   ]
  },
  {
   "cell_type": "code",
   "execution_count": 4,
   "metadata": {},
   "outputs": [],
   "source": [
    "for train_index, test_index in splitter.split(data, data['label'].values):\n",
    "    train_set = data.loc[train_index]\n",
    "    validation_set = data.loc[test_index]"
   ]
  },
  {
   "cell_type": "markdown",
   "metadata": {},
   "source": [
    "# Load Label Indices"
   ]
  },
  {
   "cell_type": "code",
   "execution_count": 5,
   "metadata": {},
   "outputs": [
    {
     "data": {
      "text/plain": [
       "100"
      ]
     },
     "execution_count": 5,
     "metadata": {},
     "output_type": "execute_result"
    }
   ],
   "source": [
    "patch_indices = pickle.load(open(\"patch_indices.p\",\"rb\"))\n",
    "x,y = patch_indices\n",
    "len(x)"
   ]
  },
  {
   "cell_type": "markdown",
   "metadata": {},
   "source": [
    "# Patch Generator"
   ]
  },
  {
   "cell_type": "code",
   "execution_count": 6,
   "metadata": {},
   "outputs": [],
   "source": [
    "patch_size = (132,132,116)\n",
    "patch_extractor = PatchExtractor(patch_size)\n",
    "batch_size = 32\n",
    "batch_division = (11,11)"
   ]
  },
  {
   "cell_type": "code",
   "execution_count": 7,
   "metadata": {},
   "outputs": [],
   "source": [
    "batch_creator = BatchCreator(patch_extractor, train_set, patch_indices, batch_division)\n",
    "train_generator = batch_creator.get_generator(batch_size)\n",
    "batch_creator = BatchCreator(patch_extractor, validation_set, patch_indices, batch_division)\n",
    "validation_generator = batch_creator.get_generator(batch_size)"
   ]
  },
  {
   "cell_type": "markdown",
   "metadata": {},
   "source": [
    "# U-net"
   ]
  },
  {
   "cell_type": "code",
   "execution_count": 8,
   "metadata": {},
   "outputs": [],
   "source": [
    "# Loss calculation for 3D U-net\n",
    "def dice_coefficient(y_true, y_pred, smooth=1.):\n",
    "    y_true_f = K.flatten(y_true)\n",
    "    y_pred_f = K.flatten(y_pred)\n",
    "    intersection = K.sum(y_true_f * y_pred_f)\n",
    "    return (2. * intersection + smooth) / (K.sum(y_true_f) + K.sum(y_pred_f) + smooth)\n",
    "\n",
    "def dice_coefficient_loss(y_true, y_pred):\n",
    "    return -dice_coefficient(y_true, y_pred)"
   ]
  },
  {
   "cell_type": "code",
   "execution_count": 9,
   "metadata": {},
   "outputs": [],
   "source": [
    "class Logger(Callback):\n",
    "\n",
    "    def __init__(self, validation_data, patch_size, stride=1):\n",
    "        self.val_imgs = pad(validation_data.imgs, patch_size) / 255.\n",
    "        self.val_lbls = downscale(validation_data.lbls, stride) > 0\n",
    "        self.val_msks = downscale(validation_data.msks, stride) > 0\n",
    "         \n",
    "        self.losses = []\n",
    "        self.dices = []\n",
    "        self.best_dice = 0\n",
    "        self.best_model = None\n",
    "    \n",
    "    def on_batch_end(self, batch, logs={}):\n",
    "        self.losses.append(logs.get('loss'))\n",
    "    \n",
    "    def on_epoch_end(self, batch, logs={}):\n",
    "        dice = self.validate()\n",
    "        self.dices.append([len(self.losses), dice])\n",
    "        if dice > self.best_dice:\n",
    "            self.best_dice = dice\n",
    "            self.best_model = self.model.get_weights()\n",
    "        self.plot()\n",
    "           \n",
    "    def validate(self):\n",
    "        predicted_lbls = self.model.predict(self.val_imgs, batch_size=1)[:,:,:,1]>0.5\n",
    "        x = self.val_lbls[self.val_msks]\n",
    "        y = predicted_lbls[self.val_msks]\n",
    "        return calculate_dice(x, y)\n",
    "    \n",
    "    def plot(self):\n",
    "        clear_output()\n",
    "        N = len(self.losses)\n",
    "        train_loss_plt, = plt.plot(range(0, N), self.losses)\n",
    "        dice_plt, = plt.plot(*np.array(self.dices).T)\n",
    "        plt.legend((train_loss_plt, dice_plt), \n",
    "                   ('training loss', 'validation dice'))\n",
    "        plt.show()"
   ]
  },
  {
   "cell_type": "code",
   "execution_count": 10,
   "metadata": {},
   "outputs": [],
   "source": [
    "def create_network(input_shape):\n",
    "    \n",
    "    levels = list()\n",
    "    inputs = Input(input_shape)\n",
    "    # Block 1\n",
    "    layer1 = Conv3D(32*(2**0), (3,3,3), padding='valid', strides=1)(inputs)\n",
    "    layer1 = Activation('relu')(layer1)\n",
    "    layer2 = Conv3D(32*(2**0), (3,3,3), padding='valid', strides=1)(layer1)\n",
    "    layer2 = Activation('relu')(layer2)\n",
    "    pool = MaxPooling3D(pool_size=(2,2,2))(layer2)\n",
    "    levels.append([layer1, layer2, pool])\n",
    "    # Block 2\n",
    "    layer1 = Conv3D(32*(2**1), (3,3,3), padding='valid', strides=1)(pool)\n",
    "    layer1 = Activation('relu')(layer1)\n",
    "    layer2 = Conv3D(32*(2**1), (3,3,3), padding='valid', strides=1)(layer1)\n",
    "    layer2 = Activation('relu')(layer2)\n",
    "    pool = MaxPooling3D(pool_size=(2,2,2))(layer2)\n",
    "    levels.append([layer1, layer2, pool])\n",
    "    # Block 3\n",
    "    layer1 = Conv3D(32*(2**2), (3,3,3), padding='valid', strides=1)(pool)\n",
    "    layer1 = Activation('relu')(layer1)\n",
    "    layer2 = Conv3D(32*(2**2), (3,3,3), padding='valid', strides=1)(layer1)\n",
    "    layer2 = Activation('relu')(layer2)\n",
    "    pool = MaxPooling3D(pool_size=(2,2,2))(layer2)\n",
    "    levels.append([layer1, layer2, pool])\n",
    "    # Block 4\n",
    "    layer1 = Conv3D(32*(2**3), (3,3,3), padding='valid', strides=1)(pool)\n",
    "    layer1 = Activation('relu')(layer1)\n",
    "    layer2 = Conv3D(32*(2**3), (3,3,3), padding='valid', strides=1)(layer1)\n",
    "    layer2 = Activation('relu')(layer2)\n",
    "    levels.append([layer1, layer2])\n",
    "\n",
    "    # Block 5\n",
    "    layer0 = UpSampling3D(size=2)(layer2)\n",
    "    #layer0 = Conv3D(32*(2**2), (2,2,2))(layer0)\n",
    "    crop = levels[2][1]\n",
    "    size = (crop._keras_shape[-3] - layer0._keras_shape[-3],\n",
    "            crop._keras_shape[-2] - layer0._keras_shape[-2], \n",
    "            crop._keras_shape[-1] - layer0._keras_shape[-1])\n",
    "    size = ((int(np.floor(size[0]/2)),int(np.ceil(size[0]/2))),\n",
    "            (int(np.floor(size[1]/2)),int(np.ceil(size[1]/2))),\n",
    "            (int(np.floor(size[2]/2)),int(np.ceil(size[2]/2))))\n",
    "    crop = Cropping3D(cropping=size)(crop)\n",
    "    concatenate([layer0, crop],axis=1)\n",
    "    layer1 = Conv3D(32*(2**2), (3,3,3), padding='valid', strides=1)(layer0)\n",
    "    layer1 = Activation('relu')(layer1)\n",
    "    layer2 = Conv3D(32*(2**2), (3,3,3), padding='valid', strides=1)(layer1)\n",
    "    layer2 = Activation('relu')(layer2)\n",
    "    # Block 6\n",
    "    layer0 = UpSampling3D(size=2)(layer2)\n",
    "    #layer0 = Conv3D(32*(2**1), (2,2,2))(layer0)\n",
    "    crop = levels[1][1]\n",
    "    size = (crop._keras_shape[-3] - layer0._keras_shape[-3],\n",
    "            crop._keras_shape[-2] - layer0._keras_shape[-2], \n",
    "            crop._keras_shape[-1] - layer0._keras_shape[-1])\n",
    "    size = ((int(np.floor(size[0]/2)),int(np.ceil(size[0]/2))),\n",
    "            (int(np.floor(size[1]/2)),int(np.ceil(size[1]/2))),\n",
    "            (int(np.floor(size[2]/2)),int(np.ceil(size[2]/2))))\n",
    "    crop = Cropping3D(cropping=size)(crop)\n",
    "    concatenate([layer0, crop],axis=1)\n",
    "    layer1 = Conv3D(32*(2**1), (3,3,3), padding='valid', strides=1)(layer0)\n",
    "    layer1 = Activation('relu')(layer1)\n",
    "    layer2 = Conv3D(32*(2**1), (3,3,3), padding='valid', strides=1)(layer1)\n",
    "    layer2 = Activation('relu')(layer2)\n",
    "    # Block 7\n",
    "    layer0 = UpSampling3D(size=2)(layer2)\n",
    "    #layer0 = Conv3D(32*(2**0), (2,2,2))(layer0)\n",
    "    crop = levels[0][1]\n",
    "    size = (crop._keras_shape[-3] - layer0._keras_shape[-3],\n",
    "            crop._keras_shape[-2] - layer0._keras_shape[-2], \n",
    "            crop._keras_shape[-1] - layer0._keras_shape[-1])\n",
    "    size = ((int(np.floor(size[0]/2)),int(np.ceil(size[0]/2))),\n",
    "            (int(np.floor(size[1]/2)),int(np.ceil(size[1]/2))),\n",
    "            (int(np.floor(size[2]/2)),int(np.ceil(size[2]/2))))\n",
    "    crop = Cropping3D(cropping=size)(crop)\n",
    "    concatenate([layer0, crop],axis=1)\n",
    "    layer1 = Conv3D(32*(2**0), (3,3,3), padding='valid', strides=1)(layer0)\n",
    "    layer1 = Activation('relu')(layer1)\n",
    "    layer2 = Conv3D(32*(2**0), (3,3,3), padding='valid', strides=1)(layer1)\n",
    "    layer2 = Activation('relu')(layer2)\n",
    "\n",
    "    final = Conv3D(3, (1, 1, 1))(layer2)\n",
    "    final = Activation('softmax')(final)\n",
    "    model = Model(inputs=inputs, outputs=final)\n",
    "\n",
    "    model.compile(optimizer=Adam(lr=0.00001), loss=dice_coefficient_loss, metrics=[dice_coefficient])\n",
    "    model.summary()\n",
    "    return model"
   ]
  },
  {
   "cell_type": "code",
   "execution_count": 23,
   "metadata": {},
   "outputs": [
    {
     "name": "stdout",
     "output_type": "stream",
     "text": [
      "_________________________________________________________________\n",
      "Layer (type)                 Output Shape              Param #   \n",
      "=================================================================\n",
      "input_13 (InputLayer)        (None, 1, 132, 132, 116)  0         \n",
      "_________________________________________________________________\n",
      "conv3d_181 (Conv3D)          (None, 32, 130, 130, 114) 896       \n",
      "_________________________________________________________________\n",
      "activation_181 (Activation)  (None, 32, 130, 130, 114) 0         \n",
      "_________________________________________________________________\n",
      "conv3d_182 (Conv3D)          (None, 32, 128, 128, 112) 27680     \n",
      "_________________________________________________________________\n",
      "activation_182 (Activation)  (None, 32, 128, 128, 112) 0         \n",
      "_________________________________________________________________\n",
      "max_pooling3d_37 (MaxPooling (None, 32, 64, 64, 56)    0         \n",
      "_________________________________________________________________\n",
      "conv3d_183 (Conv3D)          (None, 64, 62, 62, 54)    55360     \n",
      "_________________________________________________________________\n",
      "activation_183 (Activation)  (None, 64, 62, 62, 54)    0         \n",
      "_________________________________________________________________\n",
      "conv3d_184 (Conv3D)          (None, 64, 60, 60, 52)    110656    \n",
      "_________________________________________________________________\n",
      "activation_184 (Activation)  (None, 64, 60, 60, 52)    0         \n",
      "_________________________________________________________________\n",
      "max_pooling3d_38 (MaxPooling (None, 64, 30, 30, 26)    0         \n",
      "_________________________________________________________________\n",
      "conv3d_185 (Conv3D)          (None, 128, 28, 28, 24)   221312    \n",
      "_________________________________________________________________\n",
      "activation_185 (Activation)  (None, 128, 28, 28, 24)   0         \n",
      "_________________________________________________________________\n",
      "conv3d_186 (Conv3D)          (None, 128, 26, 26, 22)   442496    \n",
      "_________________________________________________________________\n",
      "activation_186 (Activation)  (None, 128, 26, 26, 22)   0         \n",
      "_________________________________________________________________\n",
      "max_pooling3d_39 (MaxPooling (None, 128, 13, 13, 11)   0         \n",
      "_________________________________________________________________\n",
      "conv3d_187 (Conv3D)          (None, 256, 11, 11, 9)    884992    \n",
      "_________________________________________________________________\n",
      "activation_187 (Activation)  (None, 256, 11, 11, 9)    0         \n",
      "_________________________________________________________________\n",
      "conv3d_188 (Conv3D)          (None, 256, 9, 9, 7)      1769728   \n",
      "_________________________________________________________________\n",
      "activation_188 (Activation)  (None, 256, 9, 9, 7)      0         \n",
      "_________________________________________________________________\n",
      "up_sampling3d_37 (UpSampling (None, 256, 18, 18, 14)   0         \n",
      "_________________________________________________________________\n",
      "conv3d_189 (Conv3D)          (None, 128, 16, 16, 12)   884864    \n",
      "_________________________________________________________________\n",
      "activation_189 (Activation)  (None, 128, 16, 16, 12)   0         \n",
      "_________________________________________________________________\n",
      "conv3d_190 (Conv3D)          (None, 128, 14, 14, 10)   442496    \n",
      "_________________________________________________________________\n",
      "activation_190 (Activation)  (None, 128, 14, 14, 10)   0         \n",
      "_________________________________________________________________\n",
      "up_sampling3d_38 (UpSampling (None, 128, 28, 28, 20)   0         \n",
      "_________________________________________________________________\n",
      "conv3d_191 (Conv3D)          (None, 64, 26, 26, 18)    221248    \n",
      "_________________________________________________________________\n",
      "activation_191 (Activation)  (None, 64, 26, 26, 18)    0         \n",
      "_________________________________________________________________\n",
      "conv3d_192 (Conv3D)          (None, 64, 24, 24, 16)    110656    \n",
      "_________________________________________________________________\n",
      "activation_192 (Activation)  (None, 64, 24, 24, 16)    0         \n",
      "_________________________________________________________________\n",
      "up_sampling3d_39 (UpSampling (None, 64, 48, 48, 32)    0         \n",
      "_________________________________________________________________\n",
      "conv3d_193 (Conv3D)          (None, 32, 46, 46, 30)    55328     \n",
      "_________________________________________________________________\n",
      "activation_193 (Activation)  (None, 32, 46, 46, 30)    0         \n",
      "_________________________________________________________________\n",
      "conv3d_194 (Conv3D)          (None, 32, 44, 44, 28)    27680     \n",
      "_________________________________________________________________\n",
      "activation_194 (Activation)  (None, 32, 44, 44, 28)    0         \n",
      "_________________________________________________________________\n",
      "conv3d_195 (Conv3D)          (None, 3, 44, 44, 28)     99        \n",
      "_________________________________________________________________\n",
      "activation_195 (Activation)  (None, 3, 44, 44, 28)     0         \n",
      "=================================================================\n",
      "Total params: 5,255,491\n",
      "Trainable params: 5,255,491\n",
      "Non-trainable params: 0\n",
      "_________________________________________________________________\n",
      "Epoch 1/100\n"
     ]
    },
    {
     "ename": "StopIteration",
     "evalue": "",
     "output_type": "error",
     "traceback": [
      "\u001b[0;31m---------------------------------------------------------------------------\u001b[0m",
      "\u001b[0;31mStopIteration\u001b[0m                             Traceback (most recent call last)",
      "\u001b[0;32m<ipython-input-23-b8f8ede5b164>\u001b[0m in \u001b[0;36m<module>\u001b[0;34m()\u001b[0m\n\u001b[1;32m      7\u001b[0m                     \u001b[0mvalidation_steps\u001b[0m\u001b[0;34m=\u001b[0m\u001b[0;36m1000\u001b[0m\u001b[0;34m,\u001b[0m\u001b[0;34m\u001b[0m\u001b[0m\n\u001b[1;32m      8\u001b[0m                     \u001b[0mmax_queue_size\u001b[0m\u001b[0;34m=\u001b[0m\u001b[0;36m1\u001b[0m\u001b[0;34m,\u001b[0m\u001b[0;34m\u001b[0m\u001b[0m\n\u001b[0;32m----> 9\u001b[0;31m                     verbose=1)\n\u001b[0m\u001b[1;32m     10\u001b[0m                     \u001b[0;31m#callbacks=[logger])\u001b[0m\u001b[0;34m\u001b[0m\u001b[0;34m\u001b[0m\u001b[0m\n",
      "\u001b[0;32m~/.local/lib/python3.5/site-packages/keras/legacy/interfaces.py\u001b[0m in \u001b[0;36mwrapper\u001b[0;34m(*args, **kwargs)\u001b[0m\n\u001b[1;32m     89\u001b[0m                 warnings.warn('Update your `' + object_name +\n\u001b[1;32m     90\u001b[0m                               '` call to the Keras 2 API: ' + signature, stacklevel=2)\n\u001b[0;32m---> 91\u001b[0;31m             \u001b[0;32mreturn\u001b[0m \u001b[0mfunc\u001b[0m\u001b[0;34m(\u001b[0m\u001b[0;34m*\u001b[0m\u001b[0margs\u001b[0m\u001b[0;34m,\u001b[0m \u001b[0;34m**\u001b[0m\u001b[0mkwargs\u001b[0m\u001b[0;34m)\u001b[0m\u001b[0;34m\u001b[0m\u001b[0m\n\u001b[0m\u001b[1;32m     92\u001b[0m         \u001b[0mwrapper\u001b[0m\u001b[0;34m.\u001b[0m\u001b[0m_original_function\u001b[0m \u001b[0;34m=\u001b[0m \u001b[0mfunc\u001b[0m\u001b[0;34m\u001b[0m\u001b[0m\n\u001b[1;32m     93\u001b[0m         \u001b[0;32mreturn\u001b[0m \u001b[0mwrapper\u001b[0m\u001b[0;34m\u001b[0m\u001b[0m\n",
      "\u001b[0;32m~/.local/lib/python3.5/site-packages/keras/engine/training.py\u001b[0m in \u001b[0;36mfit_generator\u001b[0;34m(self, generator, steps_per_epoch, epochs, verbose, callbacks, validation_data, validation_steps, class_weight, max_queue_size, workers, use_multiprocessing, shuffle, initial_epoch)\u001b[0m\n\u001b[1;32m   2190\u001b[0m                 \u001b[0mbatch_index\u001b[0m \u001b[0;34m=\u001b[0m \u001b[0;36m0\u001b[0m\u001b[0;34m\u001b[0m\u001b[0m\n\u001b[1;32m   2191\u001b[0m                 \u001b[0;32mwhile\u001b[0m \u001b[0msteps_done\u001b[0m \u001b[0;34m<\u001b[0m \u001b[0msteps_per_epoch\u001b[0m\u001b[0;34m:\u001b[0m\u001b[0;34m\u001b[0m\u001b[0m\n\u001b[0;32m-> 2192\u001b[0;31m                     \u001b[0mgenerator_output\u001b[0m \u001b[0;34m=\u001b[0m \u001b[0mnext\u001b[0m\u001b[0;34m(\u001b[0m\u001b[0moutput_generator\u001b[0m\u001b[0;34m)\u001b[0m\u001b[0;34m\u001b[0m\u001b[0m\n\u001b[0m\u001b[1;32m   2193\u001b[0m \u001b[0;34m\u001b[0m\u001b[0m\n\u001b[1;32m   2194\u001b[0m                     \u001b[0;32mif\u001b[0m \u001b[0;32mnot\u001b[0m \u001b[0mhasattr\u001b[0m\u001b[0;34m(\u001b[0m\u001b[0mgenerator_output\u001b[0m\u001b[0;34m,\u001b[0m \u001b[0;34m'__len__'\u001b[0m\u001b[0;34m)\u001b[0m\u001b[0;34m:\u001b[0m\u001b[0;34m\u001b[0m\u001b[0m\n",
      "\u001b[0;32m~/.local/lib/python3.5/site-packages/keras/utils/data_utils.py\u001b[0m in \u001b[0;36mget\u001b[0;34m(self)\u001b[0m\n\u001b[1;32m    783\u001b[0m                 \u001b[0mall_finished\u001b[0m \u001b[0;34m=\u001b[0m \u001b[0mall\u001b[0m\u001b[0;34m(\u001b[0m\u001b[0;34m[\u001b[0m\u001b[0;32mnot\u001b[0m \u001b[0mthread\u001b[0m\u001b[0;34m.\u001b[0m\u001b[0mis_alive\u001b[0m\u001b[0;34m(\u001b[0m\u001b[0;34m)\u001b[0m \u001b[0;32mfor\u001b[0m \u001b[0mthread\u001b[0m \u001b[0;32min\u001b[0m \u001b[0mself\u001b[0m\u001b[0;34m.\u001b[0m\u001b[0m_threads\u001b[0m\u001b[0;34m]\u001b[0m\u001b[0;34m)\u001b[0m\u001b[0;34m\u001b[0m\u001b[0m\n\u001b[1;32m    784\u001b[0m                 \u001b[0;32mif\u001b[0m \u001b[0mall_finished\u001b[0m \u001b[0;32mand\u001b[0m \u001b[0mself\u001b[0m\u001b[0;34m.\u001b[0m\u001b[0mqueue\u001b[0m\u001b[0;34m.\u001b[0m\u001b[0mempty\u001b[0m\u001b[0;34m(\u001b[0m\u001b[0;34m)\u001b[0m\u001b[0;34m:\u001b[0m\u001b[0;34m\u001b[0m\u001b[0m\n\u001b[0;32m--> 785\u001b[0;31m                     \u001b[0;32mraise\u001b[0m \u001b[0mStopIteration\u001b[0m\u001b[0;34m(\u001b[0m\u001b[0;34m)\u001b[0m\u001b[0;34m\u001b[0m\u001b[0m\n\u001b[0m\u001b[1;32m    786\u001b[0m                 \u001b[0;32melse\u001b[0m\u001b[0;34m:\u001b[0m\u001b[0;34m\u001b[0m\u001b[0m\n\u001b[1;32m    787\u001b[0m                     \u001b[0mtime\u001b[0m\u001b[0;34m.\u001b[0m\u001b[0msleep\u001b[0m\u001b[0;34m(\u001b[0m\u001b[0mself\u001b[0m\u001b[0;34m.\u001b[0m\u001b[0mwait_time\u001b[0m\u001b[0;34m)\u001b[0m\u001b[0;34m\u001b[0m\u001b[0m\n",
      "\u001b[0;31mStopIteration\u001b[0m: "
     ]
    }
   ],
   "source": [
    "model = create_network([1,132,132,116])\n",
    "#logger = Logger(data, patch_size, stride=88) #on training data instead of validation data\n",
    "model.fit_generator(generator=train_generator,\n",
    "                    validation_data=validation_generator,\n",
    "                    steps_per_epoch=1000,\n",
    "                    epochs=100,\n",
    "                    validation_steps=1000,\n",
    "                    max_queue_size=1, \n",
    "                    verbose=1)\n",
    "                    #callbacks=[logger])"
   ]
  },
  {
   "cell_type": "code",
   "execution_count": null,
   "metadata": {},
   "outputs": [],
   "source": []
  },
  {
   "cell_type": "code",
   "execution_count": null,
   "metadata": {},
   "outputs": [],
   "source": []
  }
 ],
 "metadata": {
  "kernelspec": {
   "display_name": "Python 3",
   "language": "python",
   "name": "python3"
  },
  "language_info": {
   "codemirror_mode": {
    "name": "ipython",
    "version": 3
   },
   "file_extension": ".py",
   "mimetype": "text/x-python",
   "name": "python",
   "nbconvert_exporter": "python",
   "pygments_lexer": "ipython3",
   "version": "3.5.2"
  }
 },
 "nbformat": 4,
 "nbformat_minor": 2
}
