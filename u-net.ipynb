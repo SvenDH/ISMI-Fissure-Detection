{
 "cells": [
  {
   "cell_type": "markdown",
   "metadata": {},
   "source": [
    "# Data loading\n",
    "\n",
    "Training data is distributed in 3 different folders (set a, b and c).\n",
    "Each file has its raw image (.mhd), lung mask (\\_lm.mhd), and fissure mask (\\_fm.mhd)."
   ]
  },
  {
   "cell_type": "code",
   "execution_count": 1,
   "metadata": {},
   "outputs": [
    {
     "name": "stderr",
     "output_type": "stream",
     "text": [
      "Using TensorFlow backend.\n"
     ]
    }
   ],
   "source": [
    "import os, random\n",
    "import ntpath\n",
    "import SimpleITK\n",
    "from matplotlib import pyplot as plt\n",
    "import pandas as pd\n",
    "import numpy as np\n",
    "from utils import PatchExtractor, BatchCreator #custom file for utilities\n",
    "import callbacks #custom file for callbacks\n",
    "import pickle\n",
    "import time\n",
    "\n",
    "from keras import backend as K\n",
    "from keras.engine import Input, Model\n",
    "from keras.layers import Conv3D, MaxPooling3D, Activation, Deconvolution3D, Cropping3D, UpSampling3D, BatchNormalization\n",
    "from keras.optimizers import Adam\n",
    "from keras.callbacks import ModelCheckpoint, TensorBoard\n",
    "\n",
    "\n",
    "from keras.layers.merge import concatenate\n",
    "from sklearn.model_selection import StratifiedShuffleSplit\n",
    "\n",
    "K.set_image_data_format('channels_last')"
   ]
  },
  {
   "cell_type": "markdown",
   "metadata": {},
   "source": [
    "# Load Dataset"
   ]
  },
  {
   "cell_type": "code",
   "execution_count": 2,
   "metadata": {},
   "outputs": [],
   "source": [
    "# Loading data from pickle:\n",
    "data = pd.read_pickle(\"NewDataLoading/train-data-filelist.pkl\")"
   ]
  },
  {
   "cell_type": "code",
   "execution_count": 3,
   "metadata": {},
   "outputs": [],
   "source": [
    "splitter = StratifiedShuffleSplit(1, test_size=0.1)"
   ]
  },
  {
   "cell_type": "code",
   "execution_count": 4,
   "metadata": {},
   "outputs": [],
   "source": [
    "for train_index, test_index in splitter.split(data, data['label'].values):\n",
    "    train_set = data.loc[train_index]\n",
    "    validation_set = data.loc[test_index]"
   ]
  },
  {
   "cell_type": "markdown",
   "metadata": {},
   "source": [
    "# Load Label Indices"
   ]
  },
  {
   "cell_type": "code",
   "execution_count": 5,
   "metadata": {},
   "outputs": [],
   "source": [
    "patch_indices = pickle.load(open(\"patch_indices.p\",\"rb\"))\n",
    "x,y = patch_indices"
   ]
  },
  {
   "cell_type": "markdown",
   "metadata": {},
   "source": [
    "# Patch Generator"
   ]
  },
  {
   "cell_type": "code",
   "execution_count": 6,
   "metadata": {},
   "outputs": [],
   "source": [
    "patch_size = (132,132,116) # smallest possible patch size is (108,108,108)\n",
    "output_shape = (44,44,28) # smallest possible output shape is (20,20,20)\n",
    "patch_extractor = PatchExtractor(patch_size, output_shape)\n",
    "batch_size = 16 # 16 is max due to gpu memory errors\n",
    "batch_division = (np.ceil(batch_size/3),np.ceil(batch_size/3))"
   ]
  },
  {
   "cell_type": "code",
   "execution_count": 7,
   "metadata": {},
   "outputs": [
    {
     "name": "stdout",
     "output_type": "stream",
     "text": [
      "x: (16, 132, 132, 116, 1)\n",
      "y: (16, 44, 44, 28, 1)\n"
     ]
    }
   ],
   "source": [
    "batch_creator = BatchCreator(patch_extractor, train_set, patch_indices, batch_division)\n",
    "x,y = batch_creator.create_batch(batch_size) # batch testing\n",
    "print('x: {}'.format(x.shape))\n",
    "print('y: {}'.format(y.shape))\n",
    "train_generator = batch_creator.get_generator(batch_size)\n",
    "batch_creator = BatchCreator(patch_extractor, validation_set, patch_indices, batch_division)\n",
    "validation_generator = batch_creator.get_generator(batch_size)"
   ]
  },
  {
   "cell_type": "markdown",
   "metadata": {},
   "source": [
    "# U-net"
   ]
  },
  {
   "cell_type": "code",
   "execution_count": 8,
   "metadata": {},
   "outputs": [],
   "source": [
    "# Loss calculation for 3D U-net\n",
    "def dice_coefficient(y_true, y_pred, smooth=1.):\n",
    "    bglabel = 0\n",
    "    cflabel = 2\n",
    "    iflabel = 4\n",
    "    importance_factors = [0.001, 0.5, 0.5]\n",
    "    y_true_f = K.flatten(y_true)\n",
    "    y_pred_f = K.flatten(y_pred)\n",
    "    \n",
    "    penalty_mask = (y_true_f == bglabel) * importance_factors[0] \n",
    "    + (y_true_f == cflabel) * importance_factors[1] \n",
    "    + (y_true_f == iflabel) * importance_factors[2] \n",
    "    \n",
    "    intersection = K.sum(y_true_f * y_pred_f)\n",
    "    return (2. * intersection + smooth) / (K.sum(y_true_f) + K.sum(y_pred_f) + smooth)\n",
    "\n",
    "def dice_coefficient_loss(y_true, y_pred):\n",
    "    return -dice_coefficient(y_true, y_pred)"
   ]
  },
  {
   "cell_type": "code",
   "execution_count": 9,
   "metadata": {},
   "outputs": [],
   "source": [
    "def create_network(input_shape, features=32):\n",
    "    \n",
    "    # Downward path\n",
    "    \n",
    "    levels = list()\n",
    "    inputs = Input(input_shape)\n",
    "    # Block 1\n",
    "    layer1 = Conv3D(features*(2**0), (3,3,3), padding='valid', strides=1)(inputs)\n",
    "    layer1 = BatchNormalization()(layer1)\n",
    "    layer1 = Activation('relu')(layer1)\n",
    "    layer2 = Conv3D(features*(2**0), (3,3,3), padding='valid', strides=1)(layer1)\n",
    "    layer2 = BatchNormalization()(layer2)\n",
    "    layer2 = Activation('relu')(layer2)\n",
    "    pool = MaxPooling3D(pool_size=(2,2,2))(layer2)\n",
    "    levels.append([layer1, layer2, pool])\n",
    "    # Block 2\n",
    "    layer1 = Conv3D(features*(2**1), (3,3,3), padding='valid', strides=1)(pool)\n",
    "    layer1 = BatchNormalization()(layer1)\n",
    "    layer1 = Activation('relu')(layer1)\n",
    "    layer2 = Conv3D(features*(2**1), (3,3,3), padding='valid', strides=1)(layer1)\n",
    "    layer2 = BatchNormalization()(layer2)\n",
    "    layer2 = Activation('relu')(layer2)\n",
    "    pool = MaxPooling3D(pool_size=(2,2,2))(layer2)\n",
    "    levels.append([layer1, layer2, pool])\n",
    "    # Block 3\n",
    "    layer1 = Conv3D(features*(2**2), (3,3,3), padding='valid', strides=1)(pool)\n",
    "    layer1 = BatchNormalization()(layer1)\n",
    "    layer1 = Activation('relu')(layer1)\n",
    "    layer2 = Conv3D(features*(2**2), (3,3,3), padding='valid', strides=1)(layer1)\n",
    "    layer2 = BatchNormalization()(layer2)\n",
    "    layer2 = Activation('relu')(layer2)\n",
    "    pool = MaxPooling3D(pool_size=(2,2,2))(layer2)\n",
    "    levels.append([layer1, layer2, pool])\n",
    "    # Block 4\n",
    "    layer1 = Conv3D(features*(2**3), (3,3,3), padding='valid', strides=1)(pool)\n",
    "    layer1 = BatchNormalization()(layer1)\n",
    "    layer1 = Activation('relu')(layer1)\n",
    "    layer2 = Conv3D(features*(2**3), (3,3,3), padding='valid', strides=1)(layer1)\n",
    "    layer2 = BatchNormalization()(layer2)\n",
    "    layer2 = Activation('relu')(layer2)\n",
    "    levels.append([layer1, layer2])\n",
    "\n",
    "    # Block 5\n",
    "    layer0 = UpSampling3D(size=2)(layer2)\n",
    "    #layer0 = Conv3D(32*(2**2), (2,2,2))(layer0)\n",
    "    crop = levels[2][1]\n",
    "    size = (crop._keras_shape[-4] - layer0._keras_shape[-4],\n",
    "            crop._keras_shape[-3] - layer0._keras_shape[-3], \n",
    "            crop._keras_shape[-2] - layer0._keras_shape[-2])\n",
    "    size = ((int(np.floor(size[0]/2)),int(np.ceil(size[0]/2))),\n",
    "            (int(np.floor(size[1]/2)),int(np.ceil(size[1]/2))),\n",
    "            (int(np.floor(size[2]/2)),int(np.ceil(size[2]/2))))\n",
    "    crop = Cropping3D(cropping=size)(crop)\n",
    "    concatenate([layer0, crop],axis=4)\n",
    "    layer1 = Conv3D(features*(2**2), (3,3,3), padding='valid', strides=1)(layer0)\n",
    "    layer1 = BatchNormalization()(layer1)\n",
    "    layer1 = Activation('relu')(layer1)\n",
    "    layer2 = Conv3D(features*(2**2), (3,3,3), padding='valid', strides=1)(layer1)\n",
    "    layer2 = BatchNormalization()(layer2)\n",
    "    layer2 = Activation('relu')(layer2)\n",
    "    \n",
    "    # Upward path\n",
    "    \n",
    "    # Block 6\n",
    "    layer0 = UpSampling3D(size=2)(layer2)\n",
    "    #layer0 = Conv3D(32*(2**1), (2,2,2))(layer0)\n",
    "    crop = levels[1][1]\n",
    "    size = (crop._keras_shape[-4] - layer0._keras_shape[-4],\n",
    "            crop._keras_shape[-3] - layer0._keras_shape[-3], \n",
    "            crop._keras_shape[-2] - layer0._keras_shape[-2])\n",
    "    size = ((int(np.floor(size[0]/2)),int(np.ceil(size[0]/2))),\n",
    "            (int(np.floor(size[1]/2)),int(np.ceil(size[1]/2))),\n",
    "            (int(np.floor(size[2]/2)),int(np.ceil(size[2]/2))))\n",
    "    crop = Cropping3D(cropping=size)(crop)\n",
    "    concatenate([layer0, crop],axis=4)\n",
    "    layer1 = Conv3D(features*(2**1), (3,3,3), padding='valid', strides=1)(layer0)\n",
    "    layer1 = BatchNormalization()(layer1)\n",
    "    layer1 = Activation('relu')(layer1)\n",
    "    layer2 = Conv3D(features*(2**1), (3,3,3), padding='valid', strides=1)(layer1)\n",
    "    layer2 = BatchNormalization()(layer2)\n",
    "    layer2 = Activation('relu')(layer2)\n",
    "    # Block 7\n",
    "    layer0 = UpSampling3D(size=2)(layer2)\n",
    "    #layer0 = Conv3D(32*(2**0), (2,2,2))(layer0)\n",
    "    crop = levels[0][1]\n",
    "    size = (crop._keras_shape[-4] - layer0._keras_shape[-4],\n",
    "            crop._keras_shape[-3] - layer0._keras_shape[-3], \n",
    "            crop._keras_shape[-2] - layer0._keras_shape[-2])\n",
    "    size = ((int(np.floor(size[0]/2)),int(np.ceil(size[0]/2))),\n",
    "            (int(np.floor(size[1]/2)),int(np.ceil(size[1]/2))),\n",
    "            (int(np.floor(size[2]/2)),int(np.ceil(size[2]/2))))\n",
    "    crop = Cropping3D(cropping=size)(crop)\n",
    "    concatenate([layer0, crop],axis=4)\n",
    "    layer1 = Conv3D(features*(2**0), (3,3,3), padding='valid', strides=1)(layer0)\n",
    "    layer1 = BatchNormalization()(layer1)\n",
    "    layer1 = Activation('relu')(layer1)\n",
    "    layer2 = Conv3D(features*(2**0), (3,3,3), padding='valid', strides=1)(layer1)\n",
    "    layer2 = BatchNormalization()(layer2)\n",
    "    layer2 = Activation('relu')(layer2)\n",
    "\n",
    "    final = Conv3D(1, (1, 1, 1))(layer2) # 1 output channel due to segmentation image being grayscale like input image patch\n",
    "    final = Activation('softmax')(final)\n",
    "    model = Model(inputs=inputs, outputs=final)\n",
    "\n",
    "    model.compile(optimizer=Adam(lr=0.0001), loss=dice_coefficient_loss, metrics=[dice_coefficient])\n",
    "    model.summary()\n",
    "    return model"
   ]
  },
  {
   "cell_type": "code",
   "execution_count": 10,
   "metadata": {},
   "outputs": [
    {
     "name": "stdout",
     "output_type": "stream",
     "text": [
      "_________________________________________________________________\n",
      "Layer (type)                 Output Shape              Param #   \n",
      "=================================================================\n",
      "input_1 (InputLayer)         (None, 132, 132, 116, 1)  0         \n",
      "_________________________________________________________________\n",
      "conv3d_1 (Conv3D)            (None, 130, 130, 114, 8)  224       \n",
      "_________________________________________________________________\n",
      "batch_normalization_1 (Batch (None, 130, 130, 114, 8)  32        \n",
      "_________________________________________________________________\n",
      "activation_1 (Activation)    (None, 130, 130, 114, 8)  0         \n",
      "_________________________________________________________________\n",
      "conv3d_2 (Conv3D)            (None, 128, 128, 112, 8)  1736      \n",
      "_________________________________________________________________\n",
      "batch_normalization_2 (Batch (None, 128, 128, 112, 8)  32        \n",
      "_________________________________________________________________\n",
      "activation_2 (Activation)    (None, 128, 128, 112, 8)  0         \n",
      "_________________________________________________________________\n",
      "max_pooling3d_1 (MaxPooling3 (None, 64, 64, 56, 8)     0         \n",
      "_________________________________________________________________\n",
      "conv3d_3 (Conv3D)            (None, 62, 62, 54, 16)    3472      \n",
      "_________________________________________________________________\n",
      "batch_normalization_3 (Batch (None, 62, 62, 54, 16)    64        \n",
      "_________________________________________________________________\n",
      "activation_3 (Activation)    (None, 62, 62, 54, 16)    0         \n",
      "_________________________________________________________________\n",
      "conv3d_4 (Conv3D)            (None, 60, 60, 52, 16)    6928      \n",
      "_________________________________________________________________\n",
      "batch_normalization_4 (Batch (None, 60, 60, 52, 16)    64        \n",
      "_________________________________________________________________\n",
      "activation_4 (Activation)    (None, 60, 60, 52, 16)    0         \n",
      "_________________________________________________________________\n",
      "max_pooling3d_2 (MaxPooling3 (None, 30, 30, 26, 16)    0         \n",
      "_________________________________________________________________\n",
      "conv3d_5 (Conv3D)            (None, 28, 28, 24, 32)    13856     \n",
      "_________________________________________________________________\n",
      "batch_normalization_5 (Batch (None, 28, 28, 24, 32)    128       \n",
      "_________________________________________________________________\n",
      "activation_5 (Activation)    (None, 28, 28, 24, 32)    0         \n",
      "_________________________________________________________________\n",
      "conv3d_6 (Conv3D)            (None, 26, 26, 22, 32)    27680     \n",
      "_________________________________________________________________\n",
      "batch_normalization_6 (Batch (None, 26, 26, 22, 32)    128       \n",
      "_________________________________________________________________\n",
      "activation_6 (Activation)    (None, 26, 26, 22, 32)    0         \n",
      "_________________________________________________________________\n",
      "max_pooling3d_3 (MaxPooling3 (None, 13, 13, 11, 32)    0         \n",
      "_________________________________________________________________\n",
      "conv3d_7 (Conv3D)            (None, 11, 11, 9, 64)     55360     \n",
      "_________________________________________________________________\n",
      "batch_normalization_7 (Batch (None, 11, 11, 9, 64)     256       \n",
      "_________________________________________________________________\n",
      "activation_7 (Activation)    (None, 11, 11, 9, 64)     0         \n",
      "_________________________________________________________________\n",
      "conv3d_8 (Conv3D)            (None, 9, 9, 7, 64)       110656    \n",
      "_________________________________________________________________\n",
      "batch_normalization_8 (Batch (None, 9, 9, 7, 64)       256       \n",
      "_________________________________________________________________\n",
      "activation_8 (Activation)    (None, 9, 9, 7, 64)       0         \n",
      "_________________________________________________________________\n",
      "up_sampling3d_1 (UpSampling3 (None, 18, 18, 14, 64)    0         \n",
      "_________________________________________________________________\n",
      "conv3d_9 (Conv3D)            (None, 16, 16, 12, 32)    55328     \n",
      "_________________________________________________________________\n",
      "batch_normalization_9 (Batch (None, 16, 16, 12, 32)    128       \n",
      "_________________________________________________________________\n",
      "activation_9 (Activation)    (None, 16, 16, 12, 32)    0         \n",
      "_________________________________________________________________\n",
      "conv3d_10 (Conv3D)           (None, 14, 14, 10, 32)    27680     \n",
      "_________________________________________________________________\n",
      "batch_normalization_10 (Batc (None, 14, 14, 10, 32)    128       \n",
      "_________________________________________________________________\n",
      "activation_10 (Activation)   (None, 14, 14, 10, 32)    0         \n",
      "_________________________________________________________________\n",
      "up_sampling3d_2 (UpSampling3 (None, 28, 28, 20, 32)    0         \n",
      "_________________________________________________________________\n",
      "conv3d_11 (Conv3D)           (None, 26, 26, 18, 16)    13840     \n",
      "_________________________________________________________________\n",
      "batch_normalization_11 (Batc (None, 26, 26, 18, 16)    64        \n",
      "_________________________________________________________________\n",
      "activation_11 (Activation)   (None, 26, 26, 18, 16)    0         \n",
      "_________________________________________________________________\n",
      "conv3d_12 (Conv3D)           (None, 24, 24, 16, 16)    6928      \n",
      "_________________________________________________________________\n",
      "batch_normalization_12 (Batc (None, 24, 24, 16, 16)    64        \n",
      "_________________________________________________________________\n",
      "activation_12 (Activation)   (None, 24, 24, 16, 16)    0         \n",
      "_________________________________________________________________\n",
      "up_sampling3d_3 (UpSampling3 (None, 48, 48, 32, 16)    0         \n",
      "_________________________________________________________________\n",
      "conv3d_13 (Conv3D)           (None, 46, 46, 30, 8)     3464      \n",
      "_________________________________________________________________\n",
      "batch_normalization_13 (Batc (None, 46, 46, 30, 8)     32        \n",
      "_________________________________________________________________\n",
      "activation_13 (Activation)   (None, 46, 46, 30, 8)     0         \n",
      "_________________________________________________________________\n",
      "conv3d_14 (Conv3D)           (None, 44, 44, 28, 8)     1736      \n",
      "_________________________________________________________________\n",
      "batch_normalization_14 (Batc (None, 44, 44, 28, 8)     32        \n",
      "_________________________________________________________________\n",
      "activation_14 (Activation)   (None, 44, 44, 28, 8)     0         \n",
      "_________________________________________________________________\n",
      "conv3d_15 (Conv3D)           (None, 44, 44, 28, 1)     9         \n",
      "_________________________________________________________________\n",
      "activation_15 (Activation)   (None, 44, 44, 28, 1)     0         \n",
      "=================================================================\n",
      "Total params: 330,305\n",
      "Trainable params: 329,601\n",
      "Non-trainable params: 704\n",
      "_________________________________________________________________\n",
      "Epoch 1/10\n",
      " 6/90 [=>............................] - ETA: 13:26 - loss: -0.1061 - dice_coefficient: 0.1061"
     ]
    },
    {
     "ename": "KeyboardInterrupt",
     "evalue": "",
     "output_type": "error",
     "traceback": [
      "\u001b[0;31m---------------------------------------------------------------------------\u001b[0m",
      "\u001b[0;31mKeyboardInterrupt\u001b[0m                         Traceback (most recent call last)",
      "\u001b[0;32m<ipython-input-10-229fadaa133f>\u001b[0m in \u001b[0;36m<module>\u001b[0;34m()\u001b[0m\n\u001b[1;32m     12\u001b[0m                     \u001b[0mepochs\u001b[0m\u001b[0;34m=\u001b[0m\u001b[0;36m10\u001b[0m\u001b[0;34m,\u001b[0m\u001b[0;34m\u001b[0m\u001b[0m\n\u001b[1;32m     13\u001b[0m                     \u001b[0mvalidation_steps\u001b[0m\u001b[0;34m=\u001b[0m\u001b[0;36m10\u001b[0m\u001b[0;34m,\u001b[0m\u001b[0;34m\u001b[0m\u001b[0m\n\u001b[0;32m---> 14\u001b[0;31m                     callbacks=[modelcheck])\n\u001b[0m",
      "\u001b[0;32m~/.local/lib/python3.5/site-packages/keras/legacy/interfaces.py\u001b[0m in \u001b[0;36mwrapper\u001b[0;34m(*args, **kwargs)\u001b[0m\n\u001b[1;32m     89\u001b[0m                 warnings.warn('Update your `' + object_name +\n\u001b[1;32m     90\u001b[0m                               '` call to the Keras 2 API: ' + signature, stacklevel=2)\n\u001b[0;32m---> 91\u001b[0;31m             \u001b[0;32mreturn\u001b[0m \u001b[0mfunc\u001b[0m\u001b[0;34m(\u001b[0m\u001b[0;34m*\u001b[0m\u001b[0margs\u001b[0m\u001b[0;34m,\u001b[0m \u001b[0;34m**\u001b[0m\u001b[0mkwargs\u001b[0m\u001b[0;34m)\u001b[0m\u001b[0;34m\u001b[0m\u001b[0m\n\u001b[0m\u001b[1;32m     92\u001b[0m         \u001b[0mwrapper\u001b[0m\u001b[0;34m.\u001b[0m\u001b[0m_original_function\u001b[0m \u001b[0;34m=\u001b[0m \u001b[0mfunc\u001b[0m\u001b[0;34m\u001b[0m\u001b[0m\n\u001b[1;32m     93\u001b[0m         \u001b[0;32mreturn\u001b[0m \u001b[0mwrapper\u001b[0m\u001b[0;34m\u001b[0m\u001b[0m\n",
      "\u001b[0;32m~/.local/lib/python3.5/site-packages/keras/engine/training.py\u001b[0m in \u001b[0;36mfit_generator\u001b[0;34m(self, generator, steps_per_epoch, epochs, verbose, callbacks, validation_data, validation_steps, class_weight, max_queue_size, workers, use_multiprocessing, shuffle, initial_epoch)\u001b[0m\n\u001b[1;32m   2222\u001b[0m                     outs = self.train_on_batch(x, y,\n\u001b[1;32m   2223\u001b[0m                                                \u001b[0msample_weight\u001b[0m\u001b[0;34m=\u001b[0m\u001b[0msample_weight\u001b[0m\u001b[0;34m,\u001b[0m\u001b[0;34m\u001b[0m\u001b[0m\n\u001b[0;32m-> 2224\u001b[0;31m                                                class_weight=class_weight)\n\u001b[0m\u001b[1;32m   2225\u001b[0m \u001b[0;34m\u001b[0m\u001b[0m\n\u001b[1;32m   2226\u001b[0m                     \u001b[0;32mif\u001b[0m \u001b[0;32mnot\u001b[0m \u001b[0misinstance\u001b[0m\u001b[0;34m(\u001b[0m\u001b[0mouts\u001b[0m\u001b[0;34m,\u001b[0m \u001b[0mlist\u001b[0m\u001b[0;34m)\u001b[0m\u001b[0;34m:\u001b[0m\u001b[0;34m\u001b[0m\u001b[0m\n",
      "\u001b[0;32m~/.local/lib/python3.5/site-packages/keras/engine/training.py\u001b[0m in \u001b[0;36mtrain_on_batch\u001b[0;34m(self, x, y, sample_weight, class_weight)\u001b[0m\n\u001b[1;32m   1881\u001b[0m             \u001b[0mins\u001b[0m \u001b[0;34m=\u001b[0m \u001b[0mx\u001b[0m \u001b[0;34m+\u001b[0m \u001b[0my\u001b[0m \u001b[0;34m+\u001b[0m \u001b[0msample_weights\u001b[0m\u001b[0;34m\u001b[0m\u001b[0m\n\u001b[1;32m   1882\u001b[0m         \u001b[0mself\u001b[0m\u001b[0;34m.\u001b[0m\u001b[0m_make_train_function\u001b[0m\u001b[0;34m(\u001b[0m\u001b[0;34m)\u001b[0m\u001b[0;34m\u001b[0m\u001b[0m\n\u001b[0;32m-> 1883\u001b[0;31m         \u001b[0moutputs\u001b[0m \u001b[0;34m=\u001b[0m \u001b[0mself\u001b[0m\u001b[0;34m.\u001b[0m\u001b[0mtrain_function\u001b[0m\u001b[0;34m(\u001b[0m\u001b[0mins\u001b[0m\u001b[0;34m)\u001b[0m\u001b[0;34m\u001b[0m\u001b[0m\n\u001b[0m\u001b[1;32m   1884\u001b[0m         \u001b[0;32mif\u001b[0m \u001b[0mlen\u001b[0m\u001b[0;34m(\u001b[0m\u001b[0moutputs\u001b[0m\u001b[0;34m)\u001b[0m \u001b[0;34m==\u001b[0m \u001b[0;36m1\u001b[0m\u001b[0;34m:\u001b[0m\u001b[0;34m\u001b[0m\u001b[0m\n\u001b[1;32m   1885\u001b[0m             \u001b[0;32mreturn\u001b[0m \u001b[0moutputs\u001b[0m\u001b[0;34m[\u001b[0m\u001b[0;36m0\u001b[0m\u001b[0;34m]\u001b[0m\u001b[0;34m\u001b[0m\u001b[0m\n",
      "\u001b[0;32m~/.local/lib/python3.5/site-packages/keras/backend/tensorflow_backend.py\u001b[0m in \u001b[0;36m__call__\u001b[0;34m(self, inputs)\u001b[0m\n\u001b[1;32m   2476\u001b[0m         \u001b[0msession\u001b[0m \u001b[0;34m=\u001b[0m \u001b[0mget_session\u001b[0m\u001b[0;34m(\u001b[0m\u001b[0;34m)\u001b[0m\u001b[0;34m\u001b[0m\u001b[0m\n\u001b[1;32m   2477\u001b[0m         updated = session.run(fetches=fetches, feed_dict=feed_dict,\n\u001b[0;32m-> 2478\u001b[0;31m                               **self.session_kwargs)\n\u001b[0m\u001b[1;32m   2479\u001b[0m         \u001b[0;32mreturn\u001b[0m \u001b[0mupdated\u001b[0m\u001b[0;34m[\u001b[0m\u001b[0;34m:\u001b[0m\u001b[0mlen\u001b[0m\u001b[0;34m(\u001b[0m\u001b[0mself\u001b[0m\u001b[0;34m.\u001b[0m\u001b[0moutputs\u001b[0m\u001b[0;34m)\u001b[0m\u001b[0;34m]\u001b[0m\u001b[0;34m\u001b[0m\u001b[0m\n\u001b[1;32m   2480\u001b[0m \u001b[0;34m\u001b[0m\u001b[0m\n",
      "\u001b[0;32m~/.local/lib/python3.5/site-packages/tensorflow/python/client/session.py\u001b[0m in \u001b[0;36mrun\u001b[0;34m(self, fetches, feed_dict, options, run_metadata)\u001b[0m\n\u001b[1;32m    887\u001b[0m     \u001b[0;32mtry\u001b[0m\u001b[0;34m:\u001b[0m\u001b[0;34m\u001b[0m\u001b[0m\n\u001b[1;32m    888\u001b[0m       result = self._run(None, fetches, feed_dict, options_ptr,\n\u001b[0;32m--> 889\u001b[0;31m                          run_metadata_ptr)\n\u001b[0m\u001b[1;32m    890\u001b[0m       \u001b[0;32mif\u001b[0m \u001b[0mrun_metadata\u001b[0m\u001b[0;34m:\u001b[0m\u001b[0;34m\u001b[0m\u001b[0m\n\u001b[1;32m    891\u001b[0m         \u001b[0mproto_data\u001b[0m \u001b[0;34m=\u001b[0m \u001b[0mtf_session\u001b[0m\u001b[0;34m.\u001b[0m\u001b[0mTF_GetBuffer\u001b[0m\u001b[0;34m(\u001b[0m\u001b[0mrun_metadata_ptr\u001b[0m\u001b[0;34m)\u001b[0m\u001b[0;34m\u001b[0m\u001b[0m\n",
      "\u001b[0;32m~/.local/lib/python3.5/site-packages/tensorflow/python/client/session.py\u001b[0m in \u001b[0;36m_run\u001b[0;34m(self, handle, fetches, feed_dict, options, run_metadata)\u001b[0m\n\u001b[1;32m   1118\u001b[0m     \u001b[0;32mif\u001b[0m \u001b[0mfinal_fetches\u001b[0m \u001b[0;32mor\u001b[0m \u001b[0mfinal_targets\u001b[0m \u001b[0;32mor\u001b[0m \u001b[0;34m(\u001b[0m\u001b[0mhandle\u001b[0m \u001b[0;32mand\u001b[0m \u001b[0mfeed_dict_tensor\u001b[0m\u001b[0;34m)\u001b[0m\u001b[0;34m:\u001b[0m\u001b[0;34m\u001b[0m\u001b[0m\n\u001b[1;32m   1119\u001b[0m       results = self._do_run(handle, final_targets, final_fetches,\n\u001b[0;32m-> 1120\u001b[0;31m                              feed_dict_tensor, options, run_metadata)\n\u001b[0m\u001b[1;32m   1121\u001b[0m     \u001b[0;32melse\u001b[0m\u001b[0;34m:\u001b[0m\u001b[0;34m\u001b[0m\u001b[0m\n\u001b[1;32m   1122\u001b[0m       \u001b[0mresults\u001b[0m \u001b[0;34m=\u001b[0m \u001b[0;34m[\u001b[0m\u001b[0;34m]\u001b[0m\u001b[0;34m\u001b[0m\u001b[0m\n",
      "\u001b[0;32m~/.local/lib/python3.5/site-packages/tensorflow/python/client/session.py\u001b[0m in \u001b[0;36m_do_run\u001b[0;34m(self, handle, target_list, fetch_list, feed_dict, options, run_metadata)\u001b[0m\n\u001b[1;32m   1315\u001b[0m     \u001b[0;32mif\u001b[0m \u001b[0mhandle\u001b[0m \u001b[0;32mis\u001b[0m \u001b[0;32mNone\u001b[0m\u001b[0;34m:\u001b[0m\u001b[0;34m\u001b[0m\u001b[0m\n\u001b[1;32m   1316\u001b[0m       return self._do_call(_run_fn, self._session, feeds, fetches, targets,\n\u001b[0;32m-> 1317\u001b[0;31m                            options, run_metadata)\n\u001b[0m\u001b[1;32m   1318\u001b[0m     \u001b[0;32melse\u001b[0m\u001b[0;34m:\u001b[0m\u001b[0;34m\u001b[0m\u001b[0m\n\u001b[1;32m   1319\u001b[0m       \u001b[0;32mreturn\u001b[0m \u001b[0mself\u001b[0m\u001b[0;34m.\u001b[0m\u001b[0m_do_call\u001b[0m\u001b[0;34m(\u001b[0m\u001b[0m_prun_fn\u001b[0m\u001b[0;34m,\u001b[0m \u001b[0mself\u001b[0m\u001b[0;34m.\u001b[0m\u001b[0m_session\u001b[0m\u001b[0;34m,\u001b[0m \u001b[0mhandle\u001b[0m\u001b[0;34m,\u001b[0m \u001b[0mfeeds\u001b[0m\u001b[0;34m,\u001b[0m \u001b[0mfetches\u001b[0m\u001b[0;34m)\u001b[0m\u001b[0;34m\u001b[0m\u001b[0m\n",
      "\u001b[0;32m~/.local/lib/python3.5/site-packages/tensorflow/python/client/session.py\u001b[0m in \u001b[0;36m_do_call\u001b[0;34m(self, fn, *args)\u001b[0m\n\u001b[1;32m   1321\u001b[0m   \u001b[0;32mdef\u001b[0m \u001b[0m_do_call\u001b[0m\u001b[0;34m(\u001b[0m\u001b[0mself\u001b[0m\u001b[0;34m,\u001b[0m \u001b[0mfn\u001b[0m\u001b[0;34m,\u001b[0m \u001b[0;34m*\u001b[0m\u001b[0margs\u001b[0m\u001b[0;34m)\u001b[0m\u001b[0;34m:\u001b[0m\u001b[0;34m\u001b[0m\u001b[0m\n\u001b[1;32m   1322\u001b[0m     \u001b[0;32mtry\u001b[0m\u001b[0;34m:\u001b[0m\u001b[0;34m\u001b[0m\u001b[0m\n\u001b[0;32m-> 1323\u001b[0;31m       \u001b[0;32mreturn\u001b[0m \u001b[0mfn\u001b[0m\u001b[0;34m(\u001b[0m\u001b[0;34m*\u001b[0m\u001b[0margs\u001b[0m\u001b[0;34m)\u001b[0m\u001b[0;34m\u001b[0m\u001b[0m\n\u001b[0m\u001b[1;32m   1324\u001b[0m     \u001b[0;32mexcept\u001b[0m \u001b[0merrors\u001b[0m\u001b[0;34m.\u001b[0m\u001b[0mOpError\u001b[0m \u001b[0;32mas\u001b[0m \u001b[0me\u001b[0m\u001b[0;34m:\u001b[0m\u001b[0;34m\u001b[0m\u001b[0m\n\u001b[1;32m   1325\u001b[0m       \u001b[0mmessage\u001b[0m \u001b[0;34m=\u001b[0m \u001b[0mcompat\u001b[0m\u001b[0;34m.\u001b[0m\u001b[0mas_text\u001b[0m\u001b[0;34m(\u001b[0m\u001b[0me\u001b[0m\u001b[0;34m.\u001b[0m\u001b[0mmessage\u001b[0m\u001b[0;34m)\u001b[0m\u001b[0;34m\u001b[0m\u001b[0m\n",
      "\u001b[0;32m~/.local/lib/python3.5/site-packages/tensorflow/python/client/session.py\u001b[0m in \u001b[0;36m_run_fn\u001b[0;34m(session, feed_dict, fetch_list, target_list, options, run_metadata)\u001b[0m\n\u001b[1;32m   1300\u001b[0m           return tf_session.TF_Run(session, options,\n\u001b[1;32m   1301\u001b[0m                                    \u001b[0mfeed_dict\u001b[0m\u001b[0;34m,\u001b[0m \u001b[0mfetch_list\u001b[0m\u001b[0;34m,\u001b[0m \u001b[0mtarget_list\u001b[0m\u001b[0;34m,\u001b[0m\u001b[0;34m\u001b[0m\u001b[0m\n\u001b[0;32m-> 1302\u001b[0;31m                                    status, run_metadata)\n\u001b[0m\u001b[1;32m   1303\u001b[0m \u001b[0;34m\u001b[0m\u001b[0m\n\u001b[1;32m   1304\u001b[0m     \u001b[0;32mdef\u001b[0m \u001b[0m_prun_fn\u001b[0m\u001b[0;34m(\u001b[0m\u001b[0msession\u001b[0m\u001b[0;34m,\u001b[0m \u001b[0mhandle\u001b[0m\u001b[0;34m,\u001b[0m \u001b[0mfeed_dict\u001b[0m\u001b[0;34m,\u001b[0m \u001b[0mfetch_list\u001b[0m\u001b[0;34m)\u001b[0m\u001b[0;34m:\u001b[0m\u001b[0;34m\u001b[0m\u001b[0m\n",
      "\u001b[0;31mKeyboardInterrupt\u001b[0m: "
     ]
    }
   ],
   "source": [
    "model = create_network(input_shape=[patch_size[0],patch_size[1],patch_size[2],1],features=8) \n",
    "# nr of feature maps are bottleneck for gpu memory; 8 seems to be max; down from 5 mil parameters to less than 400,000\n",
    "\n",
    "#logger = Logger(data, patch_size, stride=88) #on training data instead of validation data\n",
    "timeNow = time.strftime(\"%e%m-%H%M%S\")\n",
    "#tensorboard = TensorBoard(log_dir='./logs/'+timeNow, batch_size=batch_size, histogram_freq=1, embeddings_freq=0, write_images=True)\n",
    "modelcheck = ModelCheckpoint(\"weights-\"+str(timeNow)+\".hdf5\", monitor='val_loss', verbose=0, save_best_only=True, save_weights_only=False, mode='auto', period=1)\n",
    "\n",
    "model.fit_generator(generator=train_generator,\n",
    "                    validation_data=validation_generator,\n",
    "                    steps_per_epoch=90,\n",
    "                    epochs=10,\n",
    "                    validation_steps=10,\n",
    "                    callbacks=[modelcheck])"
   ]
  },
  {
   "cell_type": "code",
   "execution_count": null,
   "metadata": {},
   "outputs": [],
   "source": []
  },
  {
   "cell_type": "code",
   "execution_count": null,
   "metadata": {},
   "outputs": [],
   "source": []
  }
 ],
 "metadata": {
  "kernelspec": {
   "display_name": "Python 3",
   "language": "python",
   "name": "python3"
  },
  "language_info": {
   "codemirror_mode": {
    "name": "ipython",
    "version": 3
   },
   "file_extension": ".py",
   "mimetype": "text/x-python",
   "name": "python",
   "nbconvert_exporter": "python",
   "pygments_lexer": "ipython3",
   "version": "3.5.2"
  }
 },
 "nbformat": 4,
 "nbformat_minor": 2
}
