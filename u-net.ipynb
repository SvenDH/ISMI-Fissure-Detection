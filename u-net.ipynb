{
 "cells": [
  {
   "cell_type": "markdown",
   "metadata": {},
   "source": [
    "# Data loading\n",
    "\n",
    "Training data is distributed in 3 different folders (set a, b and c).\n",
    "Each file has its raw image (.mhd), lung mask (\\_lm.mhd), and fissure mask (\\_fm.mhd)."
   ]
  },
  {
   "cell_type": "code",
   "execution_count": 2,
   "metadata": {},
   "outputs": [
    {
     "name": "stderr",
     "output_type": "stream",
     "text": [
      "Using TensorFlow backend.\n"
     ]
    }
   ],
   "source": [
    "import os, random\n",
    "import ntpath\n",
    "import SimpleITK\n",
    "from matplotlib import pyplot as plt\n",
    "import pandas as pd\n",
    "import numpy as np\n",
    "\n",
    "from keras import backend as K\n",
    "from keras.engine import Input, Model\n",
    "from keras.layers import Conv3D, MaxPooling3D, Activation, Deconvolution3D, Cropping3D, UpSampling3D\n",
    "from keras.optimizers import Adam\n",
    "\n",
    "K.set_image_data_format(\"channels_first\")\n",
    "\n",
    "from keras.layers.merge import concatenate\n"
   ]
  },
  {
   "cell_type": "code",
   "execution_count": 3,
   "metadata": {},
   "outputs": [],
   "source": [
    "workdir = '/projects/0/ismi2018/FINALPROJECTS/CHESTCT_FISSURE_INTEGRITY/'\n",
    "train_A_images = os.path.join(workdir, 'set-a')\n",
    "train_B_images = os.path.join(workdir, 'set-b')\n",
    "train_C_images = os.path.join(workdir, 'set-c')"
   ]
  },
  {
   "cell_type": "code",
   "execution_count": 4,
   "metadata": {},
   "outputs": [
    {
     "name": "stdout",
     "output_type": "stream",
     "text": [
      "a26_fm.mhd\n",
      "(221, 307, 521)\n"
     ]
    },
    {
     "data": {
      "text/plain": [
       "<matplotlib.image.AxesImage at 0x2af10c808d68>"
      ]
     },
     "execution_count": 4,
     "metadata": {},
     "output_type": "execute_result"
    },
    {
     "data": {
      "image/png": "[encoded data removed]",
      "text/plain": [
       "<matplotlib.figure.Figure at 0x2af1085eedd8>"
      ]
     },
     "metadata": {},
     "output_type": "display_data"
    }
   ],
   "source": [
    "#Print one file:\n",
    "case = os.path.join(train_A_images, random.choice(os.listdir(train_A_images)))\n",
    "case_filename = os.path.splitext(ntpath.basename(case))[0] + '.mhd'\n",
    "img = SimpleITK.ReadImage(train_A_images+ '/' + case_filename)\n",
    "\n",
    "piece = SimpleITK.GetArrayViewFromImage(img)[50,:,:] #<-- Specify a number for the z-index slice\n",
    "print(case_filename)\n",
    "print(img.GetSize())\n",
    "plt.imshow(piece)\n"
   ]
  },
  {
   "cell_type": "code",
   "execution_count": 5,
   "metadata": {},
   "outputs": [],
   "source": [
    "''' Helper function '''\n",
    "def load_unique_image_names(folder):\n",
    "    \n",
    "    uniqueimglist = []\n",
    "    for file in os.listdir(folder):\n",
    "        file = file.replace(\".mhd\", \"\")\n",
    "        file = file.replace(\"_lm\", \"\")\n",
    "        file = file.replace(\"_fm\", \"\")\n",
    "        file = file.replace(\".zraw\", \"\")\n",
    "        if \".csv\" not in file:\n",
    "            uniqueimglist.append(file)\n",
    "    uniqueimglist = list(set(uniqueimglist))\n",
    "    return uniqueimglist\n",
    "\n",
    "\n",
    "''' Load training data from a folder'''\n",
    "def load_training_set(folder):\n",
    "    fileList = load_unique_image_names(folder)\n",
    "    \n",
    "    trainSet = []\n",
    "    for file in fileList:\n",
    "        filePath = folder + '/' + file\n",
    "        image = lungMask = fissureMask = None\n",
    "        try:\n",
    "            image = SimpleITK.ReadImage(filePath + '.mhd')\n",
    "            lungMask = SimpleITK.ReadImage(filePath + '_lm.mhd')\n",
    "            fissureMask = SimpleITK.ReadImage(filePath + '_fm.mhd')\n",
    "            label = file[0]\n",
    "            trainSet.append({'name': file, \n",
    "                         'image': image, \n",
    "                         'lungmask': lungMask,\n",
    "                         'fissuremask': fissureMask,\n",
    "                         'label': label})\n",
    "        except :\n",
    "            print(\"Error reading file: \" + file)\n",
    "            \n",
    "    return trainSet\n",
    "\n",
    "def get_exact_csv_set(folder, label):\n",
    "    return pd.read_csv(folder + '/LUT-' + label + '.csv')\n",
    "    \n"
   ]
  },
  {
   "cell_type": "code",
   "execution_count": 6,
   "metadata": {},
   "outputs": [
    {
     "name": "stdout",
     "output_type": "stream",
     "text": [
      "Loading train set...\n",
      "Done loading!\n"
     ]
    }
   ],
   "source": [
    "print(\"Loading train set...\")\n",
    "training = load_training_set(train_A_images)\n",
    "training.extend(load_training_set(train_B_images))\n",
    "training.extend(load_training_set(train_C_images))\n",
    "training = pd.DataFrame(training)\n",
    "print(\"Done loading!\")"
   ]
  },
  {
   "cell_type": "markdown",
   "metadata": {},
   "source": [
    "Accessing the LUT csv files to attach the exact percentages to the training set:"
   ]
  },
  {
   "cell_type": "code",
   "execution_count": 7,
   "metadata": {},
   "outputs": [
    {
     "name": "stdout",
     "output_type": "stream",
     "text": [
      "exact size:  200\n",
      "training size:  500\n"
     ]
    }
   ],
   "source": [
    "\n",
    "exact = get_exact_csv_set(train_A_images, 'a') # 60\n",
    "exact = exact.append(get_exact_csv_set(train_B_images, 'b'), ignore_index=True) # 38\n",
    "exact = exact.append(get_exact_csv_set(train_C_images, 'c'), ignore_index=True) # 102\n",
    "exact = exact.rename(columns={'Fissure_completeness': 'completeness'})\n",
    "\n",
    "print(\"exact size: \", exact.size)\n",
    "print(\"training size: \", training.size)\n",
    "\n",
    "'''\n",
    "emptyList = []\n",
    "trainList = []\n",
    "for el in training['name']:\n",
    "    trainList.append(el)\n",
    "    if el not in exact['New ID']:\n",
    "        emptyList.append(el)\n",
    "print(sorted(emptyList))\n",
    "print(sorted(trainList))\n",
    "print(\"Do the csv files represent the whole training set?\")\n",
    "print(sorted(trainList)== sorted(emptyList) )\n",
    "\n",
    "exact['New ID'].iloc[31]\n",
    "'''\n",
    "\n",
    "\n",
    "# Join the csv set with the training set\n",
    "training = pd.merge(training, exact, left_on='name', right_on='New ID')\n",
    "training = training.drop('New ID', 1)\n"
   ]
  },
  {
   "cell_type": "code",
   "execution_count": 8,
   "metadata": {},
   "outputs": [
    {
     "data": {
      "text/html": [
       "<div>\n",
       "<table border=\"1\" class=\"dataframe\">\n",
       "  <thead>\n",
       "    <tr style=\"text-align: right;\">\n",
       "      <th></th>\n",
       "      <th>fissuremask</th>\n",
       "      <th>image</th>\n",
       "      <th>label</th>\n",
       "      <th>lungmask</th>\n",
       "      <th>name</th>\n",
       "      <th>completeness</th>\n",
       "    </tr>\n",
       "  </thead>\n",
       "  <tbody>\n",
       "    <tr>\n",
       "      <th>0</th>\n",
       "      <td>[0, 0, 0, 0, 0, 0, 0, 0, 0, 0, 0, 0, 0, 0, 0, ...</td>\n",
       "      <td>[-80, -150, -146, -164, -128, -95, -26, -112, ...</td>\n",
       "      <td>a</td>\n",
       "      <td>[0, 0, 0, 0, 0, 0, 0, 0, 0, 0, 0, 0, 0, 0, 0, ...</td>\n",
       "      <td>a02</td>\n",
       "      <td>33.3554</td>\n",
       "    </tr>\n",
       "    <tr>\n",
       "      <th>1</th>\n",
       "      <td>[0, 0, 0, 0, 0, 0, 0, 0, 0, 0, 0, 0, 0, 0, 0, ...</td>\n",
       "      <td>[70, 67, 30, 37, 22, 1, -27, -95, -133, -104, ...</td>\n",
       "      <td>a</td>\n",
       "      <td>[0, 0, 0, 0, 0, 0, 0, 0, 0, 0, 0, 0, 0, 0, 0, ...</td>\n",
       "      <td>a03</td>\n",
       "      <td>39.0370</td>\n",
       "    </tr>\n",
       "    <tr>\n",
       "      <th>2</th>\n",
       "      <td>[0, 0, 0, 0, 0, 0, 0, 0, 0, 0, 0, 0, 0, 0, 0, ...</td>\n",
       "      <td>[72, 88, 43, 54, 23, 40, 4, -6, 17, 22, 40, -2...</td>\n",
       "      <td>a</td>\n",
       "      <td>[0, 0, 0, 0, 0, 0, 0, 0, 0, 0, 0, 0, 0, 0, 0, ...</td>\n",
       "      <td>a07</td>\n",
       "      <td>56.4871</td>\n",
       "    </tr>\n",
       "    <tr>\n",
       "      <th>3</th>\n",
       "      <td>[0, 0, 0, 0, 0, 0, 0, 0, 0, 0, 0, 0, 0, 0, 0, ...</td>\n",
       "      <td>[-126, -131, -72, -69, -154, -116, -61, -101, ...</td>\n",
       "      <td>a</td>\n",
       "      <td>[0, 0, 0, 0, 0, 0, 0, 0, 0, 0, 0, 0, 0, 0, 0, ...</td>\n",
       "      <td>a08</td>\n",
       "      <td>57.0327</td>\n",
       "    </tr>\n",
       "    <tr>\n",
       "      <th>4</th>\n",
       "      <td>[0, 0, 0, 0, 0, 0, 0, 0, 0, 0, 0, 0, 0, 0, 0, ...</td>\n",
       "      <td>[66, 67, 48, 39, 43, 73, 78, 42, 43, 68, 74, 4...</td>\n",
       "      <td>a</td>\n",
       "      <td>[0, 0, 0, 0, 0, 0, 0, 0, 0, 0, 0, 0, 0, 0, 0, ...</td>\n",
       "      <td>a10</td>\n",
       "      <td>64.0833</td>\n",
       "    </tr>\n",
       "  </tbody>\n",
       "</table>\n",
       "</div>"
      ],
      "text/plain": [
       "                                         fissuremask  \\\n",
       "0  [0, 0, 0, 0, 0, 0, 0, 0, 0, 0, 0, 0, 0, 0, 0, ...   \n",
       "1  [0, 0, 0, 0, 0, 0, 0, 0, 0, 0, 0, 0, 0, 0, 0, ...   \n",
       "2  [0, 0, 0, 0, 0, 0, 0, 0, 0, 0, 0, 0, 0, 0, 0, ...   \n",
       "3  [0, 0, 0, 0, 0, 0, 0, 0, 0, 0, 0, 0, 0, 0, 0, ...   \n",
       "4  [0, 0, 0, 0, 0, 0, 0, 0, 0, 0, 0, 0, 0, 0, 0, ...   \n",
       "\n",
       "                                               image label  \\\n",
       "0  [-80, -150, -146, -164, -128, -95, -26, -112, ...     a   \n",
       "1  [70, 67, 30, 37, 22, 1, -27, -95, -133, -104, ...     a   \n",
       "2  [72, 88, 43, 54, 23, 40, 4, -6, 17, 22, 40, -2...     a   \n",
       "3  [-126, -131, -72, -69, -154, -116, -61, -101, ...     a   \n",
       "4  [66, 67, 48, 39, 43, 73, 78, 42, 43, 68, 74, 4...     a   \n",
       "\n",
       "                                            lungmask name  completeness  \n",
       "0  [0, 0, 0, 0, 0, 0, 0, 0, 0, 0, 0, 0, 0, 0, 0, ...  a02       33.3554  \n",
       "1  [0, 0, 0, 0, 0, 0, 0, 0, 0, 0, 0, 0, 0, 0, 0, ...  a03       39.0370  \n",
       "2  [0, 0, 0, 0, 0, 0, 0, 0, 0, 0, 0, 0, 0, 0, 0, ...  a07       56.4871  \n",
       "3  [0, 0, 0, 0, 0, 0, 0, 0, 0, 0, 0, 0, 0, 0, 0, ...  a08       57.0327  \n",
       "4  [0, 0, 0, 0, 0, 0, 0, 0, 0, 0, 0, 0, 0, 0, 0, ...  a10       64.0833  "
      ]
     },
     "execution_count": 8,
     "metadata": {},
     "output_type": "execute_result"
    }
   ],
   "source": [
    "training.head(5)"
   ]
  },
  {
   "cell_type": "markdown",
   "metadata": {},
   "source": [
    "## Accessing the data\n",
    "\n",
    "We attached the labels LUT-a.csv (etc...) to the training data in order to make it into a regression problem. Now, we would like to save this dataframe to file. Unfortunately, this can't be done, as the image elements aren't pickle-able (_Python can't pickle swigpy objects_).\n",
    "\n",
    "\n",
    "\n",
    "- (Data) Raw images can be accessed by utilizing `training['image'].values`. This will return an array with the SimpleITK images.\n",
    "- (Label) Classification labels _(a,b,c)_ can be obtained by `training['label'].values`.\n",
    "- (Label) Regression labels _Fissure completeness percentage (%)_ can be obtained by `training['completeness'].values`."
   ]
  },
  {
   "cell_type": "markdown",
   "metadata": {},
   "source": [
    "Save the training set to file\n",
    "\n",
    "*Actually can't be done, as it can't pickle swigpy objects..*"
   ]
  },
  {
   "cell_type": "code",
   "execution_count": 9,
   "metadata": {},
   "outputs": [],
   "source": [
    "#store = pd.HDFStore('database.h5')\n",
    "#store['trainingset'] = training"
   ]
  },
  {
   "cell_type": "code",
   "execution_count": 10,
   "metadata": {},
   "outputs": [],
   "source": [
    "#training.to_pickle('./train-data.pkl')"
   ]
  },
  {
   "cell_type": "code",
   "execution_count": 11,
   "metadata": {},
   "outputs": [
    {
     "name": "stdout",
     "output_type": "stream",
     "text": [
      "Completeness:  39.037\n"
     ]
    },
    {
     "data": {
      "text/plain": [
       "array([0, 2, 4], dtype=uint8)"
      ]
     },
     "execution_count": 11,
     "metadata": {},
     "output_type": "execute_result"
    },
    {
     "data": {
      "image/png": "[encoded data removed]",
      "text/plain": [
       "<matplotlib.figure.Figure at 0x2af1085ceb38>"
      ]
     },
     "metadata": {},
     "output_type": "display_data"
    }
   ],
   "source": [
    "img = training['fissuremask'].iloc[1]\n",
    "piece = SimpleITK.GetArrayViewFromImage(img)[240,:,:]\n",
    "plt.imshow(piece)\n",
    "print(\"Completeness: \", training['completeness'].iloc[1])\n",
    "np.unique(piece)"
   ]
  },
  {
   "cell_type": "markdown",
   "metadata": {},
   "source": [
    "# Patch Generator"
   ]
  },
  {
   "cell_type": "code",
   "execution_count": null,
   "metadata": {},
   "outputs": [],
   "source": []
  },
  {
   "cell_type": "markdown",
   "metadata": {},
   "source": [
    "# U-net"
   ]
  },
  {
   "cell_type": "code",
   "execution_count": 12,
   "metadata": {},
   "outputs": [],
   "source": [
    "# Loss calculation for 3D U-net\n",
    "def dice_coefficient(y_true, y_pred, smooth=1.):\n",
    "    y_true_f = K.flatten(y_true)\n",
    "    y_pred_f = K.flatten(y_pred)\n",
    "    intersection = K.sum(y_true_f * y_pred_f)\n",
    "    return (2. * intersection + smooth) / (K.sum(y_true_f) + K.sum(y_pred_f) + smooth)\n",
    "\n",
    "def dice_coefficient_loss(y_true, y_pred):\n",
    "    return -dice_coefficient(y_true, y_pred)"
   ]
  },
  {
   "cell_type": "code",
   "execution_count": 13,
   "metadata": {},
   "outputs": [],
   "source": [
    "def create_network(input_shape):\n",
    "    \n",
    "    levels = list()\n",
    "    inputs = Input(input_shape)\n",
    "    # Block 1\n",
    "    layer1 = Conv3D(32*(2**0), (3,3,3), padding='valid', strides=1)(inputs)\n",
    "    layer1 = Activation('relu')(layer1)\n",
    "    layer2 = Conv3D(32*(2**0), (3,3,3), padding='valid', strides=1)(layer1)\n",
    "    layer2 = Activation('relu')(layer2)\n",
    "    pool = MaxPooling3D(pool_size=(2,2,2))(layer2)\n",
    "    levels.append([layer1, layer2, pool])\n",
    "    # Block 2\n",
    "    layer1 = Conv3D(32*(2**1), (3,3,3), padding='valid', strides=1)(pool)\n",
    "    layer1 = Activation('relu')(layer1)\n",
    "    layer2 = Conv3D(32*(2**1), (3,3,3), padding='valid', strides=1)(layer1)\n",
    "    layer2 = Activation('relu')(layer2)\n",
    "    pool = MaxPooling3D(pool_size=(2,2,2))(layer2)\n",
    "    levels.append([layer1, layer2, pool])\n",
    "    # Block 3\n",
    "    layer1 = Conv3D(32*(2**2), (3,3,3), padding='valid', strides=1)(pool)\n",
    "    layer1 = Activation('relu')(layer1)\n",
    "    layer2 = Conv3D(32*(2**2), (3,3,3), padding='valid', strides=1)(layer1)\n",
    "    layer2 = Activation('relu')(layer2)\n",
    "    pool = MaxPooling3D(pool_size=(2,2,2))(layer2)\n",
    "    levels.append([layer1, layer2, pool])\n",
    "    # Block 4\n",
    "    layer1 = Conv3D(32*(2**3), (3,3,3), padding='valid', strides=1)(pool)\n",
    "    layer1 = Activation('relu')(layer1)\n",
    "    layer2 = Conv3D(32*(2**3), (3,3,3), padding='valid', strides=1)(layer1)\n",
    "    layer2 = Activation('relu')(layer2)\n",
    "    levels.append([layer1, layer2])\n",
    "\n",
    "    # Block 5\n",
    "    layer0 = UpSampling3D(size=2)(layer2)\n",
    "    #layer0 = Conv3D(32*(2**2), (2,2,2))(layer0)\n",
    "    crop = levels[2][1]\n",
    "    size = (crop._keras_shape[-3] - layer0._keras_shape[-3],\n",
    "            crop._keras_shape[-2] - layer0._keras_shape[-2], \n",
    "            crop._keras_shape[-1] - layer0._keras_shape[-1])\n",
    "    size = ((int(np.floor(size[0]/2)),int(np.ceil(size[0]/2))),\n",
    "            (int(np.floor(size[1]/2)),int(np.ceil(size[1]/2))),\n",
    "            (int(np.floor(size[2]/2)),int(np.ceil(size[2]/2))))\n",
    "    crop = Cropping3D(cropping=size)(crop)\n",
    "    concatenate([layer0, crop],axis=1)\n",
    "    layer1 = Conv3D(32*(2**2), (3,3,3), padding='valid', strides=1)(layer0)\n",
    "    layer1 = Activation('relu')(layer1)\n",
    "    layer2 = Conv3D(32*(2**2), (3,3,3), padding='valid', strides=1)(layer1)\n",
    "    layer2 = Activation('relu')(layer2)\n",
    "    # Block 6\n",
    "    layer0 = UpSampling3D(size=2)(layer2)\n",
    "    #layer0 = Conv3D(32*(2**1), (2,2,2))(layer0)\n",
    "    crop = levels[1][1]\n",
    "    size = (crop._keras_shape[-3] - layer0._keras_shape[-3],\n",
    "            crop._keras_shape[-2] - layer0._keras_shape[-2], \n",
    "            crop._keras_shape[-1] - layer0._keras_shape[-1])\n",
    "    size = ((int(np.floor(size[0]/2)),int(np.ceil(size[0]/2))),\n",
    "            (int(np.floor(size[1]/2)),int(np.ceil(size[1]/2))),\n",
    "            (int(np.floor(size[2]/2)),int(np.ceil(size[2]/2))))\n",
    "    crop = Cropping3D(cropping=size)(crop)\n",
    "    concatenate([layer0, crop],axis=1)\n",
    "    layer1 = Conv3D(32*(2**1), (3,3,3), padding='valid', strides=1)(layer0)\n",
    "    layer1 = Activation('relu')(layer1)\n",
    "    layer2 = Conv3D(32*(2**1), (3,3,3), padding='valid', strides=1)(layer1)\n",
    "    layer2 = Activation('relu')(layer2)\n",
    "    # Block 7\n",
    "    layer0 = UpSampling3D(size=2)(layer2)\n",
    "    #layer0 = Conv3D(32*(2**0), (2,2,2))(layer0)\n",
    "    crop = levels[0][1]\n",
    "    size = (crop._keras_shape[-3] - layer0._keras_shape[-3],\n",
    "            crop._keras_shape[-2] - layer0._keras_shape[-2], \n",
    "            crop._keras_shape[-1] - layer0._keras_shape[-1])\n",
    "    size = ((int(np.floor(size[0]/2)),int(np.ceil(size[0]/2))),\n",
    "            (int(np.floor(size[1]/2)),int(np.ceil(size[1]/2))),\n",
    "            (int(np.floor(size[2]/2)),int(np.ceil(size[2]/2))))\n",
    "    crop = Cropping3D(cropping=size)(crop)\n",
    "    concatenate([layer0, crop],axis=1)\n",
    "    layer1 = Conv3D(32*(2**0), (3,3,3), padding='valid', strides=1)(layer0)\n",
    "    layer1 = Activation('relu')(layer1)\n",
    "    layer2 = Conv3D(32*(2**0), (3,3,3), padding='valid', strides=1)(layer1)\n",
    "    layer2 = Activation('relu')(layer2)\n",
    "\n",
    "    final = Conv3D(3, (1, 1, 1))(layer2)\n",
    "    final = Activation('softmax')(final)\n",
    "    model = Model(inputs=inputs, outputs=final)\n",
    "\n",
    "    model.compile(optimizer=Adam(lr=0.00001), loss=dice_coefficient_loss, metrics=[dice_coefficient])\n",
    "    model.summary()\n",
    "    return model"
   ]
  },
  {
   "cell_type": "code",
   "execution_count": 15,
   "metadata": {},
   "outputs": [
    {
     "name": "stdout",
     "output_type": "stream",
     "text": [
      "_________________________________________________________________\n",
      "Layer (type)                 Output Shape              Param #   \n",
      "=================================================================\n",
      "input_2 (InputLayer)         (None, 1, 666, 666, 1337) 0         \n",
      "_________________________________________________________________\n",
      "conv3d_16 (Conv3D)           (None, 32, 664, 664, 1335 896       \n",
      "_________________________________________________________________\n",
      "activation_16 (Activation)   (None, 32, 664, 664, 1335 0         \n",
      "_________________________________________________________________\n",
      "conv3d_17 (Conv3D)           (None, 32, 662, 662, 1333 27680     \n",
      "_________________________________________________________________\n",
      "activation_17 (Activation)   (None, 32, 662, 662, 1333 0         \n",
      "_________________________________________________________________\n",
      "max_pooling3d_4 (MaxPooling3 (None, 32, 331, 331, 666) 0         \n",
      "_________________________________________________________________\n",
      "conv3d_18 (Conv3D)           (None, 64, 329, 329, 664) 55360     \n",
      "_________________________________________________________________\n",
      "activation_18 (Activation)   (None, 64, 329, 329, 664) 0         \n",
      "_________________________________________________________________\n",
      "conv3d_19 (Conv3D)           (None, 64, 327, 327, 662) 110656    \n",
      "_________________________________________________________________\n",
      "activation_19 (Activation)   (None, 64, 327, 327, 662) 0         \n",
      "_________________________________________________________________\n",
      "max_pooling3d_5 (MaxPooling3 (None, 64, 163, 163, 331) 0         \n",
      "_________________________________________________________________\n",
      "conv3d_20 (Conv3D)           (None, 128, 161, 161, 329 221312    \n",
      "_________________________________________________________________\n",
      "activation_20 (Activation)   (None, 128, 161, 161, 329 0         \n",
      "_________________________________________________________________\n",
      "conv3d_21 (Conv3D)           (None, 128, 159, 159, 327 442496    \n",
      "_________________________________________________________________\n",
      "activation_21 (Activation)   (None, 128, 159, 159, 327 0         \n",
      "_________________________________________________________________\n",
      "max_pooling3d_6 (MaxPooling3 (None, 128, 79, 79, 163)  0         \n",
      "_________________________________________________________________\n",
      "conv3d_22 (Conv3D)           (None, 256, 77, 77, 161)  884992    \n",
      "_________________________________________________________________\n",
      "activation_22 (Activation)   (None, 256, 77, 77, 161)  0         \n",
      "_________________________________________________________________\n",
      "conv3d_23 (Conv3D)           (None, 256, 75, 75, 159)  1769728   \n",
      "_________________________________________________________________\n",
      "activation_23 (Activation)   (None, 256, 75, 75, 159)  0         \n",
      "_________________________________________________________________\n",
      "up_sampling3d_4 (UpSampling3 (None, 256, 150, 150, 318 0         \n",
      "_________________________________________________________________\n",
      "conv3d_24 (Conv3D)           (None, 128, 148, 148, 316 884864    \n",
      "_________________________________________________________________\n",
      "activation_24 (Activation)   (None, 128, 148, 148, 316 0         \n",
      "_________________________________________________________________\n",
      "conv3d_25 (Conv3D)           (None, 128, 146, 146, 314 442496    \n",
      "_________________________________________________________________\n",
      "activation_25 (Activation)   (None, 128, 146, 146, 314 0         \n",
      "_________________________________________________________________\n",
      "up_sampling3d_5 (UpSampling3 (None, 128, 292, 292, 628 0         \n",
      "_________________________________________________________________\n",
      "conv3d_26 (Conv3D)           (None, 64, 290, 290, 626) 221248    \n",
      "_________________________________________________________________\n",
      "activation_26 (Activation)   (None, 64, 290, 290, 626) 0         \n",
      "_________________________________________________________________\n",
      "conv3d_27 (Conv3D)           (None, 64, 288, 288, 624) 110656    \n",
      "_________________________________________________________________\n",
      "activation_27 (Activation)   (None, 64, 288, 288, 624) 0         \n",
      "_________________________________________________________________\n",
      "up_sampling3d_6 (UpSampling3 (None, 64, 576, 576, 1248 0         \n",
      "_________________________________________________________________\n",
      "conv3d_28 (Conv3D)           (None, 32, 574, 574, 1246 55328     \n",
      "_________________________________________________________________\n",
      "activation_28 (Activation)   (None, 32, 574, 574, 1246 0         \n",
      "_________________________________________________________________\n",
      "conv3d_29 (Conv3D)           (None, 32, 572, 572, 1244 27680     \n",
      "_________________________________________________________________\n",
      "activation_29 (Activation)   (None, 32, 572, 572, 1244 0         \n",
      "_________________________________________________________________\n",
      "conv3d_30 (Conv3D)           (None, 3, 572, 572, 1244) 99        \n",
      "_________________________________________________________________\n",
      "activation_30 (Activation)   (None, 3, 572, 572, 1244) 0         \n",
      "=================================================================\n",
      "Total params: 5,255,491\n",
      "Trainable params: 5,255,491\n",
      "Non-trainable params: 0\n",
      "_________________________________________________________________\n"
     ]
    },
    {
     "data": {
      "text/plain": [
       "<keras.engine.training.Model at 0x2af31a0efb70>"
      ]
     },
     "execution_count": 15,
     "metadata": {},
     "output_type": "execute_result"
    }
   ],
   "source": [
    "create_network([1,666,666,1337])"
   ]
  },
  {
   "cell_type": "code",
   "execution_count": null,
   "metadata": {},
   "outputs": [],
   "source": []
  },
  {
   "cell_type": "code",
   "execution_count": null,
   "metadata": {},
   "outputs": [],
   "source": []
  }
 ],
 "metadata": {
  "kernelspec": {
   "display_name": "Python 3",
   "language": "python",
   "name": "python3"
  },
  "language_info": {
   "codemirror_mode": {
    "name": "ipython",
    "version": 3
   },
   "file_extension": ".py",
   "mimetype": "text/x-python",
   "name": "python",
   "nbconvert_exporter": "python",
   "pygments_lexer": "ipython3",
   "version": "3.5.2"
  }
 },
 "nbformat": 4,
 "nbformat_minor": 2
}
