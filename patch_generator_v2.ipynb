{
 "cells": [
  {
   "cell_type": "markdown",
   "metadata": {},
   "source": [
    "# Import Libraries"
   ]
  },
  {
   "cell_type": "code",
   "execution_count": 52,
   "metadata": {},
   "outputs": [],
   "source": [
    "import os, random\n",
    "import ntpath\n",
    "import SimpleITK\n",
    "from matplotlib import pyplot as plt\n",
    "import matplotlib\n",
    "import pandas as pd\n",
    "import numpy as np\n",
    "import pickle\n",
    "import math"
   ]
  },
  {
   "cell_type": "markdown",
   "metadata": {},
   "source": [
    "# Load Dataset"
   ]
  },
  {
   "cell_type": "code",
   "execution_count": 2,
   "metadata": {},
   "outputs": [],
   "source": [
    "# Loading data from pickle:\n",
    "data = pd.read_pickle(\"pickle files/train-data-filelist.pkl\")"
   ]
  },
  {
   "cell_type": "markdown",
   "metadata": {},
   "source": [
    "# Load Label Indices"
   ]
  },
  {
   "cell_type": "code",
   "execution_count": 3,
   "metadata": {},
   "outputs": [],
   "source": [
    "patch_indices = pickle.load(open(\"pickle files/patch_indices.p\",\"rb\"))"
   ]
  },
  {
   "cell_type": "code",
   "execution_count": 4,
   "metadata": {},
   "outputs": [],
   "source": [
    "# fc_indices are the fissure complete label indices\n",
    "# fi_indices are the fissure incomplete label indices\n",
    "fc_indices, fi_indices = patch_indices"
   ]
  },
  {
   "cell_type": "markdown",
   "metadata": {},
   "source": [
    "# Help Functions"
   ]
  },
  {
   "cell_type": "code",
   "execution_count": 5,
   "metadata": {},
   "outputs": [],
   "source": [
    "def readImg(img_path):\n",
    "    img = SimpleITK.ReadImage(img_path)\n",
    "    img_array = SimpleITK.GetArrayFromImage(img)\n",
    "    return img_array"
   ]
  },
  {
   "cell_type": "markdown",
   "metadata": {},
   "source": [
    "# Patch Generator"
   ]
  },
  {
   "cell_type": "code",
   "execution_count": 6,
   "metadata": {},
   "outputs": [],
   "source": [
    "'''\n",
    "PatchExtractor: class used to extract and possibly augment patches from images.\n",
    "'''\n",
    "\n",
    "class PatchExtractor:\n",
    "    \n",
    "    def __init__(self, patch_size):\n",
    "        self.patch_size = patch_size\n",
    "        \n",
    "    def get_patch(self, image, location):\n",
    "        '''\n",
    "        image: a numpy array representing the input image\n",
    "        location: a tuple with an z, y, and x coordinate\n",
    "        \n",
    "        return a 3D patch from the image at 'location', representing the center of the patch\n",
    "        '''\n",
    "        \n",
    "        z, y, x = location\n",
    "        c, h, w = self.patch_size\n",
    "        try:\n",
    "            patch = image[int(z-(c/2)):int(z+(c/2)),int(y-(h/2)):int(y+(h/2)),int(x-(w/2)):int(x+(w/2))]\n",
    "        except:\n",
    "            print(\"Patch out of boundary, please make sure that the patch location is not out of boundary.\")\n",
    "        return patch"
   ]
  },
  {
   "cell_type": "markdown",
   "metadata": {},
   "source": [
    "# Batch Creator"
   ]
  },
  {
   "cell_type": "code",
   "execution_count": 175,
   "metadata": {},
   "outputs": [],
   "source": [
    "class BatchCreator:\n",
    "    \n",
    "    def __init__(self,patch_extractor,dataset,patch_indices,batch_division):\n",
    "        self.patch_extractor = patch_extractor\n",
    "        self.patch_size = self.patch_extractor.patch_size\n",
    "        \n",
    "        self.img_list = dataset['image'].values\n",
    "        self.lbl_list = dataset['fissuremask'].values\n",
    "        self.msk_list = dataset['lungmask'].values\n",
    "        \n",
    "        self.a_indices = dataset.index[dataset['label'] == \"a\"].tolist()\n",
    "        self.b_indices = dataset.index[dataset['label'] == \"b\"].tolist()\n",
    "        self.c_indices = dataset.index[dataset['label'] == \"c\"].tolist()\n",
    "        \n",
    "        self.img_indices = self.a_indices + self.b_indices + self.c_indices\n",
    "        \n",
    "        self.fc_indices = patch_indices[0]\n",
    "        self.fi_indices = patch_indices[1]\n",
    "        \n",
    "        self.batch_division = batch_division\n",
    "        \n",
    "        self.examined_images = []\n",
    "        \n",
    "    def create_batch(self, batch_size):\n",
    "        \n",
    "        if len(self.examined_images) == len(self.a_indices + self.b_indices + self.c_indices):\n",
    "            self.examined_images = []\n",
    "            self.img_indices = self.a_indices + self.b_indices + self.c_indices\n",
    "            \n",
    "        img_index = self.pickImage()\n",
    "        \n",
    "        x_data, y_data, fissure_data = self.initializeOutputArrays(batch_size)\n",
    "        \n",
    "        fc_slices_dict = self.fc_indices[img_index]\n",
    "        fi_slices_dict = self.fi_indices[img_index]\n",
    "        \n",
    "        img_array, lbl_array, msk_array = self.img2array(img_index)\n",
    "        \n",
    "        (fc_nr,fi_nr) = self.batch_division\n",
    "        b_nr = batch_size-(fc_nr+fi_nr)\n",
    "        \n",
    "        if len(list(fi_slices_dict.keys())) == 0:\n",
    "            fc_nr = fc_nr + fi_nr\n",
    "            fi_nr = 0\n",
    "            \n",
    "        fc_grid, fc_grid_size = self.fissureGrid(fc_slices_dict)\n",
    "        fi_grid, fi_grid_size = self.fissureGrid(fi_slices_dict)\n",
    "        b_grid, b_grid_dict, b_grid_size = self.backgroundGrid(img_array.shape,int(b_nr/4))\n",
    "            \n",
    "        background_counter = 0\n",
    "        background_index = 0\n",
    "        \n",
    "        for i in range(batch_size):\n",
    "            if i < fc_nr:\n",
    "                z = fc_grid[i%fc_grid_size]\n",
    "                (z,y,x) = self.getCoordinates(fc_slices_dict,z,img_array)\n",
    "                x_data[i] = self.patch_extractor.get_patch(img_array,(z,y,x))\n",
    "                y_data[i,0,0,0,2] = 1\n",
    "                fissure_data[i] = self.patch_extractor.get_patch(lbl_array,(z,y,x))\n",
    "            elif ((i >= fc_nr) and (i < (fc_nr + fi_nr))):\n",
    "                z = fi_grid[i%fi_grid_size]\n",
    "                (z,y,x) = self.getCoordinates(fi_slices_dict,z,img_array)\n",
    "                x_data[i] = self.patch_extractor.get_patch(img_array,(z,y,x))\n",
    "                y_data[i,0,0,0,1] = 1\n",
    "                fissure_data[i] = self.patch_extractor.get_patch(lbl_array,(z,y,x))\n",
    "            else:\n",
    "                if background_counter == 4:\n",
    "                    background_index += 1\n",
    "                    background_counter = 0\n",
    "                z = b_grid[background_index]\n",
    "                grid = b_grid_dict[z][background_counter]\n",
    "                (z,y,x) = self.getBackground(grid,msk_array,z)\n",
    "                x_data[i] = self.patch_extractor.get_patch(img_array,(z,y,x))\n",
    "                y_data[i,0,0,0,0] = 1\n",
    "                fissure_data[i] = self.patch_extractor.get_patch(lbl_array,(z,y,x))\n",
    "                background_counter += 1\n",
    "        \n",
    "        self.examined_images.append(img_index)\n",
    "        \n",
    "        return x_data, y_data\n",
    "    \n",
    "    def pickImage(self):\n",
    "        index = np.random.randint(0,len(self.img_indices)-1)\n",
    "        img_index = self.img_indices[index]\n",
    "        self.examined_images.append(img_index)\n",
    "        self.img_indices = np.delete(self.img_indices,index)\n",
    "        return img_index\n",
    "    \n",
    "    def initializeOutputArrays(self, batch_size):\n",
    "        # patch array\n",
    "        x_data = np.zeros((batch_size, *self.patch_extractor.patch_size))\n",
    "        # label array (one-hot structure)\n",
    "        y_data = np.zeros((batch_size, 1, 1, 1, 3))\n",
    "        # fissure mask patch array\n",
    "        fissure_data = np.zeros((batch_size, *self.patch_extractor.patch_size))\n",
    "        \n",
    "        return x_data, y_data, fissure_data\n",
    "    \n",
    "    def img2array(self, img_index):\n",
    "        # compute numpy array from image\n",
    "        img_path = self.img_list[img_index]\n",
    "        img_array = readImg(img_path)\n",
    "        \n",
    "        # compute numpy array from fissure mask\n",
    "        lbl_path = self.lbl_list[img_index]\n",
    "        lbl_array = readImg(lbl_path)\n",
    "        \n",
    "        # compute numpy array from lung mask\n",
    "        msk_path = self.msk_list[img_index]\n",
    "        msk_array = readImg(msk_path)\n",
    "        return img_array, lbl_array, msk_array\n",
    "    \n",
    "    def fissureGrid(self,slicesDict):\n",
    "        z_size, _, _ = self.patch_extractor.patch_size\n",
    "        slices = sorted(list(slicesDict.keys()))\n",
    "        z_grid = list(chunks(slices,int(z_size*1.5)))\n",
    "        z_medians = [int(np.median(chunk)) for chunk in z_grid]\n",
    "        grid_size = len(z_medians)\n",
    "        return z_medians, grid_size\n",
    "    \n",
    "    def backgroundGrid(self,img_shape,b_nr):\n",
    "        z_max, y_max, x_max = img_shape\n",
    "        z_size, y_size, x_size = self.patch_extractor.patch_size\n",
    "        slices = list(range(z_max))\n",
    "        z_grid = list(chunks(slices,int(len(slices)/b_nr)))\n",
    "        z_medians = [int(np.median(chunk)) for chunk in z_grid]\n",
    "        grid_size = len(z_medians)\n",
    "        z_grid_dict = {}\n",
    "        for z_median in z_medians:\n",
    "            grid1 = (0+math.ceil(y_size/2),int(y_max/2)-1,0+math.ceil(x_size/2),int(x_max/2)-1)\n",
    "            grid2 = (0+math.ceil(y_size/2),int(y_max/2)-1,int(x_max/2),(x_max-1)-(math.floor(y_size/2)))\n",
    "            grid3 = (int(y_max/2),(y_max-1)-(math.floor(y_size/2)),0+math.ceil(x_size/2),int(x_max/2)-1)\n",
    "            grid4 = (int(y_max/2),(y_max-1)-(math.floor(y_size/2)),int(x_max/2),(x_max-1)-(math.floor(y_size/2)))\n",
    "            z_grid_dict[z_median] = (grid1,grid2,grid3,grid4)\n",
    "        return z_medians, z_grid_dict, grid_size\n",
    "        \n",
    "    def chunks(self,l,n):\n",
    "        return [l[i:i + n] for i in range(0, len(l), n)]\n",
    "    \n",
    "    def getCoordinates(self,slices_dict,z,img_array):\n",
    "        coordinates = slices_dict[z]\n",
    "        filtered_coordinates = [(y,x) for (y,x) in coordinates if self.inBoundary((z,y,x),img_array.shape)]\n",
    "        if len(filtered_coordinates) == 0:\n",
    "            print(\"Error: no x,y coordinates found that are in boundary of the image taking the patch size in mind\")\n",
    "        random_coords_index = np.random.choice(len(filtered_coordinates))\n",
    "        y, x = filtered_coordinates[random_coords_index]\n",
    "        return (z,y,x)\n",
    "    \n",
    "    def getBackground(self,grid,msk_array,z):\n",
    "        (y_min,y_max,x_min,x_max) = grid\n",
    "        y_indices, x_indices = np.where(msk_array[z,:,:] == 3)\n",
    "        coords = self.getCoords(z,y_indices,x_indices,msk_array)\n",
    "        i = np.random.randint(len(coords)-1)\n",
    "        (y,x) = coords[i]\n",
    "        return (z,y,x)\n",
    "    \n",
    "    def getCoords(self,z,y_indices,x_indices,msk_array):\n",
    "        coords = []\n",
    "        for i, y in enumerate(y_indices):\n",
    "            x = x_indices[i]\n",
    "            coord = (y,x)\n",
    "            if self.inBoundary((z,y,x),msk_array.shape):\n",
    "                coords.append(coord)\n",
    "        return coords\n",
    "        \n",
    "    \n",
    "    def inBoundary(self,location, img_shape):\n",
    "        _, y_size, x_size = img_shape\n",
    "        _, y_patch, x_patch = self.patch_extractor.patch_size\n",
    "        \n",
    "        y_min = math.ceil(0+(y_patch/2))\n",
    "        y_max = math.floor(y_size-(y_patch/2))\n",
    "        \n",
    "        x_min = math.ceil(0+(x_patch/2))\n",
    "        x_max = math.ceil(x_size-(x_patch/2))\n",
    "        \n",
    "        _, y, x = location\n",
    "        \n",
    "        if (y <= y_max and y >= y_min) and (x <= x_max and x >= x_min):\n",
    "            return True\n",
    "        else:\n",
    "            return False\n",
    "        \n",
    "    def checkBackground(self,location,lbl_array,msk_array):\n",
    "        z, y, x = location\n",
    "        if (lbl_array[z,y,x] == 0) and (msk_array[z,y,x] == 3):\n",
    "            return True\n",
    "        else:\n",
    "            return False\n",
    "        \n",
    "    def get_generator(self, batch_size):\n",
    "        '''returns a generator that will yield batches infinitely'''\n",
    "        while True:\n",
    "            yield self.create_batch(batch_size)\n",
    "        "
   ]
  },
  {
   "cell_type": "markdown",
   "metadata": {},
   "source": [
    "# Example Setup"
   ]
  },
  {
   "cell_type": "code",
   "execution_count": 176,
   "metadata": {},
   "outputs": [],
   "source": [
    "patch_size = (10,32,32)\n",
    "patch_extractor = PatchExtractor(patch_size)\n",
    "batch_size = 32\n",
    "batch_division = (8,8)"
   ]
  },
  {
   "cell_type": "code",
   "execution_count": 177,
   "metadata": {},
   "outputs": [],
   "source": [
    "batch_creator = BatchCreator(patch_extractor, data, patch_indices, batch_division)"
   ]
  },
  {
   "cell_type": "code",
   "execution_count": 178,
   "metadata": {},
   "outputs": [],
   "source": [
    "x, y = batch_creator.create_batch(batch_size)"
   ]
  },
  {
   "cell_type": "code",
   "execution_count": null,
   "metadata": {},
   "outputs": [],
   "source": []
  }
 ],
 "metadata": {
  "kernelspec": {
   "display_name": "Python 3",
   "language": "python",
   "name": "python3"
  },
  "language_info": {
   "codemirror_mode": {
    "name": "ipython",
    "version": 3
   },
   "file_extension": ".py",
   "mimetype": "text/x-python",
   "name": "python",
   "nbconvert_exporter": "python",
   "pygments_lexer": "ipython3",
   "version": "3.5.2"
  }
 },
 "nbformat": 4,
 "nbformat_minor": 2
}
