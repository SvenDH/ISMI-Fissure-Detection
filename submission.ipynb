{
 "cells": [
  {
   "cell_type": "markdown",
   "metadata": {},
   "source": [
    "# Create submission"
   ]
  },
  {
   "cell_type": "code",
   "execution_count": 1,
   "metadata": {},
   "outputs": [
    {
     "name": "stderr",
     "output_type": "stream",
     "text": [
      "C:\\Users\\denha\\Anaconda3\\lib\\site-packages\\h5py\\__init__.py:36: FutureWarning: Conversion of the second argument of issubdtype from `float` to `np.floating` is deprecated. In future, it will be treated as `np.float64 == np.dtype(float).type`.\n",
      "  from ._conv import register_converters as _register_converters\n",
      "Using TensorFlow backend.\n"
     ]
    }
   ],
   "source": [
    "import os, random\n",
    "import ntpath\n",
    "import SimpleITK\n",
    "from matplotlib import pyplot as plt\n",
    "import pandas as pd\n",
    "import numpy as np\n",
    "from utils import BatchGenerator, shift_and_stitch, get_output_size, read_img\n",
    "import callbacks\n",
    "from models import unet\n",
    "import pickle\n",
    "import time\n",
    "\n",
    "from keras import backend as K\n",
    "from keras.engine import Input, Model\n",
    "from keras.layers import Conv3D, MaxPooling3D, Activation, Deconvolution3D, Cropping3D, UpSampling3D, BatchNormalization\n",
    "from keras.optimizers import Adam\n",
    "from keras.callbacks import ModelCheckpoint, TensorBoard\n",
    "from keras.layers.merge import concatenate"
   ]
  },
  {
   "cell_type": "code",
   "execution_count": 2,
   "metadata": {},
   "outputs": [],
   "source": [
    "data = pd.read_pickle(\"train-data-filelist.pkl\")"
   ]
  },
  {
   "cell_type": "code",
   "execution_count": 3,
   "metadata": {},
   "outputs": [],
   "source": [
    "patch_size = (132,132,116)\n",
    "output_size = get_output_size(patch_size)"
   ]
  },
  {
   "cell_type": "code",
   "execution_count": 4,
   "metadata": {},
   "outputs": [
    {
     "name": "stdout",
     "output_type": "stream",
     "text": [
      "_________________________________________________________________\n",
      "Layer (type)                 Output Shape              Param #   \n",
      "=================================================================\n",
      "input_1 (InputLayer)         (None, 132, 132, 116, 1)  0         \n",
      "_________________________________________________________________\n",
      "conv3d_1 (Conv3D)            (None, 130, 130, 114, 32) 896       \n",
      "_________________________________________________________________\n",
      "batch_normalization_1 (Batch (None, 130, 130, 114, 32) 128       \n",
      "_________________________________________________________________\n",
      "activation_1 (Activation)    (None, 130, 130, 114, 32) 0         \n",
      "_________________________________________________________________\n",
      "conv3d_2 (Conv3D)            (None, 128, 128, 112, 32) 27680     \n",
      "_________________________________________________________________\n",
      "batch_normalization_2 (Batch (None, 128, 128, 112, 32) 128       \n",
      "_________________________________________________________________\n",
      "activation_2 (Activation)    (None, 128, 128, 112, 32) 0         \n",
      "_________________________________________________________________\n",
      "max_pooling3d_1 (MaxPooling3 (None, 64, 64, 56, 32)    0         \n",
      "_________________________________________________________________\n",
      "conv3d_3 (Conv3D)            (None, 62, 62, 54, 64)    55360     \n",
      "_________________________________________________________________\n",
      "batch_normalization_3 (Batch (None, 62, 62, 54, 64)    256       \n",
      "_________________________________________________________________\n",
      "activation_3 (Activation)    (None, 62, 62, 54, 64)    0         \n",
      "_________________________________________________________________\n",
      "conv3d_4 (Conv3D)            (None, 60, 60, 52, 64)    110656    \n",
      "_________________________________________________________________\n",
      "batch_normalization_4 (Batch (None, 60, 60, 52, 64)    256       \n",
      "_________________________________________________________________\n",
      "activation_4 (Activation)    (None, 60, 60, 52, 64)    0         \n",
      "_________________________________________________________________\n",
      "max_pooling3d_2 (MaxPooling3 (None, 30, 30, 26, 64)    0         \n",
      "_________________________________________________________________\n",
      "conv3d_5 (Conv3D)            (None, 28, 28, 24, 128)   221312    \n",
      "_________________________________________________________________\n",
      "batch_normalization_5 (Batch (None, 28, 28, 24, 128)   512       \n",
      "_________________________________________________________________\n",
      "activation_5 (Activation)    (None, 28, 28, 24, 128)   0         \n",
      "_________________________________________________________________\n",
      "conv3d_6 (Conv3D)            (None, 26, 26, 22, 128)   442496    \n",
      "_________________________________________________________________\n",
      "batch_normalization_6 (Batch (None, 26, 26, 22, 128)   512       \n",
      "_________________________________________________________________\n",
      "activation_6 (Activation)    (None, 26, 26, 22, 128)   0         \n",
      "_________________________________________________________________\n",
      "max_pooling3d_3 (MaxPooling3 (None, 13, 13, 11, 128)   0         \n",
      "_________________________________________________________________\n",
      "conv3d_7 (Conv3D)            (None, 11, 11, 9, 256)    884992    \n",
      "_________________________________________________________________\n",
      "batch_normalization_7 (Batch (None, 11, 11, 9, 256)    1024      \n",
      "_________________________________________________________________\n",
      "activation_7 (Activation)    (None, 11, 11, 9, 256)    0         \n",
      "_________________________________________________________________\n",
      "conv3d_8 (Conv3D)            (None, 9, 9, 7, 256)      1769728   \n",
      "_________________________________________________________________\n",
      "batch_normalization_8 (Batch (None, 9, 9, 7, 256)      1024      \n",
      "_________________________________________________________________\n",
      "activation_8 (Activation)    (None, 9, 9, 7, 256)      0         \n",
      "_________________________________________________________________\n",
      "up_sampling3d_1 (UpSampling3 (None, 18, 18, 14, 256)   0         \n",
      "_________________________________________________________________\n",
      "conv3d_9 (Conv3D)            (None, 16, 16, 12, 128)   884864    \n",
      "_________________________________________________________________\n",
      "batch_normalization_9 (Batch (None, 16, 16, 12, 128)   512       \n",
      "_________________________________________________________________\n",
      "activation_9 (Activation)    (None, 16, 16, 12, 128)   0         \n",
      "_________________________________________________________________\n",
      "conv3d_10 (Conv3D)           (None, 14, 14, 10, 128)   442496    \n",
      "_________________________________________________________________\n",
      "batch_normalization_10 (Batc (None, 14, 14, 10, 128)   512       \n",
      "_________________________________________________________________\n",
      "activation_10 (Activation)   (None, 14, 14, 10, 128)   0         \n",
      "_________________________________________________________________\n",
      "up_sampling3d_2 (UpSampling3 (None, 28, 28, 20, 128)   0         \n",
      "_________________________________________________________________\n",
      "conv3d_11 (Conv3D)           (None, 26, 26, 18, 64)    221248    \n",
      "_________________________________________________________________\n",
      "batch_normalization_11 (Batc (None, 26, 26, 18, 64)    256       \n",
      "_________________________________________________________________\n",
      "activation_11 (Activation)   (None, 26, 26, 18, 64)    0         \n",
      "_________________________________________________________________\n",
      "conv3d_12 (Conv3D)           (None, 24, 24, 16, 64)    110656    \n",
      "_________________________________________________________________\n",
      "batch_normalization_12 (Batc (None, 24, 24, 16, 64)    256       \n",
      "_________________________________________________________________\n",
      "activation_12 (Activation)   (None, 24, 24, 16, 64)    0         \n",
      "_________________________________________________________________\n",
      "up_sampling3d_3 (UpSampling3 (None, 48, 48, 32, 64)    0         \n",
      "_________________________________________________________________\n",
      "conv3d_13 (Conv3D)           (None, 46, 46, 30, 32)    55328     \n",
      "_________________________________________________________________\n",
      "batch_normalization_13 (Batc (None, 46, 46, 30, 32)    128       \n",
      "_________________________________________________________________\n",
      "activation_13 (Activation)   (None, 46, 46, 30, 32)    0         \n",
      "_________________________________________________________________\n",
      "conv3d_14 (Conv3D)           (None, 44, 44, 28, 32)    27680     \n",
      "_________________________________________________________________\n",
      "batch_normalization_14 (Batc (None, 44, 44, 28, 32)    128       \n",
      "_________________________________________________________________\n",
      "activation_14 (Activation)   (None, 44, 44, 28, 32)    0         \n",
      "_________________________________________________________________\n",
      "conv3d_15 (Conv3D)           (None, 44, 44, 28, 5)     165       \n",
      "_________________________________________________________________\n",
      "activation_15 (Activation)   (None, 44, 44, 28, 5)     0         \n",
      "=================================================================\n",
      "Total params: 5,261,189\n",
      "Trainable params: 5,258,373\n",
      "Non-trainable params: 2,816\n",
      "_________________________________________________________________\n",
      "_________________________________________________________________\n",
      "Layer (type)                 Output Shape              Param #   \n",
      "=================================================================\n",
      "input_1 (InputLayer)         (None, 132, 132, 116, 1)  0         \n",
      "_________________________________________________________________\n",
      "conv3d_1 (Conv3D)            (None, 130, 130, 114, 32) 896       \n",
      "_________________________________________________________________\n",
      "batch_normalization_1 (Batch (None, 130, 130, 114, 32) 128       \n",
      "_________________________________________________________________\n",
      "activation_1 (Activation)    (None, 130, 130, 114, 32) 0         \n",
      "_________________________________________________________________\n",
      "conv3d_2 (Conv3D)            (None, 128, 128, 112, 32) 27680     \n",
      "_________________________________________________________________\n",
      "batch_normalization_2 (Batch (None, 128, 128, 112, 32) 128       \n",
      "_________________________________________________________________\n",
      "activation_2 (Activation)    (None, 128, 128, 112, 32) 0         \n",
      "_________________________________________________________________\n",
      "max_pooling3d_1 (MaxPooling3 (None, 64, 64, 56, 32)    0         \n",
      "_________________________________________________________________\n",
      "conv3d_3 (Conv3D)            (None, 62, 62, 54, 64)    55360     \n",
      "_________________________________________________________________\n",
      "batch_normalization_3 (Batch (None, 62, 62, 54, 64)    256       \n",
      "_________________________________________________________________\n",
      "activation_3 (Activation)    (None, 62, 62, 54, 64)    0         \n",
      "_________________________________________________________________\n",
      "conv3d_4 (Conv3D)            (None, 60, 60, 52, 64)    110656    \n",
      "_________________________________________________________________\n",
      "batch_normalization_4 (Batch (None, 60, 60, 52, 64)    256       \n",
      "_________________________________________________________________\n",
      "activation_4 (Activation)    (None, 60, 60, 52, 64)    0         \n",
      "_________________________________________________________________\n",
      "max_pooling3d_2 (MaxPooling3 (None, 30, 30, 26, 64)    0         \n",
      "_________________________________________________________________\n",
      "conv3d_5 (Conv3D)            (None, 28, 28, 24, 128)   221312    \n",
      "_________________________________________________________________\n",
      "batch_normalization_5 (Batch (None, 28, 28, 24, 128)   512       \n",
      "_________________________________________________________________\n",
      "activation_5 (Activation)    (None, 28, 28, 24, 128)   0         \n",
      "_________________________________________________________________\n",
      "conv3d_6 (Conv3D)            (None, 26, 26, 22, 128)   442496    \n",
      "_________________________________________________________________\n",
      "batch_normalization_6 (Batch (None, 26, 26, 22, 128)   512       \n",
      "_________________________________________________________________\n",
      "activation_6 (Activation)    (None, 26, 26, 22, 128)   0         \n",
      "_________________________________________________________________\n",
      "max_pooling3d_3 (MaxPooling3 (None, 13, 13, 11, 128)   0         \n",
      "_________________________________________________________________\n",
      "conv3d_7 (Conv3D)            (None, 11, 11, 9, 256)    884992    \n",
      "_________________________________________________________________\n",
      "batch_normalization_7 (Batch (None, 11, 11, 9, 256)    1024      \n",
      "_________________________________________________________________\n",
      "activation_7 (Activation)    (None, 11, 11, 9, 256)    0         \n",
      "_________________________________________________________________\n",
      "conv3d_8 (Conv3D)            (None, 9, 9, 7, 256)      1769728   \n",
      "_________________________________________________________________\n",
      "batch_normalization_8 (Batch (None, 9, 9, 7, 256)      1024      \n",
      "_________________________________________________________________\n",
      "activation_8 (Activation)    (None, 9, 9, 7, 256)      0         \n",
      "_________________________________________________________________\n",
      "up_sampling3d_1 (UpSampling3 (None, 18, 18, 14, 256)   0         \n",
      "_________________________________________________________________\n",
      "conv3d_9 (Conv3D)            (None, 16, 16, 12, 128)   884864    \n",
      "_________________________________________________________________\n",
      "batch_normalization_9 (Batch (None, 16, 16, 12, 128)   512       \n",
      "_________________________________________________________________\n",
      "activation_9 (Activation)    (None, 16, 16, 12, 128)   0         \n",
      "_________________________________________________________________\n",
      "conv3d_10 (Conv3D)           (None, 14, 14, 10, 128)   442496    \n",
      "_________________________________________________________________\n",
      "batch_normalization_10 (Batc (None, 14, 14, 10, 128)   512       \n",
      "_________________________________________________________________\n",
      "activation_10 (Activation)   (None, 14, 14, 10, 128)   0         \n",
      "_________________________________________________________________\n",
      "up_sampling3d_2 (UpSampling3 (None, 28, 28, 20, 128)   0         \n",
      "_________________________________________________________________\n",
      "conv3d_11 (Conv3D)           (None, 26, 26, 18, 64)    221248    \n",
      "_________________________________________________________________\n",
      "batch_normalization_11 (Batc (None, 26, 26, 18, 64)    256       \n",
      "_________________________________________________________________\n",
      "activation_11 (Activation)   (None, 26, 26, 18, 64)    0         \n",
      "_________________________________________________________________\n",
      "conv3d_12 (Conv3D)           (None, 24, 24, 16, 64)    110656    \n",
      "_________________________________________________________________\n",
      "batch_normalization_12 (Batc (None, 24, 24, 16, 64)    256       \n",
      "_________________________________________________________________\n",
      "activation_12 (Activation)   (None, 24, 24, 16, 64)    0         \n",
      "_________________________________________________________________\n",
      "up_sampling3d_3 (UpSampling3 (None, 48, 48, 32, 64)    0         \n",
      "_________________________________________________________________\n",
      "conv3d_13 (Conv3D)           (None, 46, 46, 30, 32)    55328     \n",
      "_________________________________________________________________\n",
      "batch_normalization_13 (Batc (None, 46, 46, 30, 32)    128       \n",
      "_________________________________________________________________\n",
      "activation_13 (Activation)   (None, 46, 46, 30, 32)    0         \n",
      "_________________________________________________________________\n",
      "conv3d_14 (Conv3D)           (None, 44, 44, 28, 32)    27680     \n",
      "_________________________________________________________________\n",
      "batch_normalization_14 (Batc (None, 44, 44, 28, 32)    128       \n",
      "_________________________________________________________________\n",
      "activation_14 (Activation)   (None, 44, 44, 28, 32)    0         \n",
      "_________________________________________________________________\n",
      "conv3d_15 (Conv3D)           (None, 44, 44, 28, 5)     165       \n",
      "_________________________________________________________________\n",
      "activation_15 (Activation)   (None, 44, 44, 28, 5)     0         \n",
      "=================================================================\n",
      "Total params: 5,261,189\n",
      "Trainable params: 5,258,373\n",
      "Non-trainable params: 2,816\n",
      "_________________________________________________________________\n"
     ]
    }
   ],
   "source": [
    "model = unet(input_shape=[*patch_size,1])\n",
    "model.load_weights('weights-2006-105451.hdf5')\n",
    "model.summary()"
   ]
  },
  {
   "cell_type": "code",
   "execution_count": 9,
   "metadata": {},
   "outputs": [],
   "source": [
    "mask_preds = []\n",
    "for path in data['image'].values[0:5]:\n",
    "    image = read_img(path)\n",
    "    output = shift_and_stitch(model, image, patch_size, output_size, output_size)\n",
    "    mask_preds.append(output)"
   ]
  },
  {
   "cell_type": "code",
   "execution_count": 17,
   "metadata": {},
   "outputs": [
    {
     "data": {
      "text/plain": [
       "<matplotlib.image.AxesImage at 0x2476f1d4080>"
      ]
     },
     "execution_count": 17,
     "metadata": {},
     "output_type": "execute_result"
    },
    {
     "data": {
      "image/png": "[encoded data removed]",
      "text/plain": [
       "<Figure size 432x288 with 1 Axes>"
      ]
     },
     "metadata": {},
     "output_type": "display_data"
    }
   ],
   "source": [
    "plt.imshow(mask_preds[0][:,:,75])"
   ]
  },
  {
   "cell_type": "code",
   "execution_count": 18,
   "metadata": {},
   "outputs": [
    {
     "data": {
      "text/plain": [
       "<matplotlib.image.AxesImage at 0x2476f322358>"
      ]
     },
     "execution_count": 18,
     "metadata": {},
     "output_type": "execute_result"
    },
    {
     "data": {
      "image/png": "[encoded data removed]",
      "text/plain": [
       "<Figure size 432x288 with 1 Axes>"
      ]
     },
     "metadata": {},
     "output_type": "display_data"
    }
   ],
   "source": [
    "true = read_img(data['fissuremask'].values[0])\n",
    "plt.imshow(true[:,:,75])"
   ]
  },
  {
   "cell_type": "code",
   "execution_count": 20,
   "metadata": {},
   "outputs": [
    {
     "data": {
      "text/plain": [
       "<matplotlib.image.AxesImage at 0x247073ae6a0>"
      ]
     },
     "execution_count": 20,
     "metadata": {},
     "output_type": "execute_result"
    },
    {
     "data": {
      "image/png": "[encoded data removed]",
      "text/plain": [
       "<Figure size 432x288 with 1 Axes>"
      ]
     },
     "metadata": {},
     "output_type": "display_data"
    }
   ],
   "source": [
    "image = read_img(data['image'].values[0])\n",
    "plt.imshow(image[:,:,75])"
   ]
  },
  {
   "cell_type": "code",
   "execution_count": null,
   "metadata": {},
   "outputs": [],
   "source": []
  }
 ],
 "metadata": {
  "kernelspec": {
   "display_name": "Python 3",
   "language": "python",
   "name": "python3"
  },
  "language_info": {
   "codemirror_mode": {
    "name": "ipython",
    "version": 3
   },
   "file_extension": ".py",
   "mimetype": "text/x-python",
   "name": "python",
   "nbconvert_exporter": "python",
   "pygments_lexer": "ipython3",
   "version": "3.6.1"
  }
 },
 "nbformat": 4,
 "nbformat_minor": 2
}
