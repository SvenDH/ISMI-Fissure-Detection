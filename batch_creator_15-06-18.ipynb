{
 "cells": [
  {
   "cell_type": "code",
   "execution_count": 1,
   "metadata": {},
   "outputs": [],
   "source": [
    "import os, random\n",
    "import ntpath\n",
    "import SimpleITK\n",
    "from matplotlib import pyplot as plt\n",
    "import matplotlib\n",
    "import pandas as pd\n",
    "import numpy as np\n",
    "import pickle\n",
    "import math\n",
    "from sklearn.model_selection import StratifiedShuffleSplit\n",
    "from tqdm import tqdm_notebook as tqdm"
   ]
  },
  {
   "cell_type": "markdown",
   "metadata": {},
   "source": [
    "# Load Data"
   ]
  },
  {
   "cell_type": "code",
   "execution_count": 2,
   "metadata": {},
   "outputs": [],
   "source": [
    "# Loading data from pickle:\n",
    "data = pd.read_pickle(\"pickle files/train-data-filelist.pkl\")"
   ]
  },
  {
   "cell_type": "code",
   "execution_count": 3,
   "metadata": {},
   "outputs": [],
   "source": [
    "patch_indices = pickle.load(open(\"pickle files/patch_indices.p\",\"rb\"))"
   ]
  },
  {
   "cell_type": "code",
   "execution_count": 4,
   "metadata": {},
   "outputs": [],
   "source": [
    "# fc_indices are the fissure complete label indices\n",
    "# fi_indices are the fissure incomplete label indices\n",
    "fc_indices, fi_indices = patch_indices"
   ]
  },
  {
   "cell_type": "markdown",
   "metadata": {},
   "source": [
    "# Split Data"
   ]
  },
  {
   "cell_type": "code",
   "execution_count": 5,
   "metadata": {},
   "outputs": [],
   "source": [
    "labels = data['label'].values"
   ]
  },
  {
   "cell_type": "code",
   "execution_count": 6,
   "metadata": {},
   "outputs": [],
   "source": [
    "splitter = StratifiedShuffleSplit(1,test_size=0.1)"
   ]
  },
  {
   "cell_type": "code",
   "execution_count": 7,
   "metadata": {},
   "outputs": [],
   "source": [
    "for train_index, test_index in splitter.split(data, data['label'].values):\n",
    "    train_set = data.loc[train_index]\n",
    "    validation_set = data.loc[test_index]"
   ]
  },
  {
   "cell_type": "markdown",
   "metadata": {},
   "source": [
    "# Patch Generator"
   ]
  },
  {
   "cell_type": "code",
   "execution_count": 8,
   "metadata": {},
   "outputs": [],
   "source": [
    "'''\n",
    "PatchExtractor: class used to extract and possibly augment patches from images.\n",
    "'''\n",
    "\n",
    "class PatchExtractor:\n",
    "    \n",
    "    def __init__(self, patch_size, output_shape):\n",
    "        self.patch_size = patch_size\n",
    "        self.output_shape = output_shape\n",
    "        \n",
    "    def get_patch(self, image, location, isOutput):\n",
    "        '''\n",
    "        image: a numpy array representing the input image\n",
    "        location: a tuple with an z, y, and x coordinate\n",
    "        \n",
    "        return a 3D patch from the image at 'location', representing the center of the patch\n",
    "        '''\n",
    "        \n",
    "        z, y, x = location\n",
    "        c, h, w = self.patch_size\n",
    "        patch = np.zeros(self.patch_size + (1,))\n",
    "        if isOutput:\n",
    "            patch = np.zeros(self.output_shape + (1,))\n",
    "            c, h, w = self.output_shape\n",
    "        try:\n",
    "            #patch = image[int(z-(c/2)):int(z+(c/2)),int(y-(h/2)):int(y+(h/2)),int(x-(w/2)):int(x+(w/2))]\n",
    "            patch[:,:,:,0] = image[int(z-(c/2)):int(z+(c/2)),int(y-(h/2)):int(y+(h/2)),int(x-(w/2)):int(x+(w/2))]\n",
    "        except:\n",
    "            print(\"Patch out of boundary, please make sure that the patch location is not out of boundary.\")\n",
    "        return patch"
   ]
  },
  {
   "cell_type": "markdown",
   "metadata": {},
   "source": [
    "# Additional functions"
   ]
  },
  {
   "cell_type": "code",
   "execution_count": 29,
   "metadata": {},
   "outputs": [],
   "source": [
    "def computeBackgroundSamples(img_array,lbl_array,patch_size,output_shape):\n",
    "    # unpack different sizes\n",
    "    img_z, img_y, img_x = img_array.shape\n",
    "    patch_z, patch_y, patch_x = patch_size\n",
    "    output_z, output_y, output_x = output_shape\n",
    "    \n",
    "    # compute minimum and maximum per dimension\n",
    "    min_z = int(0+(patch_z/2))\n",
    "    max_z = int(img_z-(patch_z/2))\n",
    "    \n",
    "    min_y = int(0+(patch_y/2))\n",
    "    max_y = int(img_y-(patch_y/2))\n",
    "    \n",
    "    min_x = int(0+(patch_x/2))\n",
    "    max_x = int(img_x-(patch_x/2))\n",
    "    \n",
    "    # compute step sizes based on output size\n",
    "    # this is important as due to network the output is smaller than input\n",
    "    # this way overlap is garanteed\n",
    "    z_step_size = int(output_z/2)\n",
    "    y_step_size = int(output_y/2)\n",
    "    x_step_size = int(output_x/2)\n",
    "    \n",
    "    samples = []\n",
    "    \n",
    "    # collect different coords unless coord is not background\n",
    "    for z in range(min_z,max_z,z_step_size):\n",
    "        for y in range(min_y,max_y,y_step_size):\n",
    "            for x in range(min_x,max_x,x_step_size):\n",
    "                if not lbl_array[z,y,x] == 0:\n",
    "                    continue\n",
    "                else:\n",
    "                    samples.append((z,y,x))\n",
    "                    \n",
    "    return samples"
   ]
  },
  {
   "cell_type": "code",
   "execution_count": 30,
   "metadata": {},
   "outputs": [],
   "source": [
    "def getBackgroundSamples(patch_size,output_shape,dataset):\n",
    "    # obtain image indices to obtain img_path and lbl_path\n",
    "    dataset_indices = dataset.index.values.tolist()\n",
    "    \n",
    "    # initialize dict to store samples per image\n",
    "    samplesDict = {}\n",
    "    \n",
    "    # go over the image indices\n",
    "    for i in range(len(dataset_indices)):\n",
    "        # obtain img path and array\n",
    "        img_index = dataset_indices[i]\n",
    "        img_path = dataset.iloc[dataset.index.values.tolist().index(img_index)]['image']\n",
    "        img_array = readImg(img_path)\n",
    "        \n",
    "        # obtain lbl path and array\n",
    "        lbl_path = dataset.iloc[dataset.index.values.tolist().index(img_index)]['fissuremask']\n",
    "        lbl_array = readImg(lbl_path)\n",
    "        \n",
    "        # collect sample for specific image\n",
    "        samples = computeBackgroundSamples(img_array,lbl_array,patch_size,output_shape)\n",
    "        \n",
    "        # store samples with img_index as key\n",
    "        samplesDict[img_index] = samples\n",
    "        \n",
    "    return samplesDict"
   ]
  },
  {
   "cell_type": "code",
   "execution_count": 31,
   "metadata": {},
   "outputs": [],
   "source": [
    "def getBoundaries(img_array, patch_size):\n",
    "    # unpack different sizes\n",
    "    img_z, img_y, img_x = img_array.shape\n",
    "    patch_z, patch_y, patch_x = patch_size\n",
    "    \n",
    "    # compute minimum and maximum sizes\n",
    "    min_z = int(0+(patch_z/2))\n",
    "    max_z = int(img_z-(patch_z/2))\n",
    "    \n",
    "    min_y = int(0+(patch_y/2))\n",
    "    max_y = int(img_y-(patch_y/2))\n",
    "    \n",
    "    min_x = int(0+(patch_x/2))\n",
    "    max_x = int(img_x-(patch_x/2))\n",
    "    \n",
    "    return ((min_z,max_z),(min_y,max_y),(min_x,max_x))"
   ]
  },
  {
   "cell_type": "code",
   "execution_count": 12,
   "metadata": {},
   "outputs": [],
   "source": [
    "def getFissureSamples(patch_size,indices,dataset):\n",
    "    samplesDict = {}\n",
    "    # go over all images in the dataset\n",
    "    for i in range(len(indices)):\n",
    "        \n",
    "        # obtain image array\n",
    "        img_path = dataset.iloc[dataset.index.values.tolist().index(i)]['image']\n",
    "        img_array = readImg(img_path)\n",
    "        \n",
    "        # use image array to determine boundaries\n",
    "        (min_z,max_z),(min_y,max_y),(min_x,max_x) = getBoundaries(img_array,patch_size)\n",
    "        \n",
    "        # get fissure (in)complete indices correpsonding to image\n",
    "        img_indices = indices[i]\n",
    "        \n",
    "        # get slices with fissure (in)complete parts\n",
    "        z_slices = list(img_indices.keys())\n",
    "        \n",
    "        # initialize list to put coords in\n",
    "        samples = []\n",
    "        \n",
    "        # go over z slices\n",
    "        for z in z_slices:\n",
    "            # if z out of boundary, skip it\n",
    "            if (z < min_z) or (z > max_z):\n",
    "                continue\n",
    "            else:\n",
    "                # get all y-x coords related to the CT slice\n",
    "                yx_coords = img_indices[z]\n",
    "                for (y,x) in yx_coords:\n",
    "                    if (y >= min_y) and (y <= max_y):\n",
    "                        if (x >= min_x) and (x <= max_x):\n",
    "                            # only append if not out of boundary\n",
    "                            samples.append((z,y,x))\n",
    "                            \n",
    "        # store samples with key = image index\n",
    "        samplesDict[i] = samples\n",
    "        \n",
    "    return samplesDict"
   ]
  },
  {
   "cell_type": "code",
   "execution_count": 13,
   "metadata": {},
   "outputs": [],
   "source": [
    "def readImg(img_path):\n",
    "    img = SimpleITK.ReadImage(img_path)\n",
    "    img_array = SimpleITK.GetArrayFromImage(img)\n",
    "    return img_array"
   ]
  },
  {
   "cell_type": "markdown",
   "metadata": {},
   "source": [
    "# Batch Creator"
   ]
  },
  {
   "cell_type": "code",
   "execution_count": 65,
   "metadata": {},
   "outputs": [],
   "source": [
    "class BatchCreator:\n",
    "    \n",
    "    def __init__(self,patch_extractor,dataset,sampleLocations,batch_division, nr_samples):\n",
    "        self.patch_extractor = patch_extractor\n",
    "        self.patch_size = self.patch_extractor.patch_size\n",
    "        \n",
    "        self.dataset = dataset\n",
    "        \n",
    "        self.img_list = dataset['image'].values\n",
    "        self.lbl_list = dataset['fissuremask'].values\n",
    "        self.msk_list = dataset['lungmask'].values\n",
    "        \n",
    "        self.img_indices = dataset.index.values.tolist()\n",
    "        \n",
    "        self.bSamples, self.fcSamples, self.fiSamples = sampleLocations\n",
    "        \n",
    "        self.batch_division = batch_division\n",
    "        \n",
    "        self.nr_samples = nr_samples\n",
    "        \n",
    "        self.counter = 0\n",
    "        \n",
    "        self.examined_images = []\n",
    "        \n",
    "    def create_batch(self, batch_size, img_index):\n",
    "        \n",
    "        if len(self.examined_images) == len(self.img_indices):\n",
    "            self.examined_images = []\n",
    "        \n",
    "        x_data, y_data, fissure_data = self.initializeOutputArrays(batch_size)\n",
    "        \n",
    "        b_samples = self.bSamples[img_index]\n",
    "        fc_samples = self.fcSamples[img_index]\n",
    "        fi_samples = self.fiSamples[img_index]\n",
    "        \n",
    "        img_array, lbl_array, msk_array = self.img2array(img_index)\n",
    "        \n",
    "        fc_nr, fi_nr = self.checkEmpty(b_samples,fc_samples,fi_samples,self.batch_division)\n",
    "        \n",
    "        for i in range(batch_size):\n",
    "            if i < fc_nr:\n",
    "                (z,y,x) = random.choice(fc_samples)\n",
    "                x_data[i] = self.patch_extractor.get_patch(img_array,(z,y,x),False)\n",
    "                y_data[i,0,0,0,2] = 1\n",
    "                fissure_data[i] = self.patch_extractor.get_patch(lbl_array,(z,y,x),True)\n",
    "            elif ((i >= fc_nr) and (i < (fc_nr + fi_nr))):\n",
    "                (z,y,x) = random.choice(fi_samples)\n",
    "                x_data[i] = self.patch_extractor.get_patch(img_array,(z,y,x),False)\n",
    "                y_data[i,0,0,0,1] = 1\n",
    "                fissure_data[i] = self.patch_extractor.get_patch(lbl_array,(z,y,x),True)\n",
    "            else:\n",
    "                (z,y,x) = random.choice(b_samples)\n",
    "                x_data[i] = self.patch_extractor.get_patch(img_array,(z,y,x),False)\n",
    "                y_data[i,0,0,0,0] = 1\n",
    "                fissure_data[i] = self.patch_extractor.get_patch(lbl_array,(z,y,x),True)\n",
    "        \n",
    "        self.updateCounter(batch_size)\n",
    "        \n",
    "        self.examined_images.append(img_index)\n",
    "        \n",
    "        return x_data, fissure_data\n",
    "        \n",
    "    def pickImage(self):\n",
    "        img_index = self.img_indices[len(self.examined_images)]\n",
    "        self.examined_images.append(img_index)\n",
    "        return img_index\n",
    "    \n",
    "    def initializeOutputArrays(self, batch_size):\n",
    "        # patch array\n",
    "        x_data = np.zeros((batch_size, *self.patch_extractor.patch_size,1))\n",
    "        # label array (one-hot structure)\n",
    "        y_data = np.zeros((batch_size, 1, 1, 1, 3))\n",
    "        # fissure mask patch array\n",
    "        fissure_data = np.zeros((batch_size, *self.patch_extractor.output_shape,1))\n",
    "        \n",
    "        return x_data, y_data, fissure_data\n",
    "    \n",
    "    def img2array(self, img_index):\n",
    "        # compute numpy array from image\n",
    "        img_path = self.dataset.iloc[self.img_indices.index(img_index)]['image']\n",
    "        img_array = readImg(img_path)\n",
    "        \n",
    "        # compute numpy array from fissure mask\n",
    "        lbl_path = self.dataset.iloc[self.img_indices.index(img_index)]['fissuremask']\n",
    "        lbl_array = readImg(lbl_path)\n",
    "        \n",
    "        # compute numpy array from lung mask\n",
    "        msk_path = self.dataset.iloc[self.img_indices.index(img_index)]['lungmask']\n",
    "        msk_array = readImg(msk_path)\n",
    "        return img_array, lbl_array, msk_array\n",
    "    \n",
    "    def checkEmpty(self,b_samples,fc_samples,fi_samples,batch_division):\n",
    "        fc_nr, fi_nr = batch_division\n",
    "        \n",
    "        if len(fc_samples) == 0:\n",
    "            if len(fi_samples) == 0:\n",
    "                fc_nr = 0\n",
    "                fi_nr = 0\n",
    "            else:\n",
    "                fi_nr = fi_nr + fc_nr\n",
    "                fc_nr = 0\n",
    "        else:\n",
    "            if len(fi_samples) == 0:\n",
    "                fc_nr = fc_nr + fi_nr\n",
    "                fi_nr = 0\n",
    "        \n",
    "        return fc_nr, fi_nr\n",
    "    \n",
    "    def updateCounter(self,batch_size):\n",
    "        self.counter += batch_size\n",
    "        if self.counter > self.nr_samples:\n",
    "            self.counter = 0\n",
    "            \n",
    "    def counterReset(self):\n",
    "        if self.counter == 0:\n",
    "            return True\n",
    "        else:\n",
    "            return False\n",
    "            \n",
    "    def get_generator(self, batch_size):\n",
    "        '''returns a generator that will yield batches infinitely'''\n",
    "        img_index = self.pickImage()\n",
    "        while True:\n",
    "            if self.counterReset:\n",
    "                img_index = self.pickImage()\n",
    "            print(img_index)\n",
    "            yield self.create_batch(batch_size,img_index)"
   ]
  },
  {
   "cell_type": "code",
   "execution_count": 54,
   "metadata": {},
   "outputs": [],
   "source": [
    "patch_size = (132,132,132)\n",
    "output_shape = (44,44,44)\n",
    "patch_extractor = PatchExtractor(patch_size,output_shape)\n",
    "batch_size = 4\n",
    "batch_division = (1,1)\n",
    "nr_samples = 16"
   ]
  },
  {
   "cell_type": "markdown",
   "metadata": {},
   "source": [
    "# Notes"
   ]
  },
  {
   "cell_type": "markdown",
   "metadata": {},
   "source": [
    "After deciding on patch_size and output_size, collect sample locations for background, fissure complete and incomplete. The dicts have as key the image index and as value the different (z,y,x) coordinates from which a patch can be computed. This way we do not have to compute if a patch is in boundary and we can collect multiple samples per image."
   ]
  },
  {
   "cell_type": "code",
   "execution_count": 27,
   "metadata": {},
   "outputs": [],
   "source": [
    "samplesBackgroundDict = getBackgroundSamples(patch_size,output_shape,data)"
   ]
  },
  {
   "cell_type": "code",
   "execution_count": 28,
   "metadata": {},
   "outputs": [
    {
     "name": "stdout",
     "output_type": "stream",
     "text": [
      "[  48   59   75   96  103  104  111  148  168  197  209  214  216  226  228\n",
      "  251  256  271  278  285  286  291  305  306  312  313  324  334  345  354\n",
      "  357  359  363  375  388  390  402  412  414  416  420  427  438  449  470\n",
      "  487  488  499  501  502  506  509  527  528  529  530  538  539  541  571\n",
      "  572  573  574  579  585  586  605  628  635  638  639  641  661  670  678\n",
      "  698  714  717  718  750  757  758  808  820  837  852  899  906  915  945\n",
      " 1048 1129 1435 1448]\n",
      "The maximum amount of samples of background per image is: 48\n"
     ]
    }
   ],
   "source": [
    "nr_samples = []\n",
    "for index, samples in samplesBackgroundDict.items():\n",
    "    nr_samples.append(len(samples))\n",
    "\n",
    "print(np.unique(nr_samples))\n",
    "print(\"The maximum amount of samples of background per image is: %s\"%(np.min(nr_samples)))"
   ]
  },
  {
   "cell_type": "code",
   "execution_count": 24,
   "metadata": {},
   "outputs": [],
   "source": [
    "samplesFissureCompleteDict = getFissureSamples(patch_size,fc_indices,data)"
   ]
  },
  {
   "cell_type": "code",
   "execution_count": 32,
   "metadata": {},
   "outputs": [],
   "source": [
    "sampelsFissureIncompleteDict = getFissureSamples(patch_size,fi_indices,data)"
   ]
  },
  {
   "cell_type": "code",
   "execution_count": 34,
   "metadata": {},
   "outputs": [],
   "source": [
    "sampleLocations = (samplesBackgroundDict,samplesFissureCompleteDict,sampelsFissureIncompleteDict)"
   ]
  },
  {
   "cell_type": "markdown",
   "metadata": {},
   "source": [
    "# Updated Batch_Creator"
   ]
  },
  {
   "cell_type": "code",
   "execution_count": 66,
   "metadata": {},
   "outputs": [],
   "source": [
    "batch_creator = BatchCreator(patch_extractor, train_set, sampleLocations, batch_division, nr_samples)"
   ]
  }
 ],
 "metadata": {
  "kernelspec": {
   "display_name": "Python 3",
   "language": "python",
   "name": "python3"
  },
  "language_info": {
   "codemirror_mode": {
    "name": "ipython",
    "version": 3
   },
   "file_extension": ".py",
   "mimetype": "text/x-python",
   "name": "python",
   "nbconvert_exporter": "python",
   "pygments_lexer": "ipython3",
   "version": "3.5.2"
  }
 },
 "nbformat": 4,
 "nbformat_minor": 2
}
