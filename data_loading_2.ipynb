{
 "cells": [
  {
   "cell_type": "markdown",
   "metadata": {},
   "source": [
    "# Data loading\n",
    "\n",
    "Training data is distributed in 3 different folders (set a, b and c).\n",
    "Each file has its raw image (.mhd), lung mask (\\_lm.mhd), and fissure mask (\\_fm.mhd)."
   ]
  },
  {
   "cell_type": "code",
   "execution_count": 1,
   "metadata": {},
   "outputs": [],
   "source": [
    "import os, random\n",
    "import ntpath\n",
    "import SimpleITK\n",
    "from matplotlib import pyplot as plt\n",
    "import pandas as pd\n",
    "import numpy as np\n"
   ]
  },
  {
   "cell_type": "code",
   "execution_count": 2,
   "metadata": {},
   "outputs": [],
   "source": [
    "workdir = '/projects/0/ismi2018/FINALPROJECTS/CHESTCT_FISSURE_INTEGRITY/'\n",
    "train_A_images = os.path.join(workdir, 'set-a')\n",
    "train_B_images = os.path.join(workdir, 'set-b')\n",
    "train_C_images = os.path.join(workdir, 'set-c')"
   ]
  },
  {
   "cell_type": "code",
   "execution_count": 3,
   "metadata": {},
   "outputs": [
    {
     "name": "stdout",
     "output_type": "stream",
     "text": [
      "a22_fm.mhd\n",
      "(241, 345, 577)\n"
     ]
    },
    {
     "data": {
      "text/plain": [
       "<matplotlib.image.AxesImage at 0x2b77f8c49160>"
      ]
     },
     "execution_count": 3,
     "metadata": {},
     "output_type": "execute_result"
    },
    {
     "data": {
      "image/png": "[encoded data removed]",
      "text/plain": [
       "<matplotlib.figure.Figure at 0x2b77f3e153c8>"
      ]
     },
     "metadata": {},
     "output_type": "display_data"
    }
   ],
   "source": [
    "#Print one file:\n",
    "case = os.path.join(train_A_images, random.choice(os.listdir(train_A_images)))\n",
    "case_filename = os.path.splitext(ntpath.basename(case))[0] + '.mhd'\n",
    "img = SimpleITK.ReadImage(train_A_images+ '/' + case_filename)\n",
    "\n",
    "piece = SimpleITK.GetArrayViewFromImage(img)[50,:,:] #<-- Specify a number for the z-index slice\n",
    "print(case_filename)\n",
    "print(img.GetSize())\n",
    "plt.imshow(piece)\n"
   ]
  },
  {
   "cell_type": "code",
   "execution_count": 4,
   "metadata": {},
   "outputs": [],
   "source": [
    "''' Helper function '''\n",
    "def load_unique_image_names(folder):\n",
    "    \n",
    "    uniqueimglist = []\n",
    "    for file in os.listdir(folder):\n",
    "        file = file.replace(\".mhd\", \"\")\n",
    "        file = file.replace(\"_lm\", \"\")\n",
    "        file = file.replace(\"_fm\", \"\")\n",
    "        file = file.replace(\".zraw\", \"\")\n",
    "        if \".csv\" not in file:\n",
    "            uniqueimglist.append(file)\n",
    "    uniqueimglist = list(set(uniqueimglist))\n",
    "    return uniqueimglist\n",
    "\n",
    "\n",
    "''' Load training data from a folder'''\n",
    "def load_training_set(folder):\n",
    "    fileList = load_unique_image_names(folder)\n",
    "    \n",
    "    trainSet = []\n",
    "    for file in fileList:\n",
    "        filePath = folder + '/' + file\n",
    "        image = lungMask = fissureMask = None\n",
    "        try:\n",
    "            image = SimpleITK.ReadImage(filePath + '.mhd')\n",
    "            lungMask = SimpleITK.ReadImage(filePath + '_lm.mhd')\n",
    "            fissureMask = SimpleITK.ReadImage(filePath + '_fm.mhd')\n",
    "            label = file[0]\n",
    "            trainSet.append({'name': file, \n",
    "                         'image': image, \n",
    "                         'lungmask': lungMask,\n",
    "                         'fissuremask': fissureMask,\n",
    "                         'label': label})\n",
    "        except :\n",
    "            print(\"Error reading file: \" + file)\n",
    "            \n",
    "    return trainSet\n",
    "\n",
    "def get_exact_csv_set(folder, label):\n",
    "    return pd.read_csv(folder + '/LUT-' + label + '.csv')\n",
    "    \n"
   ]
  },
  {
   "cell_type": "code",
   "execution_count": 5,
   "metadata": {},
   "outputs": [
    {
     "name": "stdout",
     "output_type": "stream",
     "text": [
      "Loading train set...\n",
      "Done loading!\n"
     ]
    }
   ],
   "source": [
    "print(\"Loading train set...\")\n",
    "training = load_training_set(train_A_images)\n",
    "training.extend(load_training_set(train_B_images))\n",
    "training.extend(load_training_set(train_C_images))\n",
    "training = pd.DataFrame(training)\n",
    "print(\"Done loading!\")"
   ]
  },
  {
   "cell_type": "markdown",
   "metadata": {},
   "source": [
    "Accessing the LUT csv files to attach the exact percentages to the training set:"
   ]
  },
  {
   "cell_type": "code",
   "execution_count": 6,
   "metadata": {},
   "outputs": [
    {
     "name": "stdout",
     "output_type": "stream",
     "text": [
      "exact size:  200\n",
      "training size:  500\n"
     ]
    }
   ],
   "source": [
    "\n",
    "exact = get_exact_csv_set(train_A_images, 'a') # 60\n",
    "exact = exact.append(get_exact_csv_set(train_B_images, 'b'), ignore_index=True) # 38\n",
    "exact = exact.append(get_exact_csv_set(train_C_images, 'c'), ignore_index=True) # 102\n",
    "exact = exact.rename(columns={'Fissure_completeness': 'completeness'})\n",
    "\n",
    "print(\"exact size: \", exact.size)\n",
    "print(\"training size: \", training.size)\n",
    "\n",
    "'''\n",
    "emptyList = []\n",
    "trainList = []\n",
    "for el in training['name']:\n",
    "    trainList.append(el)\n",
    "    if el not in exact['New ID']:\n",
    "        emptyList.append(el)\n",
    "print(sorted(emptyList))\n",
    "print(sorted(trainList))\n",
    "print(\"Do the csv files represent the whole training set?\")\n",
    "print(sorted(trainList)== sorted(emptyList) )\n",
    "\n",
    "exact['New ID'].iloc[31]\n",
    "'''\n",
    "\n",
    "\n",
    "# Join the csv set with the training set\n",
    "training = pd.merge(training, exact, left_on='name', right_on='New ID')\n",
    "training = training.drop('New ID', 1)\n"
   ]
  },
  {
   "cell_type": "code",
   "execution_count": 7,
   "metadata": {},
   "outputs": [
    {
     "data": {
      "text/html": [
       "<div>\n",
       "<table border=\"1\" class=\"dataframe\">\n",
       "  <thead>\n",
       "    <tr style=\"text-align: right;\">\n",
       "      <th></th>\n",
       "      <th>fissuremask</th>\n",
       "      <th>image</th>\n",
       "      <th>label</th>\n",
       "      <th>lungmask</th>\n",
       "      <th>name</th>\n",
       "      <th>completeness</th>\n",
       "    </tr>\n",
       "  </thead>\n",
       "  <tbody>\n",
       "    <tr>\n",
       "      <th>0</th>\n",
       "      <td>[0, 0, 0, 0, 0, 0, 0, 0, 0, 0, 0, 0, 0, 0, 0, ...</td>\n",
       "      <td>[116, 119, 93, 73, 47, 62, 44, 30, 46, 78, 42,...</td>\n",
       "      <td>a</td>\n",
       "      <td>[0, 0, 0, 0, 0, 0, 0, 0, 0, 0, 0, 0, 0, 0, 0, ...</td>\n",
       "      <td>a09</td>\n",
       "      <td>57.2298</td>\n",
       "    </tr>\n",
       "    <tr>\n",
       "      <th>1</th>\n",
       "      <td>[0, 0, 0, 0, 0, 0, 0, 0, 0, 0, 0, 0, 0, 0, 0, ...</td>\n",
       "      <td>[-131, -147, -146, -78, -41, -99, -81, -92, -8...</td>\n",
       "      <td>a</td>\n",
       "      <td>[0, 0, 0, 0, 0, 0, 0, 0, 0, 0, 0, 0, 0, 0, 0, ...</td>\n",
       "      <td>a25</td>\n",
       "      <td>77.9893</td>\n",
       "    </tr>\n",
       "    <tr>\n",
       "      <th>2</th>\n",
       "      <td>[0, 0, 0, 0, 0, 0, 0, 0, 0, 0, 0, 0, 0, 0, 0, ...</td>\n",
       "      <td>[-105, -124, -132, -140, -122, -49, -51, -122,...</td>\n",
       "      <td>a</td>\n",
       "      <td>[0, 0, 0, 0, 0, 0, 0, 0, 0, 0, 0, 0, 0, 0, 0, ...</td>\n",
       "      <td>a04</td>\n",
       "      <td>46.2267</td>\n",
       "    </tr>\n",
       "    <tr>\n",
       "      <th>3</th>\n",
       "      <td>[0, 0, 0, 0, 0, 0, 0, 0, 0, 0, 0, 0, 0, 0, 0, ...</td>\n",
       "      <td>[-133, -146, -152, -117, -92, -98, -80, -93, -...</td>\n",
       "      <td>a</td>\n",
       "      <td>[0, 0, 0, 0, 0, 0, 0, 0, 0, 0, 0, 0, 0, 0, 0, ...</td>\n",
       "      <td>a05</td>\n",
       "      <td>46.3949</td>\n",
       "    </tr>\n",
       "    <tr>\n",
       "      <th>4</th>\n",
       "      <td>[0, 0, 0, 0, 0, 0, 0, 0, 0, 0, 0, 0, 0, 0, 0, ...</td>\n",
       "      <td>[9, 37, 93, 6, 2, -62, -96, -14, 53, -59, -2, ...</td>\n",
       "      <td>a</td>\n",
       "      <td>[0, 0, 0, 0, 0, 0, 0, 0, 0, 0, 0, 0, 0, 0, 0, ...</td>\n",
       "      <td>a18</td>\n",
       "      <td>72.2658</td>\n",
       "    </tr>\n",
       "  </tbody>\n",
       "</table>\n",
       "</div>"
      ],
      "text/plain": [
       "                                         fissuremask  \\\n",
       "0  [0, 0, 0, 0, 0, 0, 0, 0, 0, 0, 0, 0, 0, 0, 0, ...   \n",
       "1  [0, 0, 0, 0, 0, 0, 0, 0, 0, 0, 0, 0, 0, 0, 0, ...   \n",
       "2  [0, 0, 0, 0, 0, 0, 0, 0, 0, 0, 0, 0, 0, 0, 0, ...   \n",
       "3  [0, 0, 0, 0, 0, 0, 0, 0, 0, 0, 0, 0, 0, 0, 0, ...   \n",
       "4  [0, 0, 0, 0, 0, 0, 0, 0, 0, 0, 0, 0, 0, 0, 0, ...   \n",
       "\n",
       "                                               image label  \\\n",
       "0  [116, 119, 93, 73, 47, 62, 44, 30, 46, 78, 42,...     a   \n",
       "1  [-131, -147, -146, -78, -41, -99, -81, -92, -8...     a   \n",
       "2  [-105, -124, -132, -140, -122, -49, -51, -122,...     a   \n",
       "3  [-133, -146, -152, -117, -92, -98, -80, -93, -...     a   \n",
       "4  [9, 37, 93, 6, 2, -62, -96, -14, 53, -59, -2, ...     a   \n",
       "\n",
       "                                            lungmask name  completeness  \n",
       "0  [0, 0, 0, 0, 0, 0, 0, 0, 0, 0, 0, 0, 0, 0, 0, ...  a09       57.2298  \n",
       "1  [0, 0, 0, 0, 0, 0, 0, 0, 0, 0, 0, 0, 0, 0, 0, ...  a25       77.9893  \n",
       "2  [0, 0, 0, 0, 0, 0, 0, 0, 0, 0, 0, 0, 0, 0, 0, ...  a04       46.2267  \n",
       "3  [0, 0, 0, 0, 0, 0, 0, 0, 0, 0, 0, 0, 0, 0, 0, ...  a05       46.3949  \n",
       "4  [0, 0, 0, 0, 0, 0, 0, 0, 0, 0, 0, 0, 0, 0, 0, ...  a18       72.2658  "
      ]
     },
     "execution_count": 7,
     "metadata": {},
     "output_type": "execute_result"
    }
   ],
   "source": [
    "training.head(5)"
   ]
  },
  {
   "cell_type": "markdown",
   "metadata": {},
   "source": [
    "## Accessing the data\n",
    "\n",
    "We attached the labels LUT-a.csv (etc...) to the training data in order to make it into a regression problem. Now, we would like to save this dataframe to file. Unfortunately, this can't be done, as the image elements aren't pickle-able (_Python can't pickle swigpy objects_).\n",
    "\n",
    "\n",
    "\n",
    "- (Data) Raw images can be accessed by utilizing `training['image'].values`. This will return an array with the SimpleITK images.\n",
    "- (Label) Classification labels _(a,b,c)_ can be obtained by `training['label'].values`.\n",
    "- (Label) Regression labels _Fissure completeness percentage (%)_ can be obtained by `training['completeness'].values`."
   ]
  },
  {
   "cell_type": "markdown",
   "metadata": {},
   "source": [
    "Save the training set to file\n",
    "\n",
    "*Actually can't be done, as it can't pickle swigpy objects..*"
   ]
  },
  {
   "cell_type": "code",
   "execution_count": 8,
   "metadata": {},
   "outputs": [],
   "source": [
    "#store = pd.HDFStore('database.h5')\n",
    "#store['trainingset'] = training"
   ]
  },
  {
   "cell_type": "code",
   "execution_count": 9,
   "metadata": {},
   "outputs": [],
   "source": [
    "#training.to_pickle('./train-data.pkl')"
   ]
  },
  {
   "cell_type": "code",
   "execution_count": 10,
   "metadata": {},
   "outputs": [
    {
     "name": "stdout",
     "output_type": "stream",
     "text": [
      "Completeness:  79.3114\n"
     ]
    },
    {
     "data": {
      "text/plain": [
       "array([0, 2, 4], dtype=uint8)"
      ]
     },
     "execution_count": 10,
     "metadata": {},
     "output_type": "execute_result"
    },
    {
     "data": {
      "image/png": "[encoded data removed]",
      "text/plain": [
       "<matplotlib.figure.Figure at 0x2b77c3f68a20>"
      ]
     },
     "metadata": {},
     "output_type": "display_data"
    }
   ],
   "source": [
    "img = training['fissuremask'].iloc[15]\n",
    "piece = SimpleITK.GetArrayViewFromImage(img)[240,:,:]\n",
    "plt.imshow(piece)\n",
    "print(\"Completeness: \", training['completeness'].iloc[15])\n",
    "np.unique(piece)"
   ]
  },
  {
   "cell_type": "markdown",
   "metadata": {},
   "source": [
    "# Split data between validation and training set "
   ]
  },
  {
   "cell_type": "code",
   "execution_count": 11,
   "metadata": {},
   "outputs": [],
   "source": [
    "percentage_validation = 0.2"
   ]
  },
  {
   "cell_type": "code",
   "execution_count": 12,
   "metadata": {},
   "outputs": [],
   "source": [
    "count_a = 0\n",
    "count_b = 0\n",
    "count_c = 0\n",
    "\n",
    "for i, label in enumerate(training['label'].values):\n",
    "    if label == 'a':\n",
    "        count_a = count_a +1\n",
    "    if label == 'b':\n",
    "        count_b = count_b +1\n",
    "    else :\n",
    "        count_c = count_c +1\n",
    "            \n"
   ]
  },
  {
   "cell_type": "code",
   "execution_count": 13,
   "metadata": {},
   "outputs": [],
   "source": [
    "validation_data_a = training.loc[training['label'].values == 'a', :].sample(n=int(count_a*percentage_validation))\n",
    "validation_data_b = training.loc[training['label'].values == 'b', :].sample(n=int(count_b*percentage_validation))\n",
    "validation_data_c = training.loc[training['label'].values == 'c', :].sample(n=int(count_c*percentage_validation))\n",
    "\n",
    "validation_data = pd.concat([validation_data_a, validation_data_b, validation_data_c])"
   ]
  },
  {
   "cell_type": "code",
   "execution_count": 14,
   "metadata": {},
   "outputs": [],
   "source": [
    "training_data = training.loc[~training['name'].isin(validation_data['name'])]"
   ]
  },
  {
   "cell_type": "code",
   "execution_count": 15,
   "metadata": {},
   "outputs": [],
   "source": [
    "test = [1,2,3,4,5]"
   ]
  },
  {
   "cell_type": "code",
   "execution_count": 27,
   "metadata": {},
   "outputs": [
    {
     "name": "stdout",
     "output_type": "stream",
     "text": [
      "1\n",
      "2\n",
      "3\n",
      "5\n",
      "6\n",
      "8\n",
      "9\n",
      "10\n",
      "12\n",
      "13\n",
      "14\n",
      "15\n",
      "17\n",
      "18\n",
      "19\n",
      "20\n",
      "21\n",
      "22\n",
      "23\n",
      "24\n",
      "25\n",
      "26\n",
      "27\n",
      "28\n",
      "30\n",
      "31\n",
      "32\n",
      "34\n",
      "35\n",
      "38\n",
      "39\n",
      "40\n",
      "41\n",
      "42\n",
      "43\n",
      "44\n",
      "45\n",
      "46\n",
      "47\n",
      "48\n",
      "49\n",
      "50\n",
      "53\n",
      "54\n",
      "55\n",
      "56\n",
      "57\n",
      "61\n",
      "62\n",
      "63\n",
      "64\n",
      "67\n",
      "68\n",
      "69\n",
      "70\n",
      "71\n",
      "72\n",
      "74\n",
      "75\n",
      "77\n",
      "79\n",
      "80\n",
      "82\n",
      "85\n",
      "87\n",
      "88\n",
      "89\n",
      "90\n",
      "91\n",
      "92\n",
      "93\n",
      "96\n",
      "97\n",
      "98\n",
      "99\n",
      "0\n"
     ]
    }
   ],
   "source": [
    "def get_batch(list_idx, df):\n",
    "    batch = pd.DataFrame()\n",
    "    for i, row in df.iterrows():\n",
    "        if i in list_idx: \n",
    "            print(row)\n",
    "            batch.append(row, ignore_index=True)\n",
    "        print(i)\n",
    "    return batch \n",
    "\n",
    "print(len(get_batch(test, training_data)))"
   ]
  },
  {
   "cell_type": "code",
   "execution_count": null,
   "metadata": {},
   "outputs": [],
   "source": []
  },
  {
   "cell_type": "code",
   "execution_count": null,
   "metadata": {},
   "outputs": [],
   "source": []
  }
 ],
 "metadata": {
  "kernelspec": {
   "display_name": "Python 3",
   "language": "python",
   "name": "python3"
  },
  "language_info": {
   "codemirror_mode": {
    "name": "ipython",
    "version": 3
   },
   "file_extension": ".py",
   "mimetype": "text/x-python",
   "name": "python",
   "nbconvert_exporter": "python",
   "pygments_lexer": "ipython3",
   "version": "3.5.2"
  }
 },
 "nbformat": 4,
 "nbformat_minor": 2
}
