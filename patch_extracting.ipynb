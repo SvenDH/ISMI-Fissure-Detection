{
 "cells": [
  {
   "cell_type": "markdown",
   "metadata": {},
   "source": [
    "# Data loading\n",
    "\n",
    "Training data is distributed in 3 different folders (set a, b and c).\n",
    "Each file has its raw image (.mhd), lung mask (\\_lm.mhd), and fissure mask (\\_fm.mhd)."
   ]
  },
  {
   "cell_type": "code",
   "execution_count": 1,
   "metadata": {},
   "outputs": [],
   "source": [
    "import os, random\n",
    "import ntpath\n",
    "import SimpleITK\n",
    "from matplotlib import pyplot as plt\n",
    "import pandas as pd\n",
    "import numpy as np\n"
   ]
  },
  {
   "cell_type": "code",
   "execution_count": 2,
   "metadata": {},
   "outputs": [],
   "source": [
    "workdir = '/projects/0/ismi2018/FINALPROJECTS/CHESTCT_FISSURE_INTEGRITY/'\n",
    "train_A_images = os.path.join(workdir, 'set-a')\n",
    "train_B_images = os.path.join(workdir, 'set-b')\n",
    "train_C_images = os.path.join(workdir, 'set-c')"
   ]
  },
  {
   "cell_type": "code",
   "execution_count": 3,
   "metadata": {},
   "outputs": [
    {
     "name": "stdout",
     "output_type": "stream",
     "text": [
      "a17_fm.mhd\n",
      "(215, 301, 527)\n"
     ]
    },
    {
     "data": {
      "text/plain": [
       "<matplotlib.image.AxesImage at 0x2afede4a38d0>"
      ]
     },
     "execution_count": 3,
     "metadata": {},
     "output_type": "execute_result"
    },
    {
     "data": {
      "image/png": "[encoded data removed]",
      "text/plain": [
       "<matplotlib.figure.Figure at 0x2afeda3afb38>"
      ]
     },
     "metadata": {},
     "output_type": "display_data"
    }
   ],
   "source": [
    "#Print one file:\n",
    "case = os.path.join(train_A_images, random.choice(os.listdir(train_A_images)))\n",
    "case_filename = os.path.splitext(ntpath.basename(case))[0] + '.mhd'\n",
    "img = SimpleITK.ReadImage(train_A_images+ '/' + case_filename)\n",
    "\n",
    "piece = SimpleITK.GetArrayViewFromImage(img)[50,:,:] #<-- Specify a number for the z-index slice\n",
    "print(case_filename)\n",
    "print(img.GetSize())\n",
    "plt.imshow(piece)\n"
   ]
  },
  {
   "cell_type": "code",
   "execution_count": 4,
   "metadata": {},
   "outputs": [],
   "source": [
    "''' Helper function '''\n",
    "def load_unique_image_names(folder):\n",
    "    \n",
    "    uniqueimglist = []\n",
    "    for file in os.listdir(folder):\n",
    "        file = file.replace(\".mhd\", \"\")\n",
    "        file = file.replace(\"_lm\", \"\")\n",
    "        file = file.replace(\"_fm\", \"\")\n",
    "        file = file.replace(\".zraw\", \"\")\n",
    "        if \".csv\" not in file:\n",
    "            uniqueimglist.append(file)\n",
    "    uniqueimglist = list(set(uniqueimglist))\n",
    "    return uniqueimglist\n",
    "\n",
    "\n",
    "''' Load training data from a folder'''\n",
    "def load_training_set(folder):\n",
    "    fileList = load_unique_image_names(folder)\n",
    "    \n",
    "    trainSet = []\n",
    "    for file in fileList:\n",
    "        filePath = folder + '/' + file\n",
    "        image = lungMask = fissureMask = None\n",
    "        try:\n",
    "            image = SimpleITK.ReadImage(filePath + '.mhd')\n",
    "            lungMask = SimpleITK.ReadImage(filePath + '_lm.mhd')\n",
    "            fissureMask = SimpleITK.ReadImage(filePath + '_fm.mhd')\n",
    "            label = file[0]\n",
    "            trainSet.append({'name': file, \n",
    "                         'image': image, \n",
    "                         'lungmask': lungMask,\n",
    "                         'fissuremask': fissureMask,\n",
    "                         'label': label})\n",
    "        except :\n",
    "            print(\"Error reading file: \" + file)\n",
    "            \n",
    "    return trainSet\n",
    "\n",
    "def get_exact_csv_set(folder, label):\n",
    "    return pd.read_csv(folder + '/LUT-' + label + '.csv')\n",
    "    \n"
   ]
  },
  {
   "cell_type": "code",
   "execution_count": 5,
   "metadata": {},
   "outputs": [
    {
     "name": "stdout",
     "output_type": "stream",
     "text": [
      "Loading train set...\n",
      "Done loading!\n"
     ]
    }
   ],
   "source": [
    "print(\"Loading train set...\")\n",
    "training = load_training_set(train_A_images)\n",
    "training.extend(load_training_set(train_B_images))\n",
    "training.extend(load_training_set(train_C_images))\n",
    "training = pd.DataFrame(training)\n",
    "print(\"Done loading!\")"
   ]
  },
  {
   "cell_type": "markdown",
   "metadata": {},
   "source": [
    "Accessing the LUT csv files to attach the exact percentages to the training set:"
   ]
  },
  {
   "cell_type": "code",
   "execution_count": 6,
   "metadata": {},
   "outputs": [
    {
     "name": "stdout",
     "output_type": "stream",
     "text": [
      "exact size:  200\n",
      "training size:  500\n"
     ]
    }
   ],
   "source": [
    "\n",
    "exact = get_exact_csv_set(train_A_images, 'a') # 60\n",
    "exact = exact.append(get_exact_csv_set(train_B_images, 'b'), ignore_index=True) # 38\n",
    "exact = exact.append(get_exact_csv_set(train_C_images, 'c'), ignore_index=True) # 102\n",
    "exact = exact.rename(columns={'Fissure_completeness': 'completeness'})\n",
    "\n",
    "print(\"exact size: \", exact.size)\n",
    "print(\"training size: \", training.size)\n",
    "\n",
    "'''\n",
    "emptyList = []\n",
    "trainList = []\n",
    "for el in training['name']:\n",
    "    trainList.append(el)\n",
    "    if el not in exact['New ID']:\n",
    "        emptyList.append(el)\n",
    "print(sorted(emptyList))\n",
    "print(sorted(trainList))\n",
    "print(\"Do the csv files represent the whole training set?\")\n",
    "print(sorted(trainList)== sorted(emptyList) )\n",
    "\n",
    "exact['New ID'].iloc[31]\n",
    "'''\n",
    "\n",
    "\n",
    "# Join the csv set with the training set\n",
    "training = pd.merge(training, exact, left_on='name', right_on='New ID')\n",
    "training = training.drop('New ID', 1)\n"
   ]
  },
  {
   "cell_type": "code",
   "execution_count": 7,
   "metadata": {},
   "outputs": [
    {
     "data": {
      "text/html": [
       "<div>\n",
       "<table border=\"1\" class=\"dataframe\">\n",
       "  <thead>\n",
       "    <tr style=\"text-align: right;\">\n",
       "      <th></th>\n",
       "      <th>fissuremask</th>\n",
       "      <th>image</th>\n",
       "      <th>label</th>\n",
       "      <th>lungmask</th>\n",
       "      <th>name</th>\n",
       "      <th>completeness</th>\n",
       "    </tr>\n",
       "  </thead>\n",
       "  <tbody>\n",
       "    <tr>\n",
       "      <th>0</th>\n",
       "      <td>[0, 0, 0, 0, 0, 0, 0, 0, 0, 0, 0, 0, 0, 0, 0, ...</td>\n",
       "      <td>[72, 74, 93, 74, 40, 15, 6, 32, 64, 54, 42, 43...</td>\n",
       "      <td>a</td>\n",
       "      <td>[0, 0, 0, 0, 0, 0, 0, 0, 0, 0, 0, 0, 0, 0, 0, ...</td>\n",
       "      <td>a12</td>\n",
       "      <td>67.7738</td>\n",
       "    </tr>\n",
       "    <tr>\n",
       "      <th>1</th>\n",
       "      <td>[0, 0, 0, 0, 0, 0, 0, 0, 0, 0, 0, 0, 0, 0, 0, ...</td>\n",
       "      <td>[142, 88, 59, 40, 45, 55, 74, 20, 108, 131, 76...</td>\n",
       "      <td>a</td>\n",
       "      <td>[0, 0, 0, 0, 0, 0, 0, 0, 0, 0, 0, 0, 0, 0, 0, ...</td>\n",
       "      <td>a00</td>\n",
       "      <td>20.2700</td>\n",
       "    </tr>\n",
       "    <tr>\n",
       "      <th>2</th>\n",
       "      <td>[0, 0, 0, 0, 0, 0, 0, 0, 0, 0, 0, 0, 0, 0, 0, ...</td>\n",
       "      <td>[2, -31, -123, -135, -67, -111, -75, -89, -95,...</td>\n",
       "      <td>a</td>\n",
       "      <td>[0, 0, 0, 0, 0, 0, 0, 0, 0, 0, 0, 0, 0, 0, 0, ...</td>\n",
       "      <td>a15</td>\n",
       "      <td>70.1147</td>\n",
       "    </tr>\n",
       "    <tr>\n",
       "      <th>3</th>\n",
       "      <td>[0, 0, 0, 0, 0, 0, 0, 0, 0, 0, 0, 0, 0, 0, 0, ...</td>\n",
       "      <td>[-105, -124, -132, -140, -122, -49, -51, -122,...</td>\n",
       "      <td>a</td>\n",
       "      <td>[0, 0, 0, 0, 0, 0, 0, 0, 0, 0, 0, 0, 0, 0, 0, ...</td>\n",
       "      <td>a04</td>\n",
       "      <td>46.2267</td>\n",
       "    </tr>\n",
       "    <tr>\n",
       "      <th>4</th>\n",
       "      <td>[0, 0, 0, 0, 0, 0, 0, 0, 0, 0, 0, 0, 0, 0, 0, ...</td>\n",
       "      <td>[116, 119, 93, 73, 47, 62, 44, 30, 46, 78, 42,...</td>\n",
       "      <td>a</td>\n",
       "      <td>[0, 0, 0, 0, 0, 0, 0, 0, 0, 0, 0, 0, 0, 0, 0, ...</td>\n",
       "      <td>a09</td>\n",
       "      <td>57.2298</td>\n",
       "    </tr>\n",
       "  </tbody>\n",
       "</table>\n",
       "</div>"
      ],
      "text/plain": [
       "                                         fissuremask  \\\n",
       "0  [0, 0, 0, 0, 0, 0, 0, 0, 0, 0, 0, 0, 0, 0, 0, ...   \n",
       "1  [0, 0, 0, 0, 0, 0, 0, 0, 0, 0, 0, 0, 0, 0, 0, ...   \n",
       "2  [0, 0, 0, 0, 0, 0, 0, 0, 0, 0, 0, 0, 0, 0, 0, ...   \n",
       "3  [0, 0, 0, 0, 0, 0, 0, 0, 0, 0, 0, 0, 0, 0, 0, ...   \n",
       "4  [0, 0, 0, 0, 0, 0, 0, 0, 0, 0, 0, 0, 0, 0, 0, ...   \n",
       "\n",
       "                                               image label  \\\n",
       "0  [72, 74, 93, 74, 40, 15, 6, 32, 64, 54, 42, 43...     a   \n",
       "1  [142, 88, 59, 40, 45, 55, 74, 20, 108, 131, 76...     a   \n",
       "2  [2, -31, -123, -135, -67, -111, -75, -89, -95,...     a   \n",
       "3  [-105, -124, -132, -140, -122, -49, -51, -122,...     a   \n",
       "4  [116, 119, 93, 73, 47, 62, 44, 30, 46, 78, 42,...     a   \n",
       "\n",
       "                                            lungmask name  completeness  \n",
       "0  [0, 0, 0, 0, 0, 0, 0, 0, 0, 0, 0, 0, 0, 0, 0, ...  a12       67.7738  \n",
       "1  [0, 0, 0, 0, 0, 0, 0, 0, 0, 0, 0, 0, 0, 0, 0, ...  a00       20.2700  \n",
       "2  [0, 0, 0, 0, 0, 0, 0, 0, 0, 0, 0, 0, 0, 0, 0, ...  a15       70.1147  \n",
       "3  [0, 0, 0, 0, 0, 0, 0, 0, 0, 0, 0, 0, 0, 0, 0, ...  a04       46.2267  \n",
       "4  [0, 0, 0, 0, 0, 0, 0, 0, 0, 0, 0, 0, 0, 0, 0, ...  a09       57.2298  "
      ]
     },
     "execution_count": 7,
     "metadata": {},
     "output_type": "execute_result"
    }
   ],
   "source": [
    "training.head(5)"
   ]
  },
  {
   "cell_type": "markdown",
   "metadata": {},
   "source": [
    "## Accessing the data\n",
    "\n",
    "We attached the labels LUT-a.csv (etc...) to the training data in order to make it into a regression problem. Now, we would like to save this dataframe to file. Unfortunately, this can't be done, as the image elements aren't pickle-able (_Python can't pickle swigpy objects_).\n",
    "\n",
    "\n",
    "\n",
    "- (Data) Raw images can be accessed by utilizing `training['image'].values`. This will return an array with the SimpleITK images.\n",
    "- (Label) Classification labels _(a,b,c)_ can be obtained by `training['label'].values`.\n",
    "- (Label) Regression labels _Fissure completeness percentage (%)_ can be obtained by `training['completeness'].values`."
   ]
  },
  {
   "cell_type": "markdown",
   "metadata": {},
   "source": [
    "Save the training set to file\n",
    "\n",
    "*Actually can't be done, as it can't pickle swigpy objects..*"
   ]
  },
  {
   "cell_type": "code",
   "execution_count": 8,
   "metadata": {},
   "outputs": [],
   "source": [
    "#store = pd.HDFStore('database.h5')\n",
    "#store['trainingset'] = training"
   ]
  },
  {
   "cell_type": "code",
   "execution_count": 9,
   "metadata": {},
   "outputs": [],
   "source": [
    "#training.to_pickle('./train-data.pkl')"
   ]
  },
  {
   "cell_type": "code",
   "execution_count": 10,
   "metadata": {},
   "outputs": [
    {
     "name": "stdout",
     "output_type": "stream",
     "text": [
      "Completeness:  20.27\n"
     ]
    },
    {
     "data": {
      "text/plain": [
       "array([0, 2, 4], dtype=uint8)"
      ]
     },
     "execution_count": 10,
     "metadata": {},
     "output_type": "execute_result"
    },
    {
     "data": {
      "image/png": "[encoded data removed]",
      "text/plain": [
       "<matplotlib.figure.Figure at 0x2afeda18ada0>"
      ]
     },
     "metadata": {},
     "output_type": "display_data"
    }
   ],
   "source": [
    "img = training['fissuremask'].iloc[1]\n",
    "piece = SimpleITK.GetArrayViewFromImage(img)[240,:,:]\n",
    "plt.imshow(piece)\n",
    "print(\"Completeness: \", training['completeness'].iloc[1])\n",
    "np.unique(piece)"
   ]
  },
  {
   "cell_type": "code",
   "execution_count": 11,
   "metadata": {},
   "outputs": [
    {
     "data": {
      "image/png": "[encoded data removed]",
      "text/plain": [
       "<matplotlib.figure.Figure at 0x2afeda3e15f8>"
      ]
     },
     "metadata": {},
     "output_type": "display_data"
    }
   ],
   "source": [
    "#tom test\n",
    "img = training['image'].iloc[1]\n",
    "img_slice = SimpleITK.GetArrayViewFromImage(img)[240,:,:]\n",
    "plt.imshow(img_slice)\n",
    "img_msk = training['lungmask'].iloc[1]\n",
    "img_msk_slice = SimpleITK.GetArrayViewFromImage(img_msk)[140,:,:]\n",
    "plt.imshow(img_msk_slice)\n",
    "np.unique(img_msk_slice)\n",
    "img_fss = training['fissuremask'].iloc[1]\n",
    "img_fss_slice = SimpleITK.GetArrayViewFromImage(img_fss)[140,:,:]\n",
    "plt.imshow(img_fss_slice)\n",
    "\n",
    "lbls = np.array(list(map(SimpleITK.GetArrayViewFromImage,training['fissuremask'].values)))\n",
    "z, y, x = np.where(np.array(lbls[0]) == 4)"
   ]
  },
  {
   "cell_type": "markdown",
   "metadata": {},
   "source": [
    "# Create Training and Validation Set"
   ]
  },
  {
   "cell_type": "markdown",
   "metadata": {},
   "source": [
    "# Patch Generator"
   ]
  },
  {
   "cell_type": "markdown",
   "metadata": {},
   "source": [
    "During the course we learned to work with a 'patch extractor class', which extracts random patches from a list of images. The benefit from using this class is that it can be used to extract patches **on-the-fly** during training. No pre-constructed dataset is needed, but only a list of training images. This section provides the code of our own ```PatchExtractor``` class."
   ]
  },
  {
   "cell_type": "code",
   "execution_count": 12,
   "metadata": {},
   "outputs": [],
   "source": [
    "import matplotlib"
   ]
  },
  {
   "cell_type": "code",
   "execution_count": 13,
   "metadata": {},
   "outputs": [],
   "source": [
    "'''\n",
    "PatchExtractor: class used to extract and possibly augment patches from images.\n",
    "'''\n",
    "\n",
    "class PatchExtractor:\n",
    "    \n",
    "    def __init__(self, patch_size):\n",
    "        self.patch_size = patch_size\n",
    "        \n",
    "    def get_patch(self, image, location):\n",
    "        '''\n",
    "        image: a numpy array representing the input image\n",
    "        location: a tuple with an z, y, and x coordinate\n",
    "        \n",
    "        return a 3D patch from the image at 'location', representing the center of the patch\n",
    "        '''\n",
    "        \n",
    "        z, y, x = location\n",
    "        c, h, w = self.patch_size\n",
    "        patch = image[int(z-(c/2)):int(z+(c/2)),int(y-(h/2)):int(y+(h/2)),int(x-(w/2)):int(x+(w/2))]\n",
    "        \n",
    "        return patch\n",
    "        \n",
    "        \n",
    "        "
   ]
  },
  {
   "cell_type": "code",
   "execution_count": 39,
   "metadata": {},
   "outputs": [],
   "source": [
    "def patchVisualizer(patch,patch_size):\n",
    "    matplotlib.rcParams['figure.figsize'] = (20, 20)\n",
    "    c, h, w = patch_size\n",
    "    if c%2 == 0:\n",
    "        f, axes = plt.subplots(2,int(c/2))\n",
    "    elif c%3 == 0:\n",
    "        f, axes = plt.subplots(3,int(c/3))\n",
    "    i = 0\n",
    "    for ax_row in axes:\n",
    "        for ax in ax_row:\n",
    "            ax.imshow(patch[i,:,:])\n",
    "            ax.scatter(*[p/2 for p in patch_extractor.patch_size[1:]],c='k', alpha=0.5)\n",
    "            i += 1\n",
    "    plt.show()"
   ]
  },
  {
   "cell_type": "code",
   "execution_count": 14,
   "metadata": {},
   "outputs": [],
   "source": [
    "patch_size = (10,10,10)\n",
    "img_index = 0\n",
    "location = (10,50,50)\n",
    "patch_extractor = PatchExtractor(patch_size)\n",
    "\n",
    "img = training['image'].iloc[img_index]\n",
    "img_array = SimpleITK.GetArrayViewFromImage(img)\n",
    "\n",
    "patch = patch_extractor.get_patch(img_array,location)\n"
   ]
  },
  {
   "cell_type": "code",
   "execution_count": 40,
   "metadata": {},
   "outputs": [
    {
     "data": {
      "image/png": "[encoded data removed]",
      "text/plain": [
       "<matplotlib.figure.Figure at 0x2afeda9b2278>"
      ]
     },
     "metadata": {},
     "output_type": "display_data"
    }
   ],
   "source": [
    "patchVisualizer(patch,patch_size)"
   ]
  },
  {
   "cell_type": "code",
   "execution_count": 15,
   "metadata": {},
   "outputs": [
    {
     "data": {
      "image/png": "[encoded data removed]",
      "text/plain": [
       "<matplotlib.figure.Figure at 0x2afeda406b00>"
      ]
     },
     "metadata": {},
     "output_type": "display_data"
    }
   ],
   "source": [
    "#visualize patch\n",
    "\n",
    "matplotlib.rcParams['figure.figsize'] = (20, 20)\n",
    "f, axes = plt.subplots(2, 5)\n",
    "i = 0;\n",
    "for ax_row in axes:\n",
    "    for ax in ax_row:\n",
    "        ax.imshow(patch[i,:,:])\n",
    "        ax.scatter(*[p/2 for p in patch_extractor.patch_size[1:]],c='k', alpha=0.5)\n",
    "        i += 1\n",
    "plt.show()"
   ]
  },
  {
   "cell_type": "markdown",
   "metadata": {},
   "source": [
    "# Batch Creator"
   ]
  },
  {
   "cell_type": "code",
   "execution_count": 19,
   "metadata": {},
   "outputs": [],
   "source": [
    "def get_indices(lbls, msks, category):\n",
    "    if category == \"fissure complete\":\n",
    "        zyx = [np.where(lbl == 2) for lbl in lbls]\n",
    "        z = [element[0] for element in zyx]\n",
    "        y = [element[1] for element in zyx]\n",
    "        x = [element[2] for element in zyx]\n",
    "        indices = (z,y,x)\n",
    "    elif category == \"fissure incomplete\":\n",
    "        zyx = [np.where(lbl == 4) for lbl in lbls]\n",
    "        z = [element[0] for element in zyx]\n",
    "        y = [element[1] for element in zyx]\n",
    "        x = [element[2] for element in zyx]\n",
    "        indices = (z,y,x)\n",
    "    else:\n",
    "        zyx = []\n",
    "        for i, lbl in enumerate(lbls):\n",
    "            zyx.append(np.where((lbl == 0) & (msks[i] == 3)))\n",
    "        z = [element[0] for element in zyx]\n",
    "        y = [element[1] for element in zyx]\n",
    "        x = [element[2] for element in zyx]\n",
    "        indices = (z,y,x)\n",
    "    return indices"
   ]
  },
  {
   "cell_type": "code",
   "execution_count": 28,
   "metadata": {},
   "outputs": [],
   "source": [
    "class BatchCreator:\n",
    "    \n",
    "    def __init__(self,patch_extractor,dataset):\n",
    "        self.patch_extractor = patch_extractor\n",
    "        \n",
    "        # maybe we still need to pad the images?\n",
    "        self.imgs = np.array(list(map(SimpleITK.GetArrayViewFromImage,dataset['image'].values)))\n",
    "        self.lbls = np.array(list(map(SimpleITK.GetArrayViewFromImage,dataset['fissuremask'].values)))\n",
    "        self.msks = np.array(list(map(SimpleITK.GetArrayViewFromImage,dataset['lungmask'].values)))\n",
    "        \n",
    "        \n",
    "        # pre calculate the fissure complete, fissure incomplete, background indices\n",
    "        print(\"get fissure complete indices\")\n",
    "        self.fc_idxs = get_indices(self.lbls, self.msks, \"fissure complete\")\n",
    "        print(\"get fissure incomplete indices\")\n",
    "        self.fi_idxs = get_indices(self.lbls, self.msks, \"fissure incomplete\")\n",
    "        print(\"get background indices\")\n",
    "        self.b_idxs = get_indices(self.lbls, self.msks, \"background\")\n",
    "        \n",
    "    def create_batch(self, batch_size):\n",
    "        '''\n",
    "        returns a class-balanced array of patches (x) with corresponding labels (y)\n",
    "        '''\n",
    "        \n",
    "        # unpack the fissure complete, fissure incomplete, and background indices\n",
    "        fcz, fcy, fcx = self.fc_idxs\n",
    "        fiz, fiy, fix = self.fi_idxs\n",
    "        bz, by, bx = self.b_idxs\n",
    "        \n",
    "        x_data = np.zeros((batch_size, *self.patch_extractor.patch_size))\n",
    "        y_data = np.zeros((batch_size, *self.patch_extractor.patch_size))\n",
    "        \n",
    "        for i in range(batch_size):\n",
    "            if i%3 == 0:\n",
    "                img_index = np.random.choice(len(fcz))\n",
    "                z, y, x = fcz[img_index], fcy[img_index], fcx[img_index]\n",
    "                random_index = np.random.choice(len(z))\n",
    "                location = z[random_index], y[random_index], x[random_index]\n",
    "                x_data[i] = self.patch_extractor.get_patch(self.imgs[img_index],location)\n",
    "                y_data[i] = self.patch_extractor.get_patch(self.lbls[img_index],location)\n",
    "            elif i%2 == 0:\n",
    "                img_index = np.random.choice(len(fiz))\n",
    "                z, y, x = fiz[img_index], fiy[img_index], fix[img_index]\n",
    "                while len(z) == 0:\n",
    "                    img_index = np.random.choice(len(fiz))\n",
    "                    z, y, x = fiz[img_index], fiy[img_index], fix[img_index]\n",
    "                random_index = np.random.choice(len(z))\n",
    "                location = z[random_index], y[random_index], x[random_index]\n",
    "                x_data[i] = self.patch_extractor.get_patch(self.imgs[img_index],location)\n",
    "                y_data[i] = self.patch_extractor.get_patch(self.lbls[img_index],location)\n",
    "            else:\n",
    "                img_index = np.random.choice(len(bz))\n",
    "                z, y, x = bz[img_index], by[img_index], bx[img_index]\n",
    "                random_index = np.random.choice(len(z))\n",
    "                location = z[random_index], y[random_index], x[random_index]\n",
    "                x_data[i] = self.patch_extractor.get_patch(self.imgs[img_index],location)\n",
    "                y_data[i] = self.patch_extractor.get_patch(self.lbls[img_index],location)\n",
    "        \n",
    "        return x_data, y_data\n",
    "    \n",
    "    def get_generator(self, batch_size):\n",
    "        '''returns a generator that will yield batches infinitely'''\n",
    "        while True:\n",
    "            yield self.create_batch(batch_size)"
   ]
  },
  {
   "cell_type": "code",
   "execution_count": 27,
   "metadata": {},
   "outputs": [
    {
     "name": "stdout",
     "output_type": "stream",
     "text": [
      "get fissure complete indices\n",
      "get fissure incomplete indices\n",
      "get background indices\n",
      "3\n",
      "location\n",
      "(112, 70, 131)\n",
      "location\n",
      "(138, 232, 42)\n",
      "location\n",
      "(239, 158, 63)\n",
      "location\n",
      "(338, 219, 136)\n",
      "location\n",
      "(173, 184, 109)\n",
      "location\n",
      "(124, 57, 140)\n",
      "location\n",
      "(122, 60, 110)\n",
      "location\n",
      "(311, 29, 74)\n",
      "location\n",
      "(304, 200, 31)\n",
      "location\n",
      "(200, 108, 177)\n",
      "location\n",
      "(251, 114, 103)\n",
      "location\n",
      "(477, 45, 59)\n",
      "location\n",
      "(280, 150, 159)\n",
      "location\n",
      "(468, 148, 21)\n",
      "location\n",
      "(414, 190, 81)\n",
      "location\n",
      "(217, 106, 111)\n",
      "location\n",
      "(81, 142, 158)\n",
      "location\n",
      "(429, 104, 44)\n",
      "location\n",
      "(230, 117, 171)\n",
      "location\n",
      "(265, 115, 122)\n",
      "location\n",
      "(261, 184, 104)\n",
      "location\n",
      "(272, 168, 119)\n",
      "location\n",
      "(169, 158, 69)\n",
      "location\n",
      "(295, 172, 71)\n",
      "location\n",
      "(162, 132, 154)\n",
      "location\n",
      "(100, 245, 38)\n",
      "location\n",
      "(161, 138, 83)\n",
      "location\n",
      "(204, 60, 168)\n"
     ]
    }
   ],
   "source": [
    "#testing batch generator\n",
    "\n",
    "batch_creator = BatchCreator(patch_extractor, training)\n",
    "\n",
    "#create batch\n",
    "x, y = batch_creator.create_batch(28)"
   ]
  },
  {
   "cell_type": "code",
   "execution_count": 41,
   "metadata": {},
   "outputs": [
    {
     "data": {
      "image/png": "[encoded data removed]",
      "text/plain": [
       "<matplotlib.figure.Figure at 0x2afedabcd668>"
      ]
     },
     "metadata": {},
     "output_type": "display_data"
    }
   ],
   "source": [
    "patchVisualizer(y[0],patch_size)"
   ]
  },
  {
   "cell_type": "markdown",
   "metadata": {},
   "source": [
    "# Network Architecture"
   ]
  },
  {
   "cell_type": "markdown",
   "metadata": {},
   "source": [
    "# Compiling Model"
   ]
  },
  {
   "cell_type": "markdown",
   "metadata": {},
   "source": [
    "# Logging"
   ]
  },
  {
   "cell_type": "code",
   "execution_count": null,
   "metadata": {},
   "outputs": [],
   "source": []
  }
 ],
 "metadata": {
  "kernelspec": {
   "display_name": "Python 3",
   "language": "python",
   "name": "python3"
  },
  "language_info": {
   "codemirror_mode": {
    "name": "ipython",
    "version": 3
   },
   "file_extension": ".py",
   "mimetype": "text/x-python",
   "name": "python",
   "nbconvert_exporter": "python",
   "pygments_lexer": "ipython3",
   "version": "3.5.2"
  }
 },
 "nbformat": 4,
 "nbformat_minor": 2
}
