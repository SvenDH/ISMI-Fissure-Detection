{
 "cells": [
  {
   "cell_type": "code",
   "execution_count": 78,
   "metadata": {},
   "outputs": [],
   "source": [
    "import numpy as np\n",
    "import random\n",
    "\n",
    "#only works when a,b,c are in order: a*b*c*\n",
    "#a,b,c parametres are nr of unique samples available per class \n",
    "def create_batch_idx(a, b, c, nr_of_batches, samples_per_class=10):\n",
    "    idx_a = random.sample(range(0,a), a)\n",
    "    idx_b = random.sample(range(0,b),b)\n",
    "    idx_c = random.sample(range(0,c),c)\n",
    "    \n",
    "   # nr_of_batches = np.ceil(max(a,b,c)/samples_per_class)\n",
    "    \n",
    "    batch_idxs = []\n",
    "    \n",
    "    for i in range(0, nr_of_batches):\n",
    "        print(i)\n",
    "        abci = []\n",
    "        for j in range(0,samples_per_class):\n",
    "            abci.append(idx_a[j])\n",
    "            abci.append(idx_b[j]+b)\n",
    "            abci.append(idx_c[j]+b+c) #added length for correct indexes\n",
    "        batch_idxs.append(abci)\n",
    "        idx_a = idxs_control(a, idx_a,samples_per_class)\n",
    "        idx_b = idxs_control(b, idx_b,samples_per_class)\n",
    "        idx_c = idxs_control(c, idx_c,samples_per_class)\n",
    "        \n",
    "        \n",
    "    return batch_idxs\n",
    "\n",
    "\n",
    "def idxs_control(a, idx_a, samples_per_class):\n",
    "    idx_a = idx_a[samples_per_class:]\n",
    "    if len(idx_a) < samples_per_class:\n",
    "        idx_a = idx_a + random.sample(range(0,a), a)\n",
    "    return idx_a\n"
   ]
  },
  {
   "cell_type": "code",
   "execution_count": 84,
   "metadata": {},
   "outputs": [
    {
     "data": {
      "text/plain": [
       "[[1, 15, 26, 0, 17, 22, 2, 12, 24, 3, 10, 21],\n",
       " [0, 14, 25, 1, 11, 30, 2, 19, 28, 3, 18, 31],\n",
       " [0, 16, 23, 3, 13, 29, 1, 14, 27, 2, 19, 29],\n",
       " [1, 17, 28, 0, 16, 24, 2, 18, 21, 3, 12, 26],\n",
       " [0, 15, 31, 2, 10, 23, 1, 13, 30, 3, 11, 27],\n",
       " [2, 14, 25, 3, 12, 22, 1, 13, 24, 0, 18, 28],\n",
       " [2, 15, 23, 0, 19, 29, 1, 17, 21, 3, 10, 27],\n",
       " [2, 16, 26, 1, 11, 25, 0, 17, 22, 3, 16, 30],\n",
       " [2, 10, 31, 0, 12, 31, 1, 13, 28, 3, 14, 27],\n",
       " [1, 18, 23, 3, 11, 30, 0, 15, 26, 2, 19, 29],\n",
       " [3, 19, 24, 1, 17, 25, 0, 10, 22, 2, 12, 21],\n",
       " [0, 16, 31, 1, 13, 21, 3, 14, 24, 2, 18, 26],\n",
       " [3, 11, 27, 0, 15, 30, 1, 17, 28, 2, 16, 23],\n",
       " [0, 19, 25, 2, 13, 29, 3, 18, 22, 1, 15, 31],\n",
       " [2, 14, 27, 3, 11, 22, 1, 10, 26, 0, 12, 23]]"
      ]
     },
     "execution_count": 84,
     "metadata": {},
     "output_type": "execute_result"
    }
   ],
   "source": [
    "res"
   ]
  },
  {
   "cell_type": "code",
   "execution_count": 79,
   "metadata": {},
   "outputs": [
    {
     "name": "stdout",
     "output_type": "stream",
     "text": [
      "0\n",
      "len a2: 4\n",
      "len a: 4\n",
      "len a2: 6\n",
      "len a2: 7\n",
      "1\n",
      "len a2: 4\n",
      "len a: 4\n",
      "len a2: 12\n",
      "len a2: 14\n",
      "2\n",
      "len a2: 4\n",
      "len a: 4\n",
      "len a2: 8\n",
      "len a2: 10\n",
      "3\n",
      "len a2: 4\n",
      "len a: 4\n",
      "len a2: 4\n",
      "len a2: 6\n",
      "4\n",
      "len a2: 4\n",
      "len a: 4\n",
      "len a2: 10\n",
      "len a2: 13\n",
      "5\n",
      "len a2: 4\n",
      "len a: 4\n",
      "len a2: 6\n",
      "len a2: 9\n",
      "6\n",
      "len a2: 4\n",
      "len a: 4\n",
      "len a2: 12\n",
      "len a2: 5\n",
      "7\n",
      "len a2: 4\n",
      "len a: 4\n",
      "len a2: 8\n",
      "len a2: 12\n",
      "8\n",
      "len a2: 4\n",
      "len a: 4\n",
      "len a2: 4\n",
      "len a2: 8\n",
      "9\n",
      "len a2: 4\n",
      "len a: 4\n",
      "len a2: 10\n",
      "len a2: 4\n",
      "10\n",
      "len a2: 4\n",
      "len a: 4\n",
      "len a2: 6\n",
      "len a2: 11\n",
      "11\n",
      "len a2: 4\n",
      "len a: 4\n",
      "len a2: 12\n",
      "len a2: 7\n",
      "12\n",
      "len a2: 4\n",
      "len a: 4\n",
      "len a2: 8\n",
      "len a2: 14\n",
      "13\n",
      "len a2: 4\n",
      "len a: 4\n",
      "len a2: 4\n",
      "len a2: 10\n",
      "14\n",
      "len a2: 4\n",
      "len a: 4\n",
      "len a2: 10\n",
      "len a2: 6\n"
     ]
    }
   ],
   "source": [
    "x = random.sample(range(0,2),2)\n",
    "\n",
    "\n",
    "test = [11, 22, 33 ,44 , 55, 66, 77,88]\n",
    "\n",
    "res = create_batch_idx(4,10,11, 15, 4)\n"
   ]
  }
 ],
 "metadata": {
  "kernelspec": {
   "display_name": "Python 3",
   "language": "python",
   "name": "python3"
  },
  "language_info": {
   "codemirror_mode": {
    "name": "ipython",
    "version": 3
   },
   "file_extension": ".py",
   "mimetype": "text/x-python",
   "name": "python",
   "nbconvert_exporter": "python",
   "pygments_lexer": "ipython3",
   "version": "3.6.3"
  }
 },
 "nbformat": 4,
 "nbformat_minor": 2
}
