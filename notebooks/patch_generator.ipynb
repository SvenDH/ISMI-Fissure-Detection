{
 "cells": [
  {
   "cell_type": "markdown",
   "metadata": {},
   "source": [
    "# Import Libraries"
   ]
  },
  {
   "cell_type": "code",
   "execution_count": 1,
   "metadata": {},
   "outputs": [],
   "source": [
    "import os, random\n",
    "import ntpath\n",
    "import SimpleITK\n",
    "from matplotlib import pyplot as plt\n",
    "import matplotlib\n",
    "import pandas as pd\n",
    "import numpy as np\n",
    "import pickle"
   ]
  },
  {
   "cell_type": "markdown",
   "metadata": {},
   "source": [
    "# Load Dataset"
   ]
  },
  {
   "cell_type": "code",
   "execution_count": 2,
   "metadata": {},
   "outputs": [],
   "source": [
    "# Loading data from pickle:\n",
    "data = pd.read_pickle(\"pickle files/train-data-filelist.pkl\")"
   ]
  },
  {
   "cell_type": "markdown",
   "metadata": {},
   "source": [
    "# Load Label Indices"
   ]
  },
  {
   "cell_type": "code",
   "execution_count": 3,
   "metadata": {},
   "outputs": [],
   "source": [
    "patch_indices = pickle.load(open(\"pickle files/patch_indices.p\",\"rb\"))"
   ]
  },
  {
   "cell_type": "code",
   "execution_count": 4,
   "metadata": {},
   "outputs": [],
   "source": [
    "# fc_indices are the fissure complete label indices\n",
    "# fi_indices are the fissure incomplete label indices\n",
    "fc_indices, fi_indices = patch_indices"
   ]
  },
  {
   "cell_type": "markdown",
   "metadata": {},
   "source": [
    "# Help Functions"
   ]
  },
  {
   "cell_type": "code",
   "execution_count": 5,
   "metadata": {},
   "outputs": [],
   "source": [
    "def readImg(img_path):\n",
    "    img = SimpleITK.ReadImage(img_path)\n",
    "    img_array = SimpleITK.GetArrayFromImage(img)\n",
    "    return img_array"
   ]
  },
  {
   "cell_type": "markdown",
   "metadata": {},
   "source": [
    "# Patch Generator"
   ]
  },
  {
   "cell_type": "code",
   "execution_count": 6,
   "metadata": {},
   "outputs": [],
   "source": [
    "'''\n",
    "PatchExtractor: class used to extract and possibly augment patches from images.\n",
    "'''\n",
    "\n",
    "class PatchExtractor:\n",
    "    \n",
    "    def __init__(self, patch_size):\n",
    "        self.patch_size = patch_size\n",
    "        \n",
    "    def get_patch(self, image, location):\n",
    "        '''\n",
    "        image: a numpy array representing the input image\n",
    "        location: a tuple with an z, y, and x coordinate\n",
    "        \n",
    "        return a 3D patch from the image at 'location', representing the center of the patch\n",
    "        '''\n",
    "        \n",
    "        z, y, x = location\n",
    "        c, h, w = self.patch_size\n",
    "        try:\n",
    "            patch = image[int(z-(c/2)):int(z+(c/2)),int(y-(h/2)):int(y+(h/2)),int(x-(w/2)):int(x+(w/2))]\n",
    "        except:\n",
    "            print(\"Patch out of boundary, please make sure that the patch location is not out of boundary.\")\n",
    "        return patch\n",
    "        \n",
    "        \n",
    "        "
   ]
  },
  {
   "cell_type": "markdown",
   "metadata": {},
   "source": [
    "# Batch Creator"
   ]
  },
  {
   "cell_type": "code",
   "execution_count": 11,
   "metadata": {},
   "outputs": [],
   "source": [
    "'''\n",
    "BatchCreator is used to create batches of patches\n",
    "\n",
    "For now it works totally random:\n",
    "1) pick image at random -> generate patches from it\n",
    "\n",
    "for every new patch:\n",
    "2) pick random z (slice) from image\n",
    "3) pick random (y,x) coordinates\n",
    "4) generate patch\n",
    "\n",
    "It is done this way as the (y,x) coordinates were computed per slice\n",
    "if a slice did not contain any (y,x) coordinates (as the slice did not contain the label)\n",
    "then this slice was skipped for the image.\n",
    "\n",
    "What should still be implemented:\n",
    "- generate patches from multiple images\n",
    "- only pick background at random\n",
    "- make sure to generate patches from large part of fissure\n",
    "'''\n",
    "class BatchCreator:\n",
    "    \n",
    "    def __init__(self,patch_extractor,dataset,patch_indices,batch_division):\n",
    "        self.patch_extractor = patch_extractor\n",
    "        self.patch_size = self.patch_extractor.patch_size\n",
    "        \n",
    "        self.img_list = dataset['image'].values\n",
    "        self.lbl_list = dataset['fissuremask'].values\n",
    "        self.msk_list = dataset['lungmask'].values\n",
    "        \n",
    "        self.a_indices = dataset.index[dataset['label'] == \"a\"].tolist()\n",
    "        self.b_indices = dataset.index[dataset['label'] == \"b\"].tolist()\n",
    "        self.c_indices = dataset.index[dataset['label'] == \"c\"].tolist()\n",
    "        \n",
    "        '''\n",
    "        fc_indices and fi_indices are lists of length equal to the number of images\n",
    "        the lists contain  dictionaries for every image\n",
    "        the dictionary has as keys the slice indices (z coordinate) of the image\n",
    "        and each key has as  value a corresponding list filled with (y,x) coordinates.\n",
    "        These coordinates correspond to either fissure complete or fissure incomplete spots.\n",
    "        '''\n",
    "        self.fc_indices = patch_indices[0]\n",
    "        self.fi_indices = patch_indices[1]\n",
    "        \n",
    "        self.batch_division = batch_division\n",
    "        \n",
    "        self.examined_images = []\n",
    "        \n",
    "    def create_batch(self, batch_size):\n",
    "        \n",
    "        # check if all images have been processed\n",
    "        if len(self.examined_images) == 100:\n",
    "            # start over\n",
    "            self.examined_images = []\n",
    "        \n",
    "        # patch array\n",
    "        x_data = np.zeros((batch_size, *self.patch_extractor.patch_size))\n",
    "        # label array (one-hot structure)\n",
    "        y_data = np.zeros((batch_size, 1, 1, 1, 3))\n",
    "        # fissure mask patch array\n",
    "        fissure_data = np.zeros((batch_size, *self.patch_extractor.patch_size))\n",
    "        \n",
    "        # pick random image to collect patches from\n",
    "        img_index = np.random.choice(self.a_indices+self.b_indices+self.c_indices)\n",
    "        # check if image has not already been processed\n",
    "        while(self.imageProcessed(img_index)):\n",
    "            img_index = np.random.choice(self.a_indices+self.b_indices+self.c_indices)\n",
    "            \n",
    "        # collect the different slices (z coordinate) for the image \n",
    "        fc_slices_dict = self.fc_indices[img_index]\n",
    "        \n",
    "        # collect the different slices (z coordinate) for the image \n",
    "        fi_slices_dict = self.fi_indices[img_index]\n",
    "        \n",
    "        # compute numpy array from image\n",
    "        img_path = self.img_list[img_index]\n",
    "        img_array = readImg(img_path)\n",
    "        \n",
    "        # compute numpy array from fissure mask\n",
    "        lbl_path = self.lbl_list[img_index]\n",
    "        lbl_array = readImg(lbl_path)\n",
    "        \n",
    "        # compute numpy array from lung mask\n",
    "        msk_path = self.msk_list[img_index]\n",
    "        msk_array = readImg(msk_path)\n",
    "        \n",
    "        # fc_nr is the number of total fissure complete patches\n",
    "        # fi_nr is the number of total fissure incomplete patches\n",
    "        (fc_nr,fi_nr) = self.batch_division\n",
    "        \n",
    "        if len(list(fi_slices_dict.keys())) == 0:\n",
    "            fc_nr = fc_nr + fi_nr\n",
    "            fi_nr = 0\n",
    "        \n",
    "        for i in range(batch_size):\n",
    "            #collect fissure complete patches\n",
    "            if i < fc_nr:\n",
    "                # collect slice indices\n",
    "                slice_nrs = list(fc_slices_dict.keys())\n",
    "                # pick random slice\n",
    "                z = slice_nrs[np.random.choice(len(slice_nrs))]\n",
    "                # pick random coordinate\n",
    "                (z,y,x) = self.getCoordinates(fc_slices_dict,z)\n",
    "                # if patch does not exceed image continue else pick new coordinate\n",
    "                while(not self.inBoundary((z,y,x),self.patch_size,img_array.shape)):\n",
    "                    (z,y,x) = self.getCoordinates(fc_slices_dict,z)\n",
    "                # extract patch with coordinate\n",
    "                x_data[i] = self.patch_extractor.get_patch(img_array,(z, y, x))\n",
    "                # store one hot encoding patch\n",
    "                y_data[i,0,0,0,2] = 1\n",
    "                # extract fissure mask patch\n",
    "                fissure_data[i] = self.patch_extractor.get_patch(lbl_array,(z, y, x))\n",
    "            #collect fissure incomplete patches\n",
    "            elif ((i >= fc_nr) and (i < (fc_nr + fi_nr))):\n",
    "                # collect slice indices\n",
    "                slice_nrs = list(fi_slices_dict.keys())\n",
    "                # pick random slice\n",
    "                z = slice_nrs[np.random.choice(len(slice_nrs))]\n",
    "                # pick random coordinate\n",
    "                (z,y,x) = self.getCoordinates(fi_slices_dict,z)\n",
    "                # if patch does not exceed image continue else pick new coordinate\n",
    "                while(not self.inBoundary((z,y,x),self.patch_size,img_array.shape)):\n",
    "                    (z,y,x) = self.getCoordinates(fi_slices_dict,z)\n",
    "                # extract patch with coordinate\n",
    "                x_data[i] = self.patch_extractor.get_patch(img_array,(z, y, x))\n",
    "                # store one hot encoding patch\n",
    "                y_data[i,0,0,0,1] = 1\n",
    "                # extract fissure mask patch\n",
    "                fissure_data[i] = self.patch_extractor.get_patch(lbl_array,(z, y, x))\n",
    "            # collect background patches\n",
    "            else:\n",
    "                # kept getting errors about out of boundary\n",
    "                # so I decided on this ugly piece of code\n",
    "                z_max, y_max, x_max = img_array.shape\n",
    "                z_max = int(z_max - patch_size[0]/2)\n",
    "                z_min = int(0 + patch_size[0]/2)\n",
    "                y_max = int(y_max - patch_size[1]/2)\n",
    "                y_min = int(0 + patch_size[1]/2)\n",
    "                x_max = int(x_max - patch_size[2]/2)\n",
    "                x_min = int(0 + patch_size[2]/2)\n",
    "                # pick random coordinate of the image\n",
    "                z = np.random.choice(list(range(z_min,z_max)))\n",
    "                y = np.random.choice(list(range(y_min,y_max)))\n",
    "                x = np.random.choice(list(range(x_min,x_max)))\n",
    "                # if coordinate is background and does not exceed image continue else new coordinate\n",
    "                while((not self.checkBackground((z,y,x),lbl_array,msk_array)) and (not self.inBoundary((z,y,x),self.patch_extractor.patch_size,img_array.shape))):\n",
    "                    z = np.random.choice(list(range(z_min,z_max)))\n",
    "                    y = np.random.choice(list(range(y_min,y_max)))\n",
    "                    x = np.random.choice(list(range(x_min,x_max)))\n",
    "                # extract patch with coordinate\n",
    "                x_data[i] = self.patch_extractor.get_patch(img_array,(z, y, x))\n",
    "                # store one hot encoding patch\n",
    "                y_data[i,0,0,0,0] = 1\n",
    "                # extracht fissure mask patch\n",
    "                fissure_data[i] = self.patch_extractor.get_patch(lbl_array,(z, y, x))\n",
    "        \n",
    "        # store processed image\n",
    "        self.examined_images.append(img_index)\n",
    "        \n",
    "        return x_data, y_data\n",
    "    \n",
    "    \n",
    "    '''\n",
    "    function to check if image is already used for patches\n",
    "    '''\n",
    "    def imageProcessed(self,img_index):\n",
    "        if img_index in self.examined_images:\n",
    "            return True\n",
    "        else:\n",
    "            return False\n",
    "    \n",
    "    '''\n",
    "    function helps to check if specific coordinate has background label\n",
    "    and does not exceed lung mask\n",
    "    '''\n",
    "    def checkBackground(self,location,lbl_array,msk_array):\n",
    "        z, y, x = location\n",
    "        if lbl_array[z,y,x] == 0 and msk_array[z,y,x] == 3:\n",
    "            return True\n",
    "        else:\n",
    "            return False\n",
    "    \n",
    "    '''\n",
    "    function helps to obtain random (y,x) coordinates.\n",
    "    '''\n",
    "    def getCoordinates(self,slices_dict,z):\n",
    "        coordinates = slices_dict[z]\n",
    "        random_coords = np.random.choice(len(coordinates))\n",
    "        y, x = coordinates[random_coords]\n",
    "        return (z,y,x)\n",
    "    \n",
    "    '''\n",
    "    function helps to check if location does not exceed image.\n",
    "    '''\n",
    "    def inBoundary(self,location,patch_size,img_shape):\n",
    "        z_size, y_size, x_size = img_shape\n",
    "        z_patch, y_patch, x_patch = patch_size\n",
    "    \n",
    "        z_min = int(0+(z_patch/2))\n",
    "        z_max = int(z_size-(z_patch/2))\n",
    "    \n",
    "        y_min = int(0+(y_patch/2))\n",
    "        y_max = int(y_size-(y_patch/2))\n",
    "    \n",
    "        x_min = int(0+(x_patch/2))\n",
    "        x_max = int(x_size-(x_patch/2))\n",
    "    \n",
    "        z, y, x = location\n",
    "    \n",
    "        if (z <= z_max and z >= z_min) and (y <= y_max and y >= y_min) and (x <= x_max and x >= x_min):\n",
    "            return True\n",
    "        else:\n",
    "            return False\n",
    "        \n",
    "    def get_generator(self, batch_size):\n",
    "        '''returns a generator that will yield batches infinitely'''\n",
    "        while True:\n",
    "            yield self.create_batch(batch_size)"
   ]
  },
  {
   "cell_type": "markdown",
   "metadata": {},
   "source": [
    "# Example Setup"
   ]
  },
  {
   "cell_type": "code",
   "execution_count": 8,
   "metadata": {},
   "outputs": [],
   "source": [
    "patch_size = (10,32,32)\n",
    "patch_extractor = PatchExtractor(patch_size)\n",
    "batch_size = 28\n",
    "# this means 8 of fissure complete, 8 of fissure incomplete and remaining background\n",
    "batch_division = (8,8)"
   ]
  },
  {
   "cell_type": "code",
   "execution_count": 12,
   "metadata": {},
   "outputs": [],
   "source": [
    "batch_creator = BatchCreator(patch_extractor, data, patch_indices, batch_division)"
   ]
  },
  {
   "cell_type": "code",
   "execution_count": 13,
   "metadata": {},
   "outputs": [],
   "source": [
    "# Here x is an array filled with patches and y is an array filled with one-hot encoding of corresponding patch\n",
    "x, y = batch_creator.create_batch(28)"
   ]
  },
  {
   "cell_type": "code",
   "execution_count": 14,
   "metadata": {},
   "outputs": [
    {
     "name": "stdout",
     "output_type": "stream",
     "text": [
      "[6]\n"
     ]
    }
   ],
   "source": [
    "print(batch_creator.examined_images)"
   ]
  },
  {
   "cell_type": "code",
   "execution_count": null,
   "metadata": {},
   "outputs": [],
   "source": []
  }
 ],
 "metadata": {
  "kernelspec": {
   "display_name": "Python 3",
   "language": "python",
   "name": "python3"
  },
  "language_info": {
   "codemirror_mode": {
    "name": "ipython",
    "version": 3
   },
   "file_extension": ".py",
   "mimetype": "text/x-python",
   "name": "python",
   "nbconvert_exporter": "python",
   "pygments_lexer": "ipython3",
   "version": "3.5.2"
  }
 },
 "nbformat": 4,
 "nbformat_minor": 2
}
